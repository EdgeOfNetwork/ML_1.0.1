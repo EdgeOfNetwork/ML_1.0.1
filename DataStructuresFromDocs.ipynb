{
 "cells": [
  {
   "cell_type": "markdown",
   "metadata": {},
   "source": [
    "## Mutable / immutable \n",
    "\n",
    "## call by ref / call by val => Pass by reference"
   ]
  },
  {
   "cell_type": "code",
   "execution_count": 208,
   "metadata": {},
   "outputs": [
    {
     "name": "stdout",
     "output_type": "stream",
     "text": [
      "<class 'int'>\n",
      "140720777171776\n",
      "140720777171776\n",
      "2620581921544\n",
      "<class 'list'>\n",
      "2620581921544\n"
     ]
    }
   ],
   "source": [
    "class numb:\n",
    "    def __init__(self, a):\n",
    "        print(id(a))\n",
    "        self.a = a\n",
    "\n",
    "    \n",
    "target_value = 1\n",
    "print(type(target_value))\n",
    "print(id(target_value))\n",
    "\n",
    "a = numb(target_value)\n",
    "\n",
    "target_list = [1, 2]\n",
    "a1 = numb(target_list)\n",
    "print(type(target_list))\n",
    "print(id(target_list))"
   ]
  },
  {
   "cell_type": "code",
   "execution_count": 219,
   "metadata": {},
   "outputs": [
    {
     "data": {
      "text/plain": [
       "('new-value', 100)"
      ]
     },
     "execution_count": 219,
     "metadata": {},
     "output_type": "execute_result"
    }
   ],
   "source": [
    ">>> def func1(a, b):\n",
    "...     a = 'new-value'        # a and b are local names\n",
    "...     b = b + 1              # assigned to new objects\n",
    "...     return a, b            # return new values\n",
    "...\n",
    ">>> x, y = 'old-value', 99\n",
    ">>> func1(x, y)\n",
    "\n",
    "#좋은 사례"
   ]
  },
  {
   "cell_type": "code",
   "execution_count": 224,
   "metadata": {},
   "outputs": [
    {
     "data": {
      "text/plain": [
       "['new-value', 100]"
      ]
     },
     "execution_count": 224,
     "metadata": {},
     "output_type": "execute_result"
    }
   ],
   "source": [
    "def func2(a):\n",
    "    a[0] = 'new-value'\n",
    "    a[1] = a[1] + 1\n",
    "\n",
    "args = ['old-value', 99]\n",
    "func2(args)\n",
    "args"
   ]
  },
  {
   "cell_type": "code",
   "execution_count": 234,
   "metadata": {},
   "outputs": [
    {
     "name": "stdout",
     "output_type": "stream",
     "text": [
      "before, outer_list = ['one', 'two', 'three']\n",
      "2620581901128\n",
      "got ['one', 'two', 'three']\n",
      "the_list 2620581901128\n",
      "changed to ['one', 'two', 'three', 'four']\n",
      "2620581901128\n",
      "after, outer_list = ['one', 'two', 'three', 'four']\n"
     ]
    }
   ],
   "source": [
    "#LIST  - no copy \n",
    "\n",
    "\n",
    "def try_to_change_list_contents(the_list):\n",
    "    print('got', the_list)\n",
    "    the_list.append('four')\n",
    "    print(\"the_list\", id(the_list))\n",
    "    print('changed to', the_list)\n",
    "\n",
    "outer_list = ['one', 'two', 'three']\n",
    "\n",
    "print('before, outer_list =', outer_list)\n",
    "print(id(outer_list))\n",
    "try_to_change_list_contents(outer_list)\n",
    "print(id(outer_list))\n",
    "print('after, outer_list =', outer_list)"
   ]
  },
  {
   "cell_type": "code",
   "execution_count": 236,
   "metadata": {},
   "outputs": [
    {
     "name": "stdout",
     "output_type": "stream",
     "text": [
      "before, outer_list = ['we', 'like', 'proper', 'English']\n",
      "2620581902856\n",
      "got ['we', 'like', 'proper', 'English']\n",
      "2620581924680\n",
      "set to ['and', 'we', 'can', 'not', 'lie']\n",
      "2620581902856\n",
      "after, outer_list = ['we', 'like', 'proper', 'English']\n"
     ]
    }
   ],
   "source": [
    "#List - COPY\n",
    "\n",
    "def try_to_change_list_reference(the_list):\n",
    "    print('got', the_list)\n",
    "    the_list = ['and', 'we', 'can', 'not', 'lie']\n",
    "    print(id(the_list))\n",
    "    print('set to', the_list)\n",
    "\n",
    "outer_list = ['we', 'like', 'proper', 'English']\n",
    "\n",
    "print('before, outer_list =', outer_list)\n",
    "print(id(outer_list))\n",
    "try_to_change_list_reference(outer_list)\n",
    "print(id(outer_list))\n",
    "print('after, outer_list =', outer_list)"
   ]
  },
  {
   "cell_type": "code",
   "execution_count": 240,
   "metadata": {},
   "outputs": [
    {
     "name": "stdout",
     "output_type": "stream",
     "text": [
      "before, outer_string = It was many and many a year ago\n",
      "2620581991648\n",
      "got It was many and many a year ago\n",
      "2620581991648\n",
      "2620561449080\n",
      "set to In a kingdom by the sea\n",
      "after, outer_string = It was many and many a year ago\n"
     ]
    }
   ],
   "source": [
    "def try_to_change_string_reference(the_string):\n",
    "    print('got', the_string)\n",
    "    print(id(the_string))\n",
    "    the_string = 'In a kingdom by the sea'\n",
    "    print(id(the_string))\n",
    "    print('set to', the_string)\n",
    "\n",
    "outer_string = 'It was many and many a year ago'\n",
    "\n",
    "print('before, outer_string =', outer_string)\n",
    "print(id(outer_string))\n",
    "try_to_change_string_reference(outer_string)\n",
    "print('after, outer_string =', outer_string)"
   ]
  },
  {
   "cell_type": "code",
   "execution_count": 242,
   "metadata": {},
   "outputs": [
    {
     "name": "stdout",
     "output_type": "stream",
     "text": [
      "before, outer_string = It was many and many a year ago\n",
      "2620581991728\n",
      "2620581991728\n",
      "2620582010360\n",
      "set to In a kingdom by the sea\n",
      "after, outer_string = It was many and many a year ago\n"
     ]
    }
   ],
   "source": [
    "def try_to_change_string_reference(the_string):\n",
    "    print(id(the_string))\n",
    "    _the_string = the_string\n",
    "    _the_string = 'In a kingdom by the sea'\n",
    "    print(id(_the_string))\n",
    "    print('set to', _the_string)\n",
    "\n",
    "outer_string = 'It was many and many a year ago'\n",
    "\n",
    "print('before, outer_string =', outer_string)\n",
    "print(id(outer_string))\n",
    "try_to_change_string_reference(outer_string)\n",
    "print('after, outer_string =', outer_string)"
   ]
  },
  {
   "cell_type": "code",
   "execution_count": 246,
   "metadata": {},
   "outputs": [
    {
     "name": "stdout",
     "output_type": "stream",
     "text": [
      "before, outer_string = It was many and many a year ago\n",
      "after, outer_string = It was many and many a year ago\n"
     ]
    }
   ],
   "source": [
    "def try_to_change_string_reference(the_string):\n",
    "    the_string = 'In a kingdom by the sea' \n",
    "    return the_string\n",
    "\n",
    "outer_string = 'It was many and many a year ago'\n",
    "\n",
    "print('before, outer_string =', outer_string)\n",
    "try_to_change_string_reference(outer_string)\n",
    "print('after, outer_string =', outer_string)"
   ]
  },
  {
   "cell_type": "code",
   "execution_count": 248,
   "metadata": {},
   "outputs": [
    {
     "ename": "NameError",
     "evalue": "name 'something_to_do_with_the_old_string' is not defined",
     "output_type": "error",
     "traceback": [
      "\u001b[1;31m---------------------------------------------------------------------------\u001b[0m",
      "\u001b[1;31mNameError\u001b[0m                                 Traceback (most recent call last)",
      "\u001b[1;32m<ipython-input-248-e7760e76b934>\u001b[0m in \u001b[0;36m<module>\u001b[1;34m\u001b[0m\n\u001b[0;32m      5\u001b[0m \u001b[1;31m# then you could call it like\u001b[0m\u001b[1;33m\u001b[0m\u001b[1;33m\u001b[0m\u001b[1;33m\u001b[0m\u001b[0m\n\u001b[0;32m      6\u001b[0m \u001b[0mmy_string\u001b[0m \u001b[1;33m=\u001b[0m \u001b[1;34m\"mystr\"\u001b[0m\u001b[1;33m\u001b[0m\u001b[1;33m\u001b[0m\u001b[0m\n\u001b[1;32m----> 7\u001b[1;33m \u001b[0mmy_string\u001b[0m \u001b[1;33m=\u001b[0m \u001b[0mreturn_a_whole_new_string\u001b[0m\u001b[1;33m(\u001b[0m\u001b[0mmy_string\u001b[0m\u001b[1;33m)\u001b[0m\u001b[1;33m\u001b[0m\u001b[1;33m\u001b[0m\u001b[0m\n\u001b[0m",
      "\u001b[1;32m<ipython-input-248-e7760e76b934>\u001b[0m in \u001b[0;36mreturn_a_whole_new_string\u001b[1;34m(the_string)\u001b[0m\n\u001b[0;32m      1\u001b[0m \u001b[1;32mdef\u001b[0m \u001b[0mreturn_a_whole_new_string\u001b[0m\u001b[1;33m(\u001b[0m\u001b[0mthe_string\u001b[0m\u001b[1;33m)\u001b[0m\u001b[1;33m:\u001b[0m\u001b[1;33m\u001b[0m\u001b[1;33m\u001b[0m\u001b[0m\n\u001b[1;32m----> 2\u001b[1;33m     \u001b[0mnew_string\u001b[0m \u001b[1;33m=\u001b[0m \u001b[0msomething_to_do_with_the_old_string\u001b[0m\u001b[1;33m(\u001b[0m\u001b[0mthe_string\u001b[0m\u001b[1;33m)\u001b[0m\u001b[1;33m\u001b[0m\u001b[1;33m\u001b[0m\u001b[0m\n\u001b[0m\u001b[0;32m      3\u001b[0m     \u001b[1;32mreturn\u001b[0m \u001b[0mnew_string\u001b[0m\u001b[1;33m\u001b[0m\u001b[1;33m\u001b[0m\u001b[0m\n\u001b[0;32m      4\u001b[0m \u001b[1;33m\u001b[0m\u001b[0m\n\u001b[0;32m      5\u001b[0m \u001b[1;31m# then you could call it like\u001b[0m\u001b[1;33m\u001b[0m\u001b[1;33m\u001b[0m\u001b[1;33m\u001b[0m\u001b[0m\n",
      "\u001b[1;31mNameError\u001b[0m: name 'something_to_do_with_the_old_string' is not defined"
     ]
    }
   ],
   "source": [
    "def return_a_whole_new_string(the_string):\n",
    "    new_string = something_to_do_with_the_old_string(the_string)\n",
    "    return new_string\n",
    "\n",
    "# then you could call it like\n",
    "my_string = \"mystr\"\n",
    "my_string = return_a_whole_new_string(my_string)\n",
    "\n",
    "def use_a_wrapper_to_simulate_pass_by_reference(stuff_to_change):\n",
    "    new_string = something_to_do_with_the_old_string(stuff_to_change[0])\n",
    "    stuff_to_change[0] = new_string\n",
    "\n",
    "# then you could call it like\n",
    "wrapper = [my_string]\n",
    "use_a_wrapper_to_simulate_pass_by_reference(wrapper)\n",
    "\n",
    "do_something_with(wrapper[0])"
   ]
  },
  {
   "cell_type": "markdown",
   "metadata": {},
   "source": [
    "## List"
   ]
  },
  {
   "cell_type": "code",
   "execution_count": 63,
   "metadata": {},
   "outputs": [
    {
     "name": "stdout",
     "output_type": "stream",
     "text": [
      "[15, 'string', (), [1, 2, 3]]\n"
     ]
    }
   ],
   "source": [
    "#Add an item to the end of the list. Equivalent to a[len(a):] = [x].\n",
    "a = []\n",
    "a.append(15)\n",
    "a.append('string')\n",
    "a.append(())\n",
    "a.append([1, 2, 3])\n",
    "print(a)"
   ]
  },
  {
   "cell_type": "code",
   "execution_count": 64,
   "metadata": {},
   "outputs": [
    {
     "name": "stdout",
     "output_type": "stream",
     "text": [
      "[15, 'string', (), [1, 2, 3], 3, 4, 5]\n"
     ]
    }
   ],
   "source": [
    "#Extend the list by appending all the items from the iterable. Equivalent to a[len(a):] = iterable.\n",
    "b = [3,4,5]\n",
    "a.extend(b)\n",
    "print(a)"
   ]
  },
  {
   "cell_type": "code",
   "execution_count": 65,
   "metadata": {},
   "outputs": [
    {
     "name": "stdout",
     "output_type": "stream",
     "text": [
      "[15, 'string', (), [1, 2, 3], 3, 'target', 4, 5]\n",
      "[15, 'string', (), [1, 2, 3], 3, '밀려나라', 'target', 4, 5]\n"
     ]
    }
   ],
   "source": [
    "#Insert an item at a given position. The first argument is the index of the element before which to insert, \n",
    "#so a.insert(0, x) inserts at the front of the list, and a.insert(len(a), x) is equivalent to a.append(x).\n",
    "a.insert(5, 'target')\n",
    "print(a)\n",
    "a.insert(5, '밀려나라')\n",
    "print(a)"
   ]
  },
  {
   "cell_type": "code",
   "execution_count": 66,
   "metadata": {},
   "outputs": [
    {
     "name": "stdout",
     "output_type": "stream",
     "text": [
      "[15, 'string', (), [1, 2, 3], '밀려나라', 'target', 4, 5]\n"
     ]
    }
   ],
   "source": [
    "#Remove the first item from the list whose value is equal to x. It raises a ValueError if there is no such item.\n",
    "a.remove(3)\n",
    "print(a)\n",
    "#리스트 안에 이중으로 된 리스트 내부 3은 어떻게 제거할까?"
   ]
  },
  {
   "cell_type": "code",
   "execution_count": 67,
   "metadata": {},
   "outputs": [
    {
     "name": "stdout",
     "output_type": "stream",
     "text": [
      "[15, 'string', (), [1, 2, 3], '밀려나라', 'target', 4]\n",
      "[15, 'string', (), '밀려나라', 'target', 4]\n"
     ]
    }
   ],
   "source": [
    "#Remove the item at the given position in the list,\n",
    "a.pop()\n",
    "print(a)\n",
    "a.pop(3)\n",
    "print(a)"
   ]
  },
  {
   "cell_type": "code",
   "execution_count": 74,
   "metadata": {},
   "outputs": [
    {
     "name": "stdout",
     "output_type": "stream",
     "text": [
      "2\n",
      "0\n",
      "3\n",
      "6\n",
      "['banana', 'apple', 'kiwi', 'banana', 'pear', 'apple', 'orange']\n",
      "['apple', 'apple', 'banana', 'banana', 'kiwi', 'orange', 'pear']\n",
      "pear\n"
     ]
    }
   ],
   "source": [
    "fruits = ['orange', 'apple', 'pear', 'banana', 'kiwi', 'apple', 'banana']\n",
    "print(fruits.count('apple'))\n",
    "print(fruits.count('tangerine'))\n",
    "print(fruits.index('banana'))\n",
    "print(fruits.index('banana', 4)) #Find next banana starting a position 4\n",
    "fruits.reverse()\n",
    "print(fruits)\n",
    "\n",
    "fruits.sort()\n",
    "print(fruits)\n",
    "\n",
    "print(fruits.pop())"
   ]
  },
  {
   "cell_type": "code",
   "execution_count": 190,
   "metadata": {},
   "outputs": [
    {
     "data": {
      "text/plain": [
       "['apple', 'apple', 'banana', 'banana', 'kiwi', 'orange']"
      ]
     },
     "execution_count": 190,
     "metadata": {},
     "output_type": "execute_result"
    }
   ],
   "source": [
    "fruits"
   ]
  },
  {
   "cell_type": "markdown",
   "metadata": {},
   "source": [
    "## Copy"
   ]
  },
  {
   "cell_type": "code",
   "execution_count": 214,
   "metadata": {},
   "outputs": [
    {
     "name": "stdout",
     "output_type": "stream",
     "text": [
      "2620581924552\n",
      "2620581924552 2620581924552\n",
      "2620581924552 2620581924552\n",
      "[1, 2, 3, 4] ['a', 'b']\n"
     ]
    }
   ],
   "source": [
    "a = [1, 2, 3]\n",
    "print(id(a))\n",
    "\n",
    "b = a\n",
    "print(id(a),id(b))\n",
    "\n",
    "b.append(4)\n",
    "print(id(a),id(b))\n",
    "\n",
    "b = ['a', 'b']\n",
    "print(a, b) "
   ]
  },
  {
   "cell_type": "code",
   "execution_count": 215,
   "metadata": {},
   "outputs": [],
   "source": [
    "class PassByReference:\n",
    "    def __init__(self):\n",
    "        self.variable = 'Original'\n",
    "        self.change(self.variable)\n",
    "        print(self.variable)\n",
    "\n",
    "    def change(self, var):\n",
    "        var = 'Changed'"
   ]
  },
  {
   "cell_type": "markdown",
   "metadata": {},
   "source": [
    "## Using Lists as Stacks , Queues"
   ]
  },
  {
   "cell_type": "code",
   "execution_count": null,
   "metadata": {},
   "outputs": [],
   "source": []
  },
  {
   "cell_type": "code",
   "execution_count": 128,
   "metadata": {},
   "outputs": [
    {
     "name": "stdout",
     "output_type": "stream",
     "text": [
      "[3, 4, 5, 6]\n",
      "[3, 4, 5]\n"
     ]
    }
   ],
   "source": [
    "stack = [3, 4, 5]\n",
    "stack.append(6)\n",
    "print(stack)\n",
    "stack.pop()\n",
    "print(stack)"
   ]
  },
  {
   "cell_type": "code",
   "execution_count": 144,
   "metadata": {},
   "outputs": [
    {
     "name": "stdout",
     "output_type": "stream",
     "text": [
      "deque(['Eric', 'John', 'Michael', 'Terry', 'Graham'])\n"
     ]
    },
    {
     "data": {
      "text/plain": [
       "'Eric'"
      ]
     },
     "execution_count": 144,
     "metadata": {},
     "output_type": "execute_result"
    }
   ],
   "source": [
    "from collections import deque\n",
    "\n",
    "\n",
    "queue = deque([\"Eric\", \"John\", \"Michael\"])\n",
    "queue.append(\"Terry\")\n",
    "queue.append(\"Graham\")\n",
    "print(queue)\n",
    "queue.popleft()"
   ]
  },
  {
   "cell_type": "markdown",
   "metadata": {},
   "source": [
    "## List Comprehensions"
   ]
  },
  {
   "cell_type": "code",
   "execution_count": 135,
   "metadata": {},
   "outputs": [
    {
     "data": {
      "text/plain": [
       "[0, 1, 4, 9, 16, 25, 36, 49, 64, 81]"
      ]
     },
     "execution_count": 135,
     "metadata": {},
     "output_type": "execute_result"
    }
   ],
   "source": [
    "#List comprehensions\n",
    "\n",
    "#squares = []\n",
    "# for x in range(10):\n",
    "#     squares.append(x**2)\n",
    "\n",
    "squares = list(map(lambda x: x**2, range(10)))\n",
    "    \n",
    "squares"
   ]
  },
  {
   "cell_type": "code",
   "execution_count": 137,
   "metadata": {},
   "outputs": [
    {
     "data": {
      "text/plain": [
       "[0, 1, 8, 27, 64, 125, 216, 343, 512, 729]"
      ]
     },
     "execution_count": 137,
     "metadata": {},
     "output_type": "execute_result"
    }
   ],
   "source": [
    "squares = [x**3 for x in range(10)]\n",
    "squares"
   ]
  },
  {
   "cell_type": "code",
   "execution_count": 143,
   "metadata": {},
   "outputs": [
    {
     "name": "stdout",
     "output_type": "stream",
     "text": [
      "[(1, 3), (1, 4), (2, 3), (2, 1), (2, 4), (3, 1), (3, 4)]\n",
      "[(1, 3), (1, 4), (2, 3), (2, 1), (2, 4), (3, 1), (3, 4)]\n"
     ]
    }
   ],
   "source": [
    "combs = []\n",
    "for x in [1,2,3]:\n",
    "    for y in [3,1,4]:\n",
    "        if x != y:\n",
    "            combs.append((x, y))\n",
    "\n",
    "print(combs)\n",
    "print([(x, y) for x in [1,2,3] for y in [3,1,4] if x != y])"
   ]
  },
  {
   "cell_type": "markdown",
   "metadata": {},
   "source": [
    "## Nested List Comprehensions"
   ]
  },
  {
   "cell_type": "code",
   "execution_count": 145,
   "metadata": {},
   "outputs": [],
   "source": [
    ">>> matrix = [\n",
    "...     [1, 2, 3, 4],\n",
    "...     [5, 6, 7, 8],\n",
    "...     [9, 10, 11, 12],\n",
    "... ]"
   ]
  },
  {
   "cell_type": "code",
   "execution_count": 147,
   "metadata": {},
   "outputs": [
    {
     "data": {
      "text/plain": [
       "[(1, 5, 9), (2, 6, 10), (3, 7, 11), (4, 8, 12)]"
      ]
     },
     "execution_count": 147,
     "metadata": {},
     "output_type": "execute_result"
    }
   ],
   "source": [
    "list(zip(*matrix))"
   ]
  },
  {
   "cell_type": "markdown",
   "metadata": {},
   "source": [
    "## del"
   ]
  },
  {
   "cell_type": "code",
   "execution_count": null,
   "metadata": {},
   "outputs": [],
   "source": []
  },
  {
   "cell_type": "markdown",
   "metadata": {},
   "source": [
    "## Tuples and Sequences"
   ]
  },
  {
   "cell_type": "code",
   "execution_count": 150,
   "metadata": {},
   "outputs": [
    {
     "name": "stdout",
     "output_type": "stream",
     "text": [
      "12345\n",
      "<class 'tuple'>\n",
      "((12345, 54321, 'hello!'), (1, 2, 3, 4, 5))\n"
     ]
    }
   ],
   "source": [
    "t = 12345, 54321, 'hello!'\n",
    "print(t[0])\n",
    "print(type(t))\n",
    "\n",
    "u = t, (1, 2, 3, 4, 5)\n",
    "print(u)"
   ]
  },
  {
   "cell_type": "code",
   "execution_count": 152,
   "metadata": {},
   "outputs": [
    {
     "ename": "TypeError",
     "evalue": "'tuple' object does not support item assignment",
     "output_type": "error",
     "traceback": [
      "\u001b[1;31m---------------------------------------------------------------------------\u001b[0m",
      "\u001b[1;31mTypeError\u001b[0m                                 Traceback (most recent call last)",
      "\u001b[1;32m<ipython-input-152-0ee0dad819f7>\u001b[0m in \u001b[0;36m<module>\u001b[1;34m\u001b[0m\n\u001b[1;32m----> 1\u001b[1;33m \u001b[0mt\u001b[0m\u001b[1;33m[\u001b[0m\u001b[1;36m0\u001b[0m\u001b[1;33m]\u001b[0m \u001b[1;33m=\u001b[0m \u001b[1;36m88888\u001b[0m \u001b[1;31m#tuples are immutable\u001b[0m\u001b[1;33m\u001b[0m\u001b[1;33m\u001b[0m\u001b[0m\n\u001b[0m",
      "\u001b[1;31mTypeError\u001b[0m: 'tuple' object does not support item assignment"
     ]
    }
   ],
   "source": [
    "t[0] = 88888 #tuples are immutable"
   ]
  },
  {
   "cell_type": "code",
   "execution_count": 154,
   "metadata": {},
   "outputs": [
    {
     "data": {
      "text/plain": [
       "([1, 2, 3], [3, 2, 1])"
      ]
     },
     "execution_count": 154,
     "metadata": {},
     "output_type": "execute_result"
    }
   ],
   "source": [
    "v = ([1, 2, 3], [3, 2, 1]) # but they can contain mutable objects:\n",
    "v"
   ]
  },
  {
   "cell_type": "markdown",
   "metadata": {},
   "source": [
    "## Dictionaries"
   ]
  },
  {
   "cell_type": "code",
   "execution_count": 170,
   "metadata": {},
   "outputs": [
    {
     "data": {
      "text/plain": [
       "{'jack': 4098, 'sape': 4139, 'guido': 4127}"
      ]
     },
     "execution_count": 170,
     "metadata": {},
     "output_type": "execute_result"
    }
   ],
   "source": [
    "tel = {'jack': 4098, 'sape': 4139}\n",
    "tel['guido'] = 4127\n",
    "tel"
   ]
  },
  {
   "cell_type": "code",
   "execution_count": 171,
   "metadata": {},
   "outputs": [
    {
     "data": {
      "text/plain": [
       "{'jack': 4098, 'guido': 4127}"
      ]
     },
     "execution_count": 171,
     "metadata": {},
     "output_type": "execute_result"
    }
   ],
   "source": [
    "del tel['sape']\n",
    "tel"
   ]
  },
  {
   "cell_type": "code",
   "execution_count": 172,
   "metadata": {},
   "outputs": [
    {
     "data": {
      "text/plain": [
       "['jack', 'guido']"
      ]
     },
     "execution_count": 172,
     "metadata": {},
     "output_type": "execute_result"
    }
   ],
   "source": [
    "list(tel)"
   ]
  },
  {
   "cell_type": "code",
   "execution_count": 174,
   "metadata": {},
   "outputs": [
    {
     "data": {
      "text/plain": [
       "['guido', 'jack']"
      ]
     },
     "execution_count": 174,
     "metadata": {},
     "output_type": "execute_result"
    }
   ],
   "source": [
    "sorted(tel)"
   ]
  },
  {
   "cell_type": "code",
   "execution_count": 175,
   "metadata": {
    "scrolled": true
   },
   "outputs": [
    {
     "data": {
      "text/plain": [
       "{'sape': 4139, 'guido': 4127, 'jack': 4098}"
      ]
     },
     "execution_count": 175,
     "metadata": {},
     "output_type": "execute_result"
    }
   ],
   "source": [
    "dict([('sape', 4139), ('guido', 4127), ('jack', 4098)])"
   ]
  },
  {
   "cell_type": "code",
   "execution_count": 177,
   "metadata": {},
   "outputs": [
    {
     "data": {
      "text/plain": [
       "{2: 4, 4: 16, 6: 36}"
      ]
     },
     "execution_count": 177,
     "metadata": {},
     "output_type": "execute_result"
    }
   ],
   "source": [
    "{x: x**2 for x in (2, 4 ,6)}"
   ]
  },
  {
   "cell_type": "markdown",
   "metadata": {},
   "source": [
    "## Looping Tech"
   ]
  },
  {
   "cell_type": "code",
   "execution_count": 179,
   "metadata": {},
   "outputs": [
    {
     "name": "stdout",
     "output_type": "stream",
     "text": [
      "gallahad the pure\n",
      "robin the brave\n"
     ]
    }
   ],
   "source": [
    "knights = {'gallahad': 'the pure', 'robin': 'the brave'}\n",
    "for k, v in knights.items():\n",
    "    print(k, v)"
   ]
  },
  {
   "cell_type": "code",
   "execution_count": 181,
   "metadata": {},
   "outputs": [
    {
     "name": "stdout",
     "output_type": "stream",
     "text": [
      "0 tic\n",
      "1 tac\n",
      "2 toe\n"
     ]
    }
   ],
   "source": [
    "for i, v in enumerate(['tic','tac','toe']):\n",
    "    print(i, v)"
   ]
  },
  {
   "cell_type": "code",
   "execution_count": 184,
   "metadata": {},
   "outputs": [
    {
     "name": "stdout",
     "output_type": "stream",
     "text": [
      "what is your name? It is lancelot\n",
      "what is your quest? It is the holy grail\n",
      "what is your favorite color? It is blue\n"
     ]
    }
   ],
   "source": [
    "questions = ['name', 'quest', 'favorite color']\n",
    "answers = ['lancelot', 'the holy grail', 'blue']\n",
    "\n",
    "\n",
    "for q, a in zip(questions, answers):\n",
    "    print('what is your {0}? It is {1}'.format(q, a))"
   ]
  },
  {
   "cell_type": "code",
   "execution_count": 186,
   "metadata": {},
   "outputs": [
    {
     "name": "stdout",
     "output_type": "stream",
     "text": [
      "9\n",
      "7\n",
      "5\n",
      "3\n",
      "1\n"
     ]
    }
   ],
   "source": [
    "for i in reversed(range(1, 10, 2)):\n",
    "    print(i)"
   ]
  },
  {
   "cell_type": "code",
   "execution_count": 188,
   "metadata": {},
   "outputs": [
    {
     "name": "stdout",
     "output_type": "stream",
     "text": [
      "apple\n",
      "banana\n",
      "orange\n",
      "pear\n"
     ]
    }
   ],
   "source": [
    "basket = ['apple', 'orange', 'apple', 'pear', 'orange', 'banana']\n",
    "for f in sorted(set(basket)):\n",
    "    print(f)"
   ]
  },
  {
   "cell_type": "code",
   "execution_count": 189,
   "metadata": {},
   "outputs": [
    {
     "data": {
      "text/plain": [
       "[56.2, 51.7, 55.3, 52.5, 47.8]"
      ]
     },
     "execution_count": 189,
     "metadata": {},
     "output_type": "execute_result"
    }
   ],
   "source": [
    "import math\n",
    "\n",
    "\n",
    "raw_data = [56.2, float('NaN'), 51.7, 55.3, 52.5, float('NaN'), 47.8]\n",
    "filtered_data = []\n",
    "\n",
    "for value in raw_data:\n",
    "    if not math.isnan(value):\n",
    "        filtered_data.append(value)\n",
    "        \n",
    "filtered_data"
   ]
  },
  {
   "cell_type": "markdown",
   "metadata": {},
   "source": [
    "## numpy는 왜 사용하는 것일까?"
   ]
  },
  {
   "cell_type": "code",
   "execution_count": 161,
   "metadata": {},
   "outputs": [
    {
     "name": "stdout",
     "output_type": "stream",
     "text": [
      "[1, 2, 3, 2, 3, 4]\n",
      "[3 5 7]\n",
      "[1, 2, 3, 1, 2, 3, 1, 2, 3]\n",
      "[3 6 9]\n"
     ]
    }
   ],
   "source": [
    "import numpy as np\n",
    "\n",
    "list1 = [1, 2, 3]\n",
    "list2 = [2, 3, 4]\n",
    "\n",
    "list3 = np.array([1, 2, 3])\n",
    "list4 = np.array([2, 3, 4])\n",
    "\n",
    "print(list1 + list2)\n",
    "print(list3 + list4)\n",
    "print(list1 * 3)\n",
    "print(list3 * 3) #브로드 캐스팅 "
   ]
  },
  {
   "cell_type": "code",
   "execution_count": null,
   "metadata": {},
   "outputs": [],
   "source": []
  }
 ],
 "metadata": {
  "kernelspec": {
   "display_name": "Python 3",
   "language": "python",
   "name": "python3"
  },
  "language_info": {
   "codemirror_mode": {
    "name": "ipython",
    "version": 3
   },
   "file_extension": ".py",
   "mimetype": "text/x-python",
   "name": "python",
   "nbconvert_exporter": "python",
   "pygments_lexer": "ipython3",
   "version": "3.7.3"
  }
 },
 "nbformat": 4,
 "nbformat_minor": 2
}
