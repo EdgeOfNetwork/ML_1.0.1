{
 "cells": [
  {
   "cell_type": "code",
   "execution_count": 57,
   "id": "fe7b4431",
   "metadata": {},
   "outputs": [],
   "source": [
    "import pandas as pd\n",
    "import numpy as np\n",
    "import seaborn as sns\n",
    "import matplotlib.pyplot as plt\n",
    "import datetime as dt\n",
    "import scipy"
   ]
  },
  {
   "cell_type": "code",
   "execution_count": 58,
   "id": "0f51fd18",
   "metadata": {},
   "outputs": [],
   "source": [
    "file_source = \"data/bike-sharing-demand/\"\n",
    "\n",
    "train = pd.read_csv(file_source + \"train.csv\", parse_dates = ['datetime'])\n",
    "test =  pd.read_csv(file_source + \"test.csv\", parse_dates = ['datetime'])"
   ]
  },
  {
   "cell_type": "code",
   "execution_count": 59,
   "id": "51098b0c",
   "metadata": {},
   "outputs": [
    {
     "name": "stdout",
     "output_type": "stream",
     "text": [
      "<class 'pandas.core.frame.DataFrame'>\n",
      "RangeIndex: 10886 entries, 0 to 10885\n",
      "Data columns (total 12 columns):\n",
      " #   Column      Non-Null Count  Dtype         \n",
      "---  ------      --------------  -----         \n",
      " 0   datetime    10886 non-null  datetime64[ns]\n",
      " 1   season      10886 non-null  int64         \n",
      " 2   holiday     10886 non-null  int64         \n",
      " 3   workingday  10886 non-null  int64         \n",
      " 4   weather     10886 non-null  int64         \n",
      " 5   temp        10886 non-null  float64       \n",
      " 6   atemp       10886 non-null  float64       \n",
      " 7   humidity    10886 non-null  int64         \n",
      " 8   windspeed   10886 non-null  float64       \n",
      " 9   casual      10886 non-null  int64         \n",
      " 10  registered  10886 non-null  int64         \n",
      " 11  count       10886 non-null  int64         \n",
      "dtypes: datetime64[ns](1), float64(3), int64(8)\n",
      "memory usage: 1020.7 KB\n"
     ]
    }
   ],
   "source": [
    "train.info() #Dtype을 object를 "
   ]
  },
  {
   "cell_type": "code",
   "execution_count": 60,
   "id": "8781d355",
   "metadata": {},
   "outputs": [
    {
     "name": "stdout",
     "output_type": "stream",
     "text": [
      "(10886, 12)\n",
      "(6493, 9)\n"
     ]
    }
   ],
   "source": [
    "print(train.shape)\n",
    "print(test.shape)"
   ]
  },
  {
   "cell_type": "code",
   "execution_count": 61,
   "id": "647f7a89",
   "metadata": {},
   "outputs": [
    {
     "data": {
      "text/html": [
       "<div>\n",
       "<style scoped>\n",
       "    .dataframe tbody tr th:only-of-type {\n",
       "        vertical-align: middle;\n",
       "    }\n",
       "\n",
       "    .dataframe tbody tr th {\n",
       "        vertical-align: top;\n",
       "    }\n",
       "\n",
       "    .dataframe thead th {\n",
       "        text-align: right;\n",
       "    }\n",
       "</style>\n",
       "<table border=\"1\" class=\"dataframe\">\n",
       "  <thead>\n",
       "    <tr style=\"text-align: right;\">\n",
       "      <th></th>\n",
       "      <th>datetime</th>\n",
       "      <th>season</th>\n",
       "      <th>holiday</th>\n",
       "      <th>workingday</th>\n",
       "      <th>weather</th>\n",
       "      <th>temp</th>\n",
       "      <th>atemp</th>\n",
       "      <th>humidity</th>\n",
       "      <th>windspeed</th>\n",
       "      <th>casual</th>\n",
       "      <th>registered</th>\n",
       "      <th>count</th>\n",
       "    </tr>\n",
       "  </thead>\n",
       "  <tbody>\n",
       "    <tr>\n",
       "      <th>0</th>\n",
       "      <td>2011-01-01 00:00:00</td>\n",
       "      <td>1</td>\n",
       "      <td>0</td>\n",
       "      <td>0</td>\n",
       "      <td>1</td>\n",
       "      <td>9.84</td>\n",
       "      <td>14.395</td>\n",
       "      <td>81</td>\n",
       "      <td>0.0</td>\n",
       "      <td>3</td>\n",
       "      <td>13</td>\n",
       "      <td>16</td>\n",
       "    </tr>\n",
       "    <tr>\n",
       "      <th>1</th>\n",
       "      <td>2011-01-01 01:00:00</td>\n",
       "      <td>1</td>\n",
       "      <td>0</td>\n",
       "      <td>0</td>\n",
       "      <td>1</td>\n",
       "      <td>9.02</td>\n",
       "      <td>13.635</td>\n",
       "      <td>80</td>\n",
       "      <td>0.0</td>\n",
       "      <td>8</td>\n",
       "      <td>32</td>\n",
       "      <td>40</td>\n",
       "    </tr>\n",
       "    <tr>\n",
       "      <th>2</th>\n",
       "      <td>2011-01-01 02:00:00</td>\n",
       "      <td>1</td>\n",
       "      <td>0</td>\n",
       "      <td>0</td>\n",
       "      <td>1</td>\n",
       "      <td>9.02</td>\n",
       "      <td>13.635</td>\n",
       "      <td>80</td>\n",
       "      <td>0.0</td>\n",
       "      <td>5</td>\n",
       "      <td>27</td>\n",
       "      <td>32</td>\n",
       "    </tr>\n",
       "    <tr>\n",
       "      <th>3</th>\n",
       "      <td>2011-01-01 03:00:00</td>\n",
       "      <td>1</td>\n",
       "      <td>0</td>\n",
       "      <td>0</td>\n",
       "      <td>1</td>\n",
       "      <td>9.84</td>\n",
       "      <td>14.395</td>\n",
       "      <td>75</td>\n",
       "      <td>0.0</td>\n",
       "      <td>3</td>\n",
       "      <td>10</td>\n",
       "      <td>13</td>\n",
       "    </tr>\n",
       "    <tr>\n",
       "      <th>4</th>\n",
       "      <td>2011-01-01 04:00:00</td>\n",
       "      <td>1</td>\n",
       "      <td>0</td>\n",
       "      <td>0</td>\n",
       "      <td>1</td>\n",
       "      <td>9.84</td>\n",
       "      <td>14.395</td>\n",
       "      <td>75</td>\n",
       "      <td>0.0</td>\n",
       "      <td>0</td>\n",
       "      <td>1</td>\n",
       "      <td>1</td>\n",
       "    </tr>\n",
       "  </tbody>\n",
       "</table>\n",
       "</div>"
      ],
      "text/plain": [
       "             datetime  season  holiday  workingday  weather  temp   atemp  \\\n",
       "0 2011-01-01 00:00:00       1        0           0        1  9.84  14.395   \n",
       "1 2011-01-01 01:00:00       1        0           0        1  9.02  13.635   \n",
       "2 2011-01-01 02:00:00       1        0           0        1  9.02  13.635   \n",
       "3 2011-01-01 03:00:00       1        0           0        1  9.84  14.395   \n",
       "4 2011-01-01 04:00:00       1        0           0        1  9.84  14.395   \n",
       "\n",
       "   humidity  windspeed  casual  registered  count  \n",
       "0        81        0.0       3          13     16  \n",
       "1        80        0.0       8          32     40  \n",
       "2        80        0.0       5          27     32  \n",
       "3        75        0.0       3          10     13  \n",
       "4        75        0.0       0           1      1  "
      ]
     },
     "execution_count": 61,
     "metadata": {},
     "output_type": "execute_result"
    }
   ],
   "source": [
    "train.head(5)"
   ]
  },
  {
   "cell_type": "code",
   "execution_count": 62,
   "id": "a79ac0bf",
   "metadata": {},
   "outputs": [
    {
     "data": {
      "text/html": [
       "<div>\n",
       "<style scoped>\n",
       "    .dataframe tbody tr th:only-of-type {\n",
       "        vertical-align: middle;\n",
       "    }\n",
       "\n",
       "    .dataframe tbody tr th {\n",
       "        vertical-align: top;\n",
       "    }\n",
       "\n",
       "    .dataframe thead th {\n",
       "        text-align: right;\n",
       "    }\n",
       "</style>\n",
       "<table border=\"1\" class=\"dataframe\">\n",
       "  <thead>\n",
       "    <tr style=\"text-align: right;\">\n",
       "      <th></th>\n",
       "      <th>datetime</th>\n",
       "      <th>season</th>\n",
       "      <th>holiday</th>\n",
       "      <th>workingday</th>\n",
       "      <th>weather</th>\n",
       "      <th>temp</th>\n",
       "      <th>atemp</th>\n",
       "      <th>humidity</th>\n",
       "      <th>windspeed</th>\n",
       "    </tr>\n",
       "  </thead>\n",
       "  <tbody>\n",
       "    <tr>\n",
       "      <th>0</th>\n",
       "      <td>2011-01-20 00:00:00</td>\n",
       "      <td>1</td>\n",
       "      <td>0</td>\n",
       "      <td>1</td>\n",
       "      <td>1</td>\n",
       "      <td>10.66</td>\n",
       "      <td>11.365</td>\n",
       "      <td>56</td>\n",
       "      <td>26.0027</td>\n",
       "    </tr>\n",
       "    <tr>\n",
       "      <th>1</th>\n",
       "      <td>2011-01-20 01:00:00</td>\n",
       "      <td>1</td>\n",
       "      <td>0</td>\n",
       "      <td>1</td>\n",
       "      <td>1</td>\n",
       "      <td>10.66</td>\n",
       "      <td>13.635</td>\n",
       "      <td>56</td>\n",
       "      <td>0.0000</td>\n",
       "    </tr>\n",
       "    <tr>\n",
       "      <th>2</th>\n",
       "      <td>2011-01-20 02:00:00</td>\n",
       "      <td>1</td>\n",
       "      <td>0</td>\n",
       "      <td>1</td>\n",
       "      <td>1</td>\n",
       "      <td>10.66</td>\n",
       "      <td>13.635</td>\n",
       "      <td>56</td>\n",
       "      <td>0.0000</td>\n",
       "    </tr>\n",
       "    <tr>\n",
       "      <th>3</th>\n",
       "      <td>2011-01-20 03:00:00</td>\n",
       "      <td>1</td>\n",
       "      <td>0</td>\n",
       "      <td>1</td>\n",
       "      <td>1</td>\n",
       "      <td>10.66</td>\n",
       "      <td>12.880</td>\n",
       "      <td>56</td>\n",
       "      <td>11.0014</td>\n",
       "    </tr>\n",
       "    <tr>\n",
       "      <th>4</th>\n",
       "      <td>2011-01-20 04:00:00</td>\n",
       "      <td>1</td>\n",
       "      <td>0</td>\n",
       "      <td>1</td>\n",
       "      <td>1</td>\n",
       "      <td>10.66</td>\n",
       "      <td>12.880</td>\n",
       "      <td>56</td>\n",
       "      <td>11.0014</td>\n",
       "    </tr>\n",
       "  </tbody>\n",
       "</table>\n",
       "</div>"
      ],
      "text/plain": [
       "             datetime  season  holiday  workingday  weather   temp   atemp  \\\n",
       "0 2011-01-20 00:00:00       1        0           1        1  10.66  11.365   \n",
       "1 2011-01-20 01:00:00       1        0           1        1  10.66  13.635   \n",
       "2 2011-01-20 02:00:00       1        0           1        1  10.66  13.635   \n",
       "3 2011-01-20 03:00:00       1        0           1        1  10.66  12.880   \n",
       "4 2011-01-20 04:00:00       1        0           1        1  10.66  12.880   \n",
       "\n",
       "   humidity  windspeed  \n",
       "0        56    26.0027  \n",
       "1        56     0.0000  \n",
       "2        56     0.0000  \n",
       "3        56    11.0014  \n",
       "4        56    11.0014  "
      ]
     },
     "execution_count": 62,
     "metadata": {},
     "output_type": "execute_result"
    }
   ],
   "source": [
    "test.head(5)"
   ]
  },
  {
   "cell_type": "code",
   "execution_count": 63,
   "id": "019e02da",
   "metadata": {},
   "outputs": [
    {
     "data": {
      "text/plain": [
       "Index(['datetime', 'season', 'holiday', 'workingday', 'weather', 'temp',\n",
       "       'atemp', 'humidity', 'windspeed', 'casual', 'registered', 'count'],\n",
       "      dtype='object')"
      ]
     },
     "execution_count": 63,
     "metadata": {},
     "output_type": "execute_result"
    }
   ],
   "source": [
    "train.columns"
   ]
  },
  {
   "cell_type": "code",
   "execution_count": 64,
   "id": "bffbd39c",
   "metadata": {},
   "outputs": [
    {
     "data": {
      "text/plain": [
       "Index(['datetime', 'season', 'holiday', 'workingday', 'weather', 'temp',\n",
       "       'atemp', 'humidity', 'windspeed'],\n",
       "      dtype='object')"
      ]
     },
     "execution_count": 64,
     "metadata": {},
     "output_type": "execute_result"
    }
   ],
   "source": [
    "test.columns"
   ]
  },
  {
   "cell_type": "markdown",
   "id": "5d521b38",
   "metadata": {},
   "source": [
    "1) Train과 Test 컬럼에 차이가 나타남,   \n",
    "예측대상의 변수는 Count인데  \n",
    "Count = Casual + Registered 라는 것을 유추가 가능함  "
   ]
  },
  {
   "cell_type": "code",
   "execution_count": 65,
   "id": "7211d205",
   "metadata": {},
   "outputs": [
    {
     "name": "stdout",
     "output_type": "stream",
     "text": [
      "column:   datetime\t Percent of NaN value: 0.00%\n",
      "column:     season\t Percent of NaN value: 0.00%\n",
      "column:    holiday\t Percent of NaN value: 0.00%\n",
      "column: workingday\t Percent of NaN value: 0.00%\n",
      "column:    weather\t Percent of NaN value: 0.00%\n",
      "column:       temp\t Percent of NaN value: 0.00%\n",
      "column:      atemp\t Percent of NaN value: 0.00%\n",
      "column:   humidity\t Percent of NaN value: 0.00%\n",
      "column:  windspeed\t Percent of NaN value: 0.00%\n",
      "column:     casual\t Percent of NaN value: 0.00%\n",
      "column: registered\t Percent of NaN value: 0.00%\n",
      "column:      count\t Percent of NaN value: 0.00%\n"
     ]
    }
   ],
   "source": [
    "for col in train.columns:\n",
    "    msperc = 'column: {:>10}\\t Percent of NaN value: {:.2f}%'.format(col, 100 * (train[col].isnull().sum() / train[col].shape[0]))\n",
    "    print(msperc)\n",
    "    \n",
    "#결측치 파악하는 코드, 잊지마라"
   ]
  },
  {
   "cell_type": "code",
   "execution_count": 66,
   "id": "8c51c466",
   "metadata": {},
   "outputs": [
    {
     "name": "stdout",
     "output_type": "stream",
     "text": [
      "Requirement already satisfied: missingno in c:\\users\\qhrrl\\anaconda3\\lib\\site-packages (0.5.1)\n",
      "Requirement already satisfied: scipy in c:\\users\\qhrrl\\anaconda3\\lib\\site-packages (from missingno) (1.7.1)\n",
      "Requirement already satisfied: matplotlib in c:\\users\\qhrrl\\anaconda3\\lib\\site-packages (from missingno) (3.4.3)\n",
      "Requirement already satisfied: numpy in c:\\users\\qhrrl\\anaconda3\\lib\\site-packages (from missingno) (1.20.3)\n",
      "Requirement already satisfied: seaborn in c:\\users\\qhrrl\\anaconda3\\lib\\site-packages (from missingno) (0.11.2)\n",
      "Requirement already satisfied: pillow>=6.2.0 in c:\\users\\qhrrl\\anaconda3\\lib\\site-packages (from matplotlib->missingno) (8.4.0)\n",
      "Requirement already satisfied: python-dateutil>=2.7 in c:\\users\\qhrrl\\anaconda3\\lib\\site-packages (from matplotlib->missingno) (2.8.2)\n",
      "Requirement already satisfied: cycler>=0.10 in c:\\users\\qhrrl\\anaconda3\\lib\\site-packages (from matplotlib->missingno) (0.10.0)\n",
      "Requirement already satisfied: kiwisolver>=1.0.1 in c:\\users\\qhrrl\\anaconda3\\lib\\site-packages (from matplotlib->missingno) (1.3.1)\n",
      "Requirement already satisfied: pyparsing>=2.2.1 in c:\\users\\qhrrl\\anaconda3\\lib\\site-packages (from matplotlib->missingno) (3.0.4)\n",
      "Requirement already satisfied: pandas>=0.23 in c:\\users\\qhrrl\\anaconda3\\lib\\site-packages (from seaborn->missingno) (1.3.4)\n",
      "Requirement already satisfied: six in c:\\users\\qhrrl\\anaconda3\\lib\\site-packages (from cycler>=0.10->matplotlib->missingno) (1.16.0)\n",
      "Requirement already satisfied: pytz>=2017.3 in c:\\users\\qhrrl\\anaconda3\\lib\\site-packages (from pandas>=0.23->seaborn->missingno) (2021.3)\n"
     ]
    },
    {
     "name": "stderr",
     "output_type": "stream",
     "text": [
      "WARNING: There was an error checking the latest version of pip.\n"
     ]
    }
   ],
   "source": [
    "!pip install missingno"
   ]
  },
  {
   "cell_type": "code",
   "execution_count": 67,
   "id": "2d8ed56b",
   "metadata": {},
   "outputs": [
    {
     "data": {
      "text/plain": [
       "<AxesSubplot:>"
      ]
     },
     "execution_count": 67,
     "metadata": {},
     "output_type": "execute_result"
    },
    {
     "data": {
      "image/png": "[encoded data removed]",
      "text/plain": [
       "<Figure size 864x360 with 2 Axes>"
      ]
     },
     "metadata": {
      "needs_background": "light"
     },
     "output_type": "display_data"
    }
   ],
   "source": [
    "import missingno as msno\n",
    "\n",
    "msno.matrix(train, figsize=(12,5))\n",
    "#missing number"
   ]
  },
  {
   "cell_type": "code",
   "execution_count": 68,
   "id": "588dda70",
   "metadata": {},
   "outputs": [
    {
     "name": "stderr",
     "output_type": "stream",
     "text": [
      "C:\\Users\\qhrrl\\anaconda3\\lib\\site-packages\\seaborn\\distributions.py:2619: FutureWarning: `distplot` is a deprecated function and will be removed in a future version. Please adapt your code to use either `displot` (a figure-level function with similar flexibility) or `histplot` (an axes-level function for histograms).\n",
      "  warnings.warn(msg, FutureWarning)\n"
     ]
    },
    {
     "name": "stdout",
     "output_type": "stream",
     "text": [
      "Skewness: 1.242066\n",
      "Kurtosis: 1.300093\n"
     ]
    },
    {
     "data": {
      "image/png": "[encoded data removed]",
      "text/plain": [
       "<Figure size 720x432 with 1 Axes>"
      ]
     },
     "metadata": {
      "needs_background": "light"
     },
     "output_type": "display_data"
    }
   ],
   "source": [
    "f, ax = plt.subplots(1, 1, figsize = (10, 6))\n",
    "g = sns.distplot(train['count'], color = 'b', label = 'Skewness: {:2f}'.format(train['count'].skew()), ax=ax)\n",
    "g = g.legend(loc = 'best')\n",
    "\n",
    "print(\"Skewness: %f\" % train[\"count\"].skew())\n",
    "print(\"Kurtosis: %f\" % train[\"count\"].kurt())"
   ]
  },
  {
   "cell_type": "markdown",
   "id": "f50c7f97",
   "metadata": {},
   "source": [
    "#출처: https://hong-yp-ml-records.tistory.com/17?category=823206 [HONG YP's Data Science BLOG:티스토리]\n",
    "\n",
    "Skewness(비대칭도)란 분포가 얼마나 비대칭을 띄는가 알려주는 척도입니다.  \n",
    "(비대칭도: a=0이면 정규분포, a<0 이면 오른쪽으로 치우침, a>0이면 왼쪽으로 치우침)  \n",
    "   \n",
    "Kurtosis (첨도)란 확률분포의 뾰족한 정도를 나타내는 척도입니다.  \n",
    "관측치들이 어느 정도 집중적으로 중심에 몰려 있는가를 측정할 때 사용됩니다.  \n",
    "그래프에 치우침이 보이는 것을 확인할 수 있습니다.   \n",
    "count 대부분의 데이터가 0에 몰려있는 모습인데요,   \n",
    "Feature Engineering 단계에서 자세히 알아보도록 하겠습니다.  "
   ]
  },
  {
   "cell_type": "markdown",
   "id": "c4db1d33",
   "metadata": {},
   "source": [
    "# EDA "
   ]
  },
  {
   "cell_type": "code",
   "execution_count": 69,
   "id": "8fa3209f",
   "metadata": {},
   "outputs": [],
   "source": [
    "train['year'] = train['datetime'].dt.year\n",
    "train['month'] = train['datetime'].dt.month\n",
    "train['day'] = train['datetime'].dt.day\n",
    "train['hour'] = train['datetime'].dt.hour\n",
    "train['minute'] = train['datetime'].dt.minute\n",
    "train['second'] = train['datetime'].dt.second\n",
    "\n",
    "test['year'] = test['datetime'].dt.year\n",
    "test['month'] = test['datetime'].dt.month\n",
    "test['day'] = test['datetime'].dt.day\n",
    "test['hour'] = test['datetime'].dt.hour\n",
    "test['minute'] = test['datetime'].dt.minute\n",
    "test['second'] = test['datetime'].dt.second"
   ]
  },
  {
   "cell_type": "code",
   "execution_count": 70,
   "id": "c47b1ab0",
   "metadata": {},
   "outputs": [
    {
     "data": {
      "text/plain": [
       "(10886, 18)"
      ]
     },
     "execution_count": 70,
     "metadata": {},
     "output_type": "execute_result"
    }
   ],
   "source": [
    "train.shape"
   ]
  },
  {
   "cell_type": "markdown",
   "id": "0598ab69",
   "metadata": {},
   "source": [
    "year 별 자전거 수요량 파악"
   ]
  },
  {
   "cell_type": "code",
   "execution_count": 73,
   "id": "299bbf67",
   "metadata": {},
   "outputs": [
    {
     "data": {
      "text/plain": [
       "[Text(0, 0.5, 'count'), Text(0.5, 1.0, 'Rental amount by hour')]"
      ]
     },
     "execution_count": 73,
     "metadata": {},
     "output_type": "execute_result"
    },
    {
     "data": {
      "image/png": "[encoded data removed]",
      "text/plain": [
       "<Figure size 1296x720 with 6 Axes>"
      ]
     },
     "metadata": {
      "needs_background": "light"
     },
     "output_type": "display_data"
    }
   ],
   "source": [
    "#객체지향방식 사용\n",
    "figure, ((ax1,ax2,ax3),(ax4,ax5,ax6)) = plt.subplots(nrows = 2, ncols = 3)\n",
    "#2행 3열에 각자 배치\n",
    "figure.set_size_inches(18,10)\n",
    "\n",
    "sns.barplot(data=train, x = \"year\", y = \"count\", ax = ax1)\n",
    "sns.barplot(data=train, x = \"month\", y = \"count\", ax = ax2)\n",
    "sns.barplot(data=train, x = \"day\", y = \"count\", ax = ax3)\n",
    "sns.barplot(data=train, x = \"hour\", y = \"count\", ax = ax4)\n",
    "sns.barplot(data=train, x = \"minute\", y = \"count\", ax = ax5)\n",
    "sns.barplot(data=train, x = \"second\", y = \"count\", ax = ax6)\n",
    "\n",
    "ax1.set(ylabel = \"count\", title = \"Rental amount by year\")\n",
    "ax2.set(ylabel = \"count\", title = \"Rental amount by month\")\n",
    "ax3.set(ylabel = \"count\", title = \"Rental amount by day\")\n",
    "ax4.set(ylabel = \"count\", title = \"Rental amount by hour\")"
   ]
  },
  {
   "cell_type": "code",
   "execution_count": 74,
   "id": "ee86091b",
   "metadata": {},
   "outputs": [
    {
     "data": {
      "text/plain": [
       "(10886, 19)"
      ]
     },
     "execution_count": 74,
     "metadata": {},
     "output_type": "execute_result"
    }
   ],
   "source": [
    "train['dayofweek'] = train['datetime'].dt.dayofweek\n",
    "test['dayofweek'] = test['datetime'].dt.dayofweek\n",
    "train.shape"
   ]
  },
  {
   "cell_type": "code",
   "execution_count": 75,
   "id": "81b4c66c",
   "metadata": {},
   "outputs": [
    {
     "data": {
      "text/plain": [
       "5    1584\n",
       "6    1579\n",
       "3    1553\n",
       "0    1551\n",
       "2    1551\n",
       "1    1539\n",
       "4    1529\n",
       "Name: dayofweek, dtype: int64"
      ]
     },
     "execution_count": 75,
     "metadata": {},
     "output_type": "execute_result"
    }
   ],
   "source": [
    "train['dayofweek'].value_counts()"
   ]
  },
  {
   "cell_type": "code",
   "execution_count": null,
   "id": "f1b46a24",
   "metadata": {},
   "outputs": [],
   "source": [
    "fig, (ax1, ax2, ax3, ax4, ax5) = plt.subplots(nrows = 5)\n",
    "fig.set_size_inchies(18, 25)\n",
    "\n",
    "sns.pointplot(data = train, x = 'hour', y = 'count', ax = ax1)\n",
    "sns.pointplot(data = train, x = 'hour', y = 'count', hue = 'workingday' ax = ax1)\n",
    "sns.pointplot(data = train, x = 'hour', y = 'count', ax = ax1)\n",
    "sns.pointplot(data = train, x = 'hour', y = 'count', ax = ax1)\n",
    "sns.pointplot(data = train, x = 'hour', y = 'count', ax = ax1)"
   ]
  }
 ],
 "metadata": {
  "kernelspec": {
   "display_name": "Python 3 (ipykernel)",
   "language": "python",
   "name": "python3"
  },
  "language_info": {
   "codemirror_mode": {
    "name": "ipython",
    "version": 3
   },
   "file_extension": ".py",
   "mimetype": "text/x-python",
   "name": "python",
   "nbconvert_exporter": "python",
   "pygments_lexer": "ipython3",
   "version": "3.9.7"
  }
 },
 "nbformat": 4,
 "nbformat_minor": 5
}
