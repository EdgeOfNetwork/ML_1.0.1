{
 "cells": [
  {
   "cell_type": "code",
   "execution_count": null,
   "id": "e1fb3e7a",
   "metadata": {},
   "outputs": [],
   "source": [
    "import numpy as np\n",
    "import pandas as pd\n"
   ]
  },
  {
   "cell_type": "code",
   "execution_count": 1,
   "id": "107737ad",
   "metadata": {},
   "outputs": [],
   "source": [
    "#data import\n",
    "\n",
    "location = 'data/'\n",
    "\n",
    "train = pd.read_csv(location + \"train.csv\")\n",
    "test = pd.read_csv(location + 'test.csv')"
   ]
  },
  {
   "cell_type": "markdown",
   "id": "96cabf2f",
   "metadata": {},
   "source": [
    "Q. datetime의 object형을 datetime으로 파싱하는 이유?\n",
    "\n",
    "A. EDA에서 datetime으로 날짜를 쪼개는 부분이 나온다"
   ]
  },
  {
   "cell_type": "code",
   "execution_count": 2,
   "id": "3a0b7cdb",
   "metadata": {},
   "outputs": [
    {
     "name": "stdout",
     "output_type": "stream",
     "text": [
      "<class 'pandas.core.frame.DataFrame'>\n",
      "RangeIndex: 10886 entries, 0 to 10885\n",
      "Data columns (total 12 columns):\n",
      " #   Column      Non-Null Count  Dtype  \n",
      "---  ------      --------------  -----  \n",
      " 0   datetime    10886 non-null  object \n",
      " 1   season      10886 non-null  int64  \n",
      " 2   holiday     10886 non-null  int64  \n",
      " 3   workingday  10886 non-null  int64  \n",
      " 4   weather     10886 non-null  int64  \n",
      " 5   temp        10886 non-null  float64\n",
      " 6   atemp       10886 non-null  float64\n",
      " 7   humidity    10886 non-null  int64  \n",
      " 8   windspeed   10886 non-null  float64\n",
      " 9   casual      10886 non-null  int64  \n",
      " 10  registered  10886 non-null  int64  \n",
      " 11  count       10886 non-null  int64  \n",
      "dtypes: float64(3), int64(8), object(1)\n",
      "memory usage: 1020.7+ KB\n"
     ]
    }
   ],
   "source": [
    "train.info()"
   ]
  },
  {
   "cell_type": "code",
   "execution_count": 3,
   "id": "c31ae9ff",
   "metadata": {},
   "outputs": [
    {
     "name": "stdout",
     "output_type": "stream",
     "text": [
      "<class 'pandas.core.frame.DataFrame'>\n",
      "RangeIndex: 6493 entries, 0 to 6492\n",
      "Data columns (total 9 columns):\n",
      " #   Column      Non-Null Count  Dtype  \n",
      "---  ------      --------------  -----  \n",
      " 0   datetime    6493 non-null   object \n",
      " 1   season      6493 non-null   int64  \n",
      " 2   holiday     6493 non-null   int64  \n",
      " 3   workingday  6493 non-null   int64  \n",
      " 4   weather     6493 non-null   int64  \n",
      " 5   temp        6493 non-null   float64\n",
      " 6   atemp       6493 non-null   float64\n",
      " 7   humidity    6493 non-null   int64  \n",
      " 8   windspeed   6493 non-null   float64\n",
      "dtypes: float64(3), int64(5), object(1)\n",
      "memory usage: 456.7+ KB\n"
     ]
    }
   ],
   "source": [
    "test.info()"
   ]
  },
  {
   "cell_type": "code",
   "execution_count": 6,
   "id": "db8dd506",
   "metadata": {},
   "outputs": [
    {
     "name": "stdout",
     "output_type": "stream",
     "text": [
      "column:   datetime\t Percent of NaN value: 0.00%\n",
      "column:     season\t Percent of NaN value: 0.00%\n",
      "column:    holiday\t Percent of NaN value: 0.00%\n",
      "column: workingday\t Percent of NaN value: 0.00%\n",
      "column:    weather\t Percent of NaN value: 0.00%\n",
      "column:       temp\t Percent of NaN value: 0.00%\n",
      "column:      atemp\t Percent of NaN value: 0.00%\n",
      "column:   humidity\t Percent of NaN value: 0.00%\n",
      "column:  windspeed\t Percent of NaN value: 0.00%\n",
      "column:     casual\t Percent of NaN value: 0.00%\n",
      "column: registered\t Percent of NaN value: 0.00%\n",
      "column:      count\t Percent of NaN value: 0.00%\n",
      "==================================================\n",
      "column:   datetime\t Percent of NaN value: 0.00%\n",
      "column:     season\t Percent of NaN value: 0.00%\n",
      "column:    holiday\t Percent of NaN value: 0.00%\n",
      "column: workingday\t Percent of NaN value: 0.00%\n",
      "column:    weather\t Percent of NaN value: 0.00%\n",
      "column:       temp\t Percent of NaN value: 0.00%\n",
      "column:      atemp\t Percent of NaN value: 0.00%\n",
      "column:   humidity\t Percent of NaN value: 0.00%\n",
      "column:  windspeed\t Percent of NaN value: 0.00%\n"
     ]
    }
   ],
   "source": [
    "# 결측치는 없는 듯 하지만, 체크를 해보자\n",
    "for col in train.columns:\n",
    "    missing_percent_train = 'column: {:>10}\\t Percent of NaN value: {:.2f}%'.format(col, 100 * (train[col].isnull().sum() / train[col].shape[0]))\n",
    "    print(missing_percent_train)\n",
    "    \n",
    "print(\"=\" * 50)\n",
    "\n",
    "# 결측치는 없는 듯 하지만, 체크를 해보자\n",
    "for col in test.columns:\n",
    "    missing_percent_test = 'column: {:>10}\\t Percent of NaN value: {:.2f}%'.format(col, 100 * (test[col].isnull().sum() / test[col].shape[0]))\n",
    "    print(missing_percent_test)"
   ]
  },
  {
   "cell_type": "code",
   "execution_count": 8,
   "id": "7f99739b",
   "metadata": {},
   "outputs": [
    {
     "name": "stdout",
     "output_type": "stream",
     "text": [
      "Collecting missingno\n",
      "  Downloading missingno-0.5.1-py3-none-any.whl (8.7 kB)\n",
      "Requirement already satisfied: seaborn in c:\\users\\user\\anaconda3\\lib\\site-packages (from missingno) (0.11.2)\n",
      "Requirement already satisfied: matplotlib in c:\\users\\user\\anaconda3\\lib\\site-packages (from missingno) (3.5.1)\n",
      "Requirement already satisfied: scipy in c:\\users\\user\\anaconda3\\lib\\site-packages (from missingno) (1.7.3)\n",
      "Requirement already satisfied: numpy in c:\\users\\user\\anaconda3\\lib\\site-packages (from missingno) (1.21.5)\n",
      "Requirement already satisfied: python-dateutil>=2.7 in c:\\users\\user\\anaconda3\\lib\\site-packages (from matplotlib->missingno) (2.8.2)\n",
      "Requirement already satisfied: cycler>=0.10 in c:\\users\\user\\anaconda3\\lib\\site-packages (from matplotlib->missingno) (0.11.0)\n",
      "Requirement already satisfied: fonttools>=4.22.0 in c:\\users\\user\\anaconda3\\lib\\site-packages (from matplotlib->missingno) (4.25.0)\n",
      "Requirement already satisfied: pyparsing>=2.2.1 in c:\\users\\user\\anaconda3\\lib\\site-packages (from matplotlib->missingno) (3.0.4)\n",
      "Requirement already satisfied: kiwisolver>=1.0.1 in c:\\users\\user\\anaconda3\\lib\\site-packages (from matplotlib->missingno) (1.3.2)\n",
      "Requirement already satisfied: packaging>=20.0 in c:\\users\\user\\anaconda3\\lib\\site-packages (from matplotlib->missingno) (21.3)\n",
      "Requirement already satisfied: pillow>=6.2.0 in c:\\users\\user\\anaconda3\\lib\\site-packages (from matplotlib->missingno) (9.0.1)\n",
      "Requirement already satisfied: six>=1.5 in c:\\users\\user\\anaconda3\\lib\\site-packages (from python-dateutil>=2.7->matplotlib->missingno) (1.16.0)\n",
      "Requirement already satisfied: pandas>=0.23 in c:\\users\\user\\anaconda3\\lib\\site-packages (from seaborn->missingno) (1.4.2)\n",
      "Requirement already satisfied: pytz>=2020.1 in c:\\users\\user\\anaconda3\\lib\\site-packages (from pandas>=0.23->seaborn->missingno) (2021.3)\n",
      "Installing collected packages: missingno\n",
      "Successfully installed missingno-0.5.1\n"
     ]
    }
   ],
   "source": [
    "!pip install missingno"
   ]
  },
  {
   "cell_type": "code",
   "execution_count": 9,
   "id": "6bbcbcaf",
   "metadata": {},
   "outputs": [
    {
     "data": {
      "text/plain": [
       "<AxesSubplot:>"
      ]
     },
     "execution_count": 9,
     "metadata": {},
     "output_type": "execute_result"
    },
    {
     "data": {
      "image/png": "[encoded data removed]",
      "text/plain": [
       "<Figure size 864x360 with 2 Axes>"
      ]
     },
     "metadata": {
      "needs_background": "light"
     },
     "output_type": "display_data"
    }
   ],
   "source": [
    "import missingno as msno\n",
    "\n",
    "#missingno 라이브러리에 관한 내용\n",
    "#https://m.blog.naver.com/PostView.naver?isHttpsRedirect=true&blogId=youji4ever&logNo=221623491491\n",
    "\n",
    "msno.matrix(train, figsize=(12, 5))\n",
    "\n",
    "#꽉 차있는걸 보니 결측치 걱정은 안해도 좋다"
   ]
  },
  {
   "cell_type": "markdown",
   "id": "5dd6c330",
   "metadata": {},
   "source": [
    "Q. 왜 타겟변수 count의 첨도와 왜도를 봤을까?\n",
    "  \n",
    "A.  \n"
   ]
  },
  {
   "cell_type": "code",
   "execution_count": 14,
   "id": "87ccae46",
   "metadata": {},
   "outputs": [
    {
     "name": "stderr",
     "output_type": "stream",
     "text": [
      "C:\\Users\\user\\anaconda3\\lib\\site-packages\\seaborn\\distributions.py:2619: FutureWarning: `distplot` is a deprecated function and will be removed in a future version. Please adapt your code to use either `displot` (a figure-level function with similar flexibility) or `histplot` (an axes-level function for histograms).\n",
      "  warnings.warn(msg, FutureWarning)\n"
     ]
    },
    {
     "name": "stdout",
     "output_type": "stream",
     "text": [
      "Skewness: 1.242066\n",
      "Kurtosis: 1.300093\n"
     ]
    },
    {
     "data": {
      "image/png": "[encoded data removed]",
      "text/plain": [
       "<Figure size 720x432 with 1 Axes>"
      ]
     },
     "metadata": {
      "needs_background": "light"
     },
     "output_type": "display_data"
    }
   ],
   "source": [
    "import seaborn as sns\n",
    "import matplotlib.pyplot as plt \n",
    "\n",
    "fig, ax = plt.subplots(1, 1, figsize = (10, 6))\n",
    "g = sns.distplot(train['count'], color = \"b\", label = \"Skewness: {:2f}\".format(train['count'].skew()), ax=ax)\n",
    "g = g.legend(loc = 'best')\n",
    "\n",
    "print(\"Skewness: %f\" % train['count'].skew())\n",
    "print(\"Kurtosis: %f\" % train['count'].kurt())"
   ]
  },
  {
   "cell_type": "markdown",
   "id": "d5f26a28",
   "metadata": {},
   "source": [
    "일단 count에 대부분의 데이터가 0에 몰려있음을 확인"
   ]
  },
  {
   "cell_type": "code",
   "execution_count": 15,
   "id": "fb9a3ebf",
   "metadata": {},
   "outputs": [
    {
     "name": "stdout",
     "output_type": "stream",
     "text": [
      "Skewness: 1.242066\n",
      "Kurtosis: 1.300093\n"
     ]
    },
    {
     "data": {
      "image/png": "[encoded data removed]",
      "text/plain": [
       "<Figure size 720x432 with 1 Axes>"
      ]
     },
     "metadata": {
      "needs_background": "light"
     },
     "output_type": "display_data"
    }
   ],
   "source": [
    "fig, ax = plt.subplots(1, 1, figsize = (10, 6))\n",
    "a = sns.histplot(train['count'], color = \"b\", label = \"Skewness: {:2f}\".format(train['count'].skew()), ax=ax)\n",
    "a = a.legend(loc = 'best')\n",
    "\n",
    "print(\"Skewness: %f\" % train['count'].skew())\n",
    "print(\"Kurtosis: %f\" % train['count'].kurt())"
   ]
  },
  {
   "cell_type": "code",
   "execution_count": null,
   "id": "79fe9eaa",
   "metadata": {},
   "outputs": [],
   "source": []
  }
 ],
 "metadata": {
  "kernelspec": {
   "display_name": "Python 3 (ipykernel)",
   "language": "python",
   "name": "python3"
  },
  "language_info": {
   "codemirror_mode": {
    "name": "ipython",
    "version": 3
   },
   "file_extension": ".py",
   "mimetype": "text/x-python",
   "name": "python",
   "nbconvert_exporter": "python",
   "pygments_lexer": "ipython3",
   "version": "3.9.12"
  }
 },
 "nbformat": 4,
 "nbformat_minor": 5
}
