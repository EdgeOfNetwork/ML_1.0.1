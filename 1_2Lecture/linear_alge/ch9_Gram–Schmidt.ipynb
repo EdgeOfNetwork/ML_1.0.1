{
 "cells": [
  {
   "cell_type": "code",
   "execution_count": 2,
   "metadata": {},
   "outputs": [],
   "source": [
    "import numpy as np\n",
    "import pprint\n",
    "pp = pprint.PrettyPrinter(width=41, compact=True)"
   ]
  },
  {
   "cell_type": "code",
   "execution_count": 3,
   "metadata": {},
   "outputs": [],
   "source": [
    "#A의 열벡터에 대한 단위벡터로 구성된 직교기저를 구하는 그람 슈미트 과정\n",
    "def gram_schmidt(A):\n",
    "    basis = []\n",
    "    for v in A.T:\n",
    "        w = v - sum(np.dot(v, b) * b for b in basis)\n",
    "        if (np.abs(w) > 1e-10).any():\n",
    "            basis.append(w/np.linalg.norm(w))\n",
    "    return np.array(basis).T"
   ]
  },
  {
   "cell_type": "code",
   "execution_count": 7,
   "metadata": {},
   "outputs": [
    {
     "name": "stdout",
     "output_type": "stream",
     "text": [
      "array([[3, 1],\n",
      "       [2, 2]])\n"
     ]
    }
   ],
   "source": [
    "A = np.array([[3, 1], [2, 2]])\n",
    "pp.pprint(A)"
   ]
  },
  {
   "cell_type": "code",
   "execution_count": 8,
   "metadata": {},
   "outputs": [
    {
     "name": "stdout",
     "output_type": "stream",
     "text": [
      "array([[ 0.83205029, -0.5547002 ],\n",
      "       [ 0.5547002 ,  0.83205029]])\n"
     ]
    }
   ],
   "source": [
    "pp.pprint(gram_schmidt(A))"
   ]
  },
  {
   "cell_type": "code",
   "execution_count": 9,
   "metadata": {},
   "outputs": [
    {
     "name": "stdout",
     "output_type": "stream",
     "text": [
      "array([[ 1,  1,  0],\n",
      "       [ 1,  3,  1],\n",
      "       [ 2, -1,  1]])\n",
      "array([[ 0.40824829,  0.20739034, -0.88900089],\n",
      "       [ 0.40824829,  0.82956136,  0.38100038],\n",
      "       [ 0.81649658, -0.51847585,  0.25400025]])\n"
     ]
    }
   ],
   "source": [
    "B = np.array([[1,1,0], [1,3,1], [2,-1,1]])\n",
    "pp.pprint(B)\n",
    "pp.pprint(gram_schmidt(B))"
   ]
  },
  {
   "cell_type": "code",
   "execution_count": 10,
   "metadata": {},
   "outputs": [],
   "source": [
    "#QR분해\n",
    "C = np.array([[1, 1, 1], [2, 2, 0], [3, 0, 0], [0, 0, 1]])\n",
    "Q, R = np.linalg.qr(C)"
   ]
  },
  {
   "cell_type": "code",
   "execution_count": 11,
   "metadata": {},
   "outputs": [
    {
     "name": "stdout",
     "output_type": "stream",
     "text": [
      "array([[1, 1, 1],\n",
      "       [2, 2, 0],\n",
      "       [3, 0, 0],\n",
      "       [0, 0, 1]])\n",
      "array([[-2.67261242e-01, -3.58568583e-01,  5.96284794e-01],\n",
      "       [-5.34522484e-01, -7.17137166e-01, -2.98142397e-01],\n",
      "       [-8.01783726e-01,  5.97614305e-01, -1.79001965e-16],\n",
      "       [-0.00000000e+00, -0.00000000e+00,  7.45355992e-01]])\n",
      "array([[-3.74165739, -1.33630621, -0.26726124],\n",
      "       [ 0.        , -1.79284291, -0.35856858],\n",
      "       [ 0.        ,  0.        ,  1.34164079]])\n",
      "array([[ 1.00000000e+00,  1.00000000e+00,  1.00000000e+00],\n",
      "       [ 2.00000000e+00,  2.00000000e+00, -1.08098175e-16],\n",
      "       [ 3.00000000e+00, -4.44089210e-16, -7.36228837e-17],\n",
      "       [ 0.00000000e+00,  0.00000000e+00,  1.00000000e+00]])\n"
     ]
    }
   ],
   "source": [
    "pp.pprint(C)\n",
    "pp.pprint(Q)\n",
    "pp.pprint(R)\n",
    "pp.pprint(np.matmul(Q,R))"
   ]
  },
  {
   "cell_type": "markdown",
   "metadata": {},
   "source": [
    "무어 펜로스 의사 역행렬 "
   ]
  },
  {
   "cell_type": "code",
   "execution_count": 12,
   "metadata": {},
   "outputs": [],
   "source": [
    "A = np.array([[1,1], [2, 1], [3, 1], [4, 1]])\n",
    "b = np.array([[3,5], [4, 3], [7, 2], [8, 0]])\n",
    "x = np.matmul(np.matmul(np.linalg.inv(np.matmul(A.T, A)), A.T), b)"
   ]
  },
  {
   "cell_type": "code",
   "execution_count": 14,
   "metadata": {},
   "outputs": [
    {
     "name": "stdout",
     "output_type": "stream",
     "text": [
      "array([[1, 1],\n",
      "       [2, 1],\n",
      "       [3, 1],\n",
      "       [4, 1]])\n",
      "array([[3, 5],\n",
      "       [4, 3],\n",
      "       [7, 2],\n",
      "       [8, 0]])\n",
      "array([[ 1.8, -1.6],\n",
      "       [ 1. ,  6.5]])\n"
     ]
    }
   ],
   "source": [
    "pp.pprint(A)\n",
    "pp.pprint(b)\n",
    "pp.pprint(x)"
   ]
  },
  {
   "cell_type": "markdown",
   "metadata": {},
   "source": [
    "QR 분해를 이용한 행렬방정식의 최적근사해"
   ]
  },
  {
   "cell_type": "code",
   "execution_count": 16,
   "metadata": {},
   "outputs": [],
   "source": [
    "C = np.array([[1,3,5], [1,1,0], [1,1,2], [1,3,3]])\n",
    "d = np.array([[3],[5],[7],[-3]])\n",
    "Q, R = np.linalg.qr(C)\n",
    "x = np.matmul(np.matmul(np.linalg.inv(R), Q.T), d)"
   ]
  },
  {
   "cell_type": "code",
   "execution_count": null,
   "metadata": {},
   "outputs": [],
   "source": [
    "pp.pprint(C)\n"
   ]
  }
 ],
 "metadata": {
  "kernelspec": {
   "display_name": "Python 3",
   "language": "python",
   "name": "python3"
  },
  "language_info": {
   "codemirror_mode": {
    "name": "ipython",
    "version": 3
   },
   "file_extension": ".py",
   "mimetype": "text/x-python",
   "name": "python",
   "nbconvert_exporter": "python",
   "pygments_lexer": "ipython3",
   "version": "3.8.5"
  }
 },
 "nbformat": 4,
 "nbformat_minor": 4
}
