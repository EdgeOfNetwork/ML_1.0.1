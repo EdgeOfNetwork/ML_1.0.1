{
 "cells": [
  {
   "cell_type": "code",
   "execution_count": 3,
   "metadata": {},
   "outputs": [
    {
     "name": "stdout",
     "output_type": "stream",
     "text": [
      "3\n",
      "10\n",
      "-9\n",
      "1\n",
      "2\n"
     ]
    }
   ],
   "source": [
    "def calc(x): #5개면 5개만큼의 정수를 입력받고 그것들을 더한다.\n",
    "    sum = 0\n",
    "    for i in range(x):\n",
    "        sum = sum + int(input())\n",
    "    print(sum)\n",
    "    \n",
    "x = int(input())\n",
    "calc(x)"
   ]
  },
  {
   "cell_type": "code",
   "execution_count": 9,
   "metadata": {},
   "outputs": [
    {
     "name": "stdout",
     "output_type": "stream",
     "text": [
      "A :  [[1 2 3]\n",
      " [4 5 6]\n",
      " [7 8 9]]\n",
      "v :  [[1]\n",
      " [2]\n",
      " [3]]\n"
     ]
    }
   ],
   "source": [
    "import numpy as np\n",
    "\n",
    "A = np.array([[1,2,3],\n",
    "             [4,5,6],\n",
    "             [7,8,9]])\n",
    "\n",
    "v = np.array([[1],\n",
    "            [2],\n",
    "            [3]])\n",
    "print(\"A : \", A)\n",
    "print(\"v : \",v)"
   ]
  },
  {
   "cell_type": "code",
   "execution_count": 12,
   "metadata": {},
   "outputs": [
    {
     "name": "stdout",
     "output_type": "stream",
     "text": [
      "(3, 3)\n",
      "(3, 1)\n",
      "(3,)\n",
      "(2, 3)\n"
     ]
    }
   ],
   "source": [
    "import numpy as np\n",
    "\n",
    "A = np.array([[1,2,3],\n",
    "             [4,5,6],\n",
    "             [7,8,9]])\n",
    "\n",
    "v = np.array([[1],\n",
    "            [2],\n",
    "            [3]])\n",
    "\n",
    "w = np.array([1,2,3]) # (3,) 의 형태임에 유의. == 1x3 크기임\n",
    "\n",
    "B = np.array([[1,2,3],\n",
    "             [4,5,6]])\n",
    "\n",
    "print(A.shape)\n",
    "print(v.shape)\n",
    "print(w.shape)\n",
    "print(B.shape)\n"
   ]
  },
  {
   "cell_type": "code",
   "execution_count": null,
   "metadata": {},
   "outputs": [],
   "source": []
  }
 ],
 "metadata": {
  "kernelspec": {
   "display_name": "Python 3",
   "language": "python",
   "name": "python3"
  },
  "language_info": {
   "codemirror_mode": {
    "name": "ipython",
    "version": 3
   },
   "file_extension": ".py",
   "mimetype": "text/x-python",
   "name": "python",
   "nbconvert_exporter": "python",
   "pygments_lexer": "ipython3",
   "version": "3.8.5"
  }
 },
 "nbformat": 4,
 "nbformat_minor": 4
}
