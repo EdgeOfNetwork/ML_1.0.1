{
 "cells": [
  {
   "cell_type": "markdown",
   "metadata": {},
   "source": [
    "행렬 A 와 B의 고윳값과 고유벡터 출력"
   ]
  },
  {
   "cell_type": "code",
   "execution_count": 1,
   "metadata": {},
   "outputs": [],
   "source": [
    "import numpy as np"
   ]
  },
  {
   "cell_type": "code",
   "execution_count": 2,
   "metadata": {},
   "outputs": [],
   "source": [
    "A = np.array([[2,3], [3,-6]])\n",
    "w1, V1 = np.linalg.eig(A) #linear algebra 패키지 내의 eig(eigen value and vector)를 이용"
   ]
  },
  {
   "cell_type": "code",
   "execution_count": 3,
   "metadata": {},
   "outputs": [
    {
     "name": "stdout",
     "output_type": "stream",
     "text": [
      "A의 고윳값 :  [ 3. -7.]\n",
      "A의 고유벡터: [[ 0.9486833  -0.31622777]\n",
      " [ 0.31622777  0.9486833 ]]\n"
     ]
    }
   ],
   "source": [
    "print(\"A의 고윳값 : \", w1)\n",
    "print(\"A의 고유벡터:\", V1)"
   ]
  },
  {
   "cell_type": "markdown",
   "metadata": {},
   "source": [
    "3에 대한 고유벡터는 위,\n",
    "-7에 대한 고유벡터는 아래"
   ]
  },
  {
   "cell_type": "code",
   "execution_count": 5,
   "metadata": {},
   "outputs": [],
   "source": [
    "B = np.array([[5,2,0], [2,5,0], [-3,4,6]])\n",
    "w2, V2 = np.linalg.eig(B)"
   ]
  },
  {
   "cell_type": "code",
   "execution_count": 6,
   "metadata": {},
   "outputs": [
    {
     "name": "stdout",
     "output_type": "stream",
     "text": [
      "A의 고윳값 :  [6. 7. 3.]\n",
      "A의 고유벡터: [[ 0.          0.57735027  0.36650833]\n",
      " [ 0.          0.57735027 -0.36650833]\n",
      " [ 1.          0.57735027  0.85518611]]\n"
     ]
    }
   ],
   "source": [
    "print(\"A의 고윳값 : \", w2)\n",
    "print(\"A의 고유벡터:\", V2)"
   ]
  },
  {
   "cell_type": "markdown",
   "metadata": {},
   "source": [
    "2.  \n",
    "  \n",
    "  \n",
    "붓꽃 데이터를 읽고 주성분분석을 적용해 2차원 데이토로 차원축소를 한 결과를 출력"
   ]
  },
  {
   "cell_type": "code",
   "execution_count": 7,
   "metadata": {},
   "outputs": [],
   "source": [
    "import numpy as np\n",
    "import matplotlib.pyplot as plt\n",
    "from sklearn.decomposition import PCA\n",
    "import pandas as pd\n",
    "from sklearn.preprocessing import StandardScaler"
   ]
  },
  {
   "cell_type": "code",
   "execution_count": 9,
   "metadata": {},
   "outputs": [],
   "source": [
    "url = \"https://archive.ics.uci.edu/ml/machine-learning-databases/iris/iris.data\"\n",
    "df = pd.read_csv(url, names=['sepal length', 'sepal width', 'petal length', 'petal with', 'target'])"
   ]
  },
  {
   "cell_type": "code",
   "execution_count": 10,
   "metadata": {},
   "outputs": [],
   "source": [
    "n_row, n_col = df.shape"
   ]
  },
  {
   "cell_type": "code",
   "execution_count": 12,
   "metadata": {},
   "outputs": [
    {
     "name": "stdout",
     "output_type": "stream",
     "text": [
      "Iris dataset: 150 records with  5 attributes\n",
      "\n",
      "first 5 records in iris data\n",
      "    sepal length  sepal width  petal length  petal with       target\n",
      "0           5.1          3.5           1.4         0.2  Iris-setosa\n",
      "1           4.9          3.0           1.4         0.2  Iris-setosa\n",
      "2           4.7          3.2           1.3         0.2  Iris-setosa\n",
      "3           4.6          3.1           1.5         0.2  Iris-setosa\n",
      "4           5.0          3.6           1.4         0.2  Iris-setosa\n"
     ]
    }
   ],
   "source": [
    "print(\"Iris dataset:\", n_row, \"records with \", n_col, \"attributes\\n\")\n",
    "print(\"first 5 records in iris data\\n\", df.head(5))"
   ]
  },
  {
   "cell_type": "code",
   "execution_count": 13,
   "metadata": {},
   "outputs": [],
   "source": [
    "features = ['sepal length', 'sepal width', 'petal length', 'petal with']\n",
    "x = df.loc[:, features].values        #데이터의 속성값\n",
    "y = df.loc[:,['target']].values       #데이터의 부류"
   ]
  },
  {
   "cell_type": "code",
   "execution_count": 14,
   "metadata": {},
   "outputs": [],
   "source": [
    "x = StandardScaler().fit_transform(x)  #평균 0 , 분산 1 인 데이터로 변환"
   ]
  },
  {
   "cell_type": "code",
   "execution_count": 15,
   "metadata": {},
   "outputs": [],
   "source": [
    "pca = PCA(n_components=2)              #PCA를 적용하여 2개의 주성분만 추출\n",
    "principal_components = pca.fit_transform(x)"
   ]
  },
  {
   "cell_type": "code",
   "execution_count": 16,
   "metadata": {},
   "outputs": [
    {
     "name": "stdout",
     "output_type": "stream",
     "text": [
      "\n",
      " first principal axis: [ 0.52237162 -0.26335492  0.58125401  0.56561105]\n",
      "second principal axis: [0.37231836 0.92555649 0.02109478 0.06541577]\n"
     ]
    }
   ],
   "source": [
    "print(\"\\n first principal axis:\",pca.components_[0]) #주성분 축 2개를 이용해 2차원 데이터로 변환 \n",
    "print(\"second principal axis:\",pca.components_[1])"
   ]
  },
  {
   "cell_type": "code",
   "execution_count": 20,
   "metadata": {},
   "outputs": [],
   "source": [
    "principal_Df = pd.DataFrame(data = principal_components,\n",
    "                           columns = ['principal component 1', 'principal component 2'])\n",
    "final_Df = pd.concat([principal_Df, df[['target']]], axis=1)"
   ]
  },
  {
   "cell_type": "code",
   "execution_count": 21,
   "metadata": {},
   "outputs": [
    {
     "name": "stdout",
     "output_type": "stream",
     "text": [
      "\n",
      "First 5 Transformed records\n",
      "    principal component 1  principal component 2       target\n",
      "0              -2.264542               0.505704  Iris-setosa\n",
      "1              -2.086426              -0.655405  Iris-setosa\n",
      "2              -2.367950              -0.318477  Iris-setosa\n",
      "3              -2.304197              -0.575368  Iris-setosa\n",
      "4              -2.388777               0.674767  Iris-setosa\n"
     ]
    }
   ],
   "source": [
    "print(\"\\nFirst 5 Transformed records\\n\", final_Df.head(5))"
   ]
  },
  {
   "cell_type": "code",
   "execution_count": 23,
   "metadata": {},
   "outputs": [
    {
     "name": "stderr",
     "output_type": "stream",
     "text": [
      "<ipython-input-23-0c7a5fe35d99>:16: UserWarning: Matplotlib is currently using module://ipykernel.pylab.backend_inline, which is a non-GUI backend, so cannot show the figure.\n",
      "  fig.show()\n"
     ]
    },
    {
     "data": {
      "image/png": "[encoded data removed]",
      "text/plain": [
       "<Figure size 576x576 with 1 Axes>"
      ]
     },
     "metadata": {
      "needs_background": "light"
     },
     "output_type": "display_data"
    }
   ],
   "source": [
    "fig = plt.figure(figsize = (8,8))\n",
    "ax = fig.add_subplot(1,1,1)\n",
    "ax.set_xlabel('principal component 1', fontsize = 12)\n",
    "ax.set_ylabel('principal component 1', fontsize = 12)\n",
    "ax.set_title('PCA with 2 components', fontsize = 15)\n",
    "\n",
    "targets = ['Iris-setosa', 'Iris-versicolor', 'Iris-virginica']\n",
    "colors = ['r', 'g', 'b']\n",
    "for target, color in zip(targets, colors):\n",
    "    indices_to_keep = final_Df['target'] == target\n",
    "    ax.scatter(final_Df.loc[indices_to_keep, 'principal component 1'],\n",
    "              final_Df.loc[indices_to_keep, 'principal component 2'], c=color, s=40)\n",
    "\n",
    "ax.legend(targets)\n",
    "ax.grid()\n",
    "fig.show()"
   ]
  },
  {
   "cell_type": "markdown",
   "metadata": {},
   "source": []
  }
 ],
 "metadata": {
  "kernelspec": {
   "display_name": "Python 3",
   "language": "python",
   "name": "python3"
  },
  "language_info": {
   "codemirror_mode": {
    "name": "ipython",
    "version": 3
   },
   "file_extension": ".py",
   "mimetype": "text/x-python",
   "name": "python",
   "nbconvert_exporter": "python",
   "pygments_lexer": "ipython3",
   "version": "3.8.5"
  }
 },
 "nbformat": 4,
 "nbformat_minor": 4
}
