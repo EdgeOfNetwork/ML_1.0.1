{
 "cells": [
  {
   "cell_type": "code",
   "execution_count": 130,
   "metadata": {},
   "outputs": [
    {
     "name": "stdout",
     "output_type": "stream",
     "text": [
      "4.5.2\n"
     ]
    }
   ],
   "source": [
    "import time\n",
    "import cv2\n",
    "import glob\n",
    "import os\n",
    "import numpy as np\n",
    "import random\n",
    "from sklearn.decomposition import PCA\n",
    "from sklearn.cluster import KMeans\n",
    "from sklearn.kernel_approximation import AdditiveChi2Sampler\n",
    "from sklearn.svm import LinearSVC\n",
    "\n",
    "print(cv2.__version__)"
   ]
  },
  {
   "cell_type": "code",
   "execution_count": 131,
   "metadata": {},
   "outputs": [],
   "source": [
    "'''\n",
    "Load Dataset\n",
    "'''\n",
    "def scene15():\n",
    "\n",
    "    train_folders = glob.glob(\"SCENE-15/train/*\")\n",
    "    train_folders.sort()\n",
    "    classes = dict()\n",
    "    x_train = list()\n",
    "    y_train = list()\n",
    "    for index, folder in enumerate(train_folders):\n",
    "        label = os.path.basename(folder) #return the base name of pathname  \"folder\"\n",
    "        classes[label] = index\n",
    "        paths = glob.glob(os.path.join(folder, \"*\"))\n",
    "        for path in paths:\n",
    "            x_train.append(cv2.imread(path, 0))\n",
    "            y_train.append(index)\n",
    "\n",
    "    x_test = list()\n",
    "    y_test = list()\n",
    "    test_folders = glob.glob(\"SCENE-15/test/*\")\n",
    "    test_folders.sort()\n",
    "    for folder in test_folders:\n",
    "        label = os.path.basename(folder)\n",
    "        index = classes[label]\n",
    "        paths = glob.glob(os.path.join(folder, \"*\"))\n",
    "        for path in paths:\n",
    "            x_test.append(cv2.imread(path, 0))\n",
    "            y_test.append(index)\n",
    "\n",
    "    return x_train, y_train, x_test, y_test, sorted(classes.keys())"
   ]
  },
  {
   "cell_type": "code",
   "execution_count": 132,
   "metadata": {},
   "outputs": [
    {
     "name": "stderr",
     "output_type": "stream",
     "text": [
      "<ipython-input-132-48c5413a842b>:5: VisibleDeprecationWarning: Creating an ndarray from ragged nested sequences (which is a list-or-tuple of lists-or-tuples-or ndarrays with different lengths or shapes) is deprecated. If you meant to do this, you must specify 'dtype=object' when creating the ndarray\n",
      "  x_train = np.array(x_train)[random_indices].tolist() #여기다가 dtype=object?\n"
     ]
    }
   ],
   "source": [
    "x_train, y_train, x_test, y_test, labels_names = scene15()\n",
    "\n",
    "random_indices = list(range(len(y_train)))\n",
    "random.shuffle(random_indices)\n",
    "x_train = np.array(x_train)[random_indices].tolist() #여기다가 dtype=object?\n",
    "y_train = np.array(y_train)[random_indices].tolist()"
   ]
  },
  {
   "cell_type": "code",
   "execution_count": 150,
   "metadata": {},
   "outputs": [],
   "source": [
    "'''\n",
    "Parameters\n",
    "'''\n",
    "patch_stride = 16"
   ]
  },
  {
   "cell_type": "code",
   "execution_count": 134,
   "metadata": {},
   "outputs": [],
   "source": [
    "'''\n",
    "Extract Patches\n",
    "'''\n",
    "train_key_points = list()\n",
    "train_feature_shapes = list()\n",
    "for image in x_train:\n",
    "    h, w = image.shape\n",
    "    image_key_points = list()\n",
    "    for x in range(0, w, patch_stride):\n",
    "        for y in range(0, h, patch_stride):\n",
    "            image_key_points.append(cv2.KeyPoint(x, y, patch_stride))\n",
    "    train_key_points.append(image_key_points)\n",
    "    train_feature_shapes.append((len(range(0, w, patch_stride)), (len(range(0, h, patch_stride)))))"
   ]
  },
  {
   "cell_type": "code",
   "execution_count": 135,
   "metadata": {},
   "outputs": [],
   "source": [
    "test_key_points = list()\n",
    "test_feature_shapes = list()\n",
    "\n",
    "for image in x_test:\n",
    "    h, w = image.shape\n",
    "    image_key_points = list()\n",
    "    for x in range(0, w, patch_stride):\n",
    "        for y in range(0, h, patch_stride):\n",
    "            image_key_points.append(cv2.KeyPoint(x, y, patch_stride))\n",
    "    test_key_points.append(image_key_points)\n",
    "    test_feature_shapes.append((len(range(0, w, patch_stride)), (len(range(0, h, patch_stride)))))"
   ]
  },
  {
   "cell_type": "markdown",
   "metadata": {},
   "source": [
    "[문제 1. 특징 추출 – 15 pts]  "
   ]
  },
  {
   "cell_type": "markdown",
   "metadata": {},
   "source": [
    "1-1. 주어진 Keypoint를 통하여, 각각의 이미지마다 특징을 추출하시오.  \n",
    "이 때, OpenCV 패키지를 활용하여, SIFT와 같은 특징을 추출하시오. (자세한 사항은 템플릿 코드를 참고)  "
   ]
  },
  {
   "cell_type": "markdown",
   "metadata": {},
   "source": [
    "'''\n",
    "Extract Features\n",
    "'''  \n",
    "#1) descriptor를 선정하세요. (SIFT, SURF 등) OpenCV의 패키지를 사용하시면 됩니다.  \n",
    "#2) for 반복문 안에서, 1)에서 정의한 descriptor를 통하여 features를 추출하세요. features의 차원은 (# of keypoints, feature_dim) 입니다.  "
   ]
  },
  {
   "cell_type": "code",
   "execution_count": 136,
   "metadata": {},
   "outputs": [],
   "source": [
    "descriptor = cv2.SIFT_create()"
   ]
  },
  {
   "cell_type": "code",
   "execution_count": 137,
   "metadata": {},
   "outputs": [
    {
     "name": "stdout",
     "output_type": "stream",
     "text": [
      "train feature extract finished\n"
     ]
    }
   ],
   "source": [
    "train_features = []\n",
    "index = 0\n",
    "\n",
    "for image, key_points in zip(x_train, train_key_points):\n",
    "    _, features = descriptor.detectAndCompute(image, None)\n",
    "    train_features.append(features)\n",
    "    index += 1\n",
    "    #print(\"Extract Train Features ... {:4d}/{:4d}\".format(index, len(x_train)))\n",
    "print(\"train feature extract finished\")"
   ]
  },
  {
   "cell_type": "code",
   "execution_count": 138,
   "metadata": {},
   "outputs": [
    {
     "name": "stdout",
     "output_type": "stream",
     "text": [
      "test feature extract finished\n"
     ]
    }
   ],
   "source": [
    "test_features = []\n",
    "index = 0\n",
    "\n",
    "for image, key_points in zip(x_test, test_key_points):\n",
    "    _, features = descriptor.detectAndCompute(image, None)\n",
    "    test_features.append(features)\n",
    "    index += 1\n",
    "    #print(\"Extract Test Features ... {:4d}/{:4d}\".format(index, len(x_test)))\n",
    "print(\"test feature extract finished\")"
   ]
  },
  {
   "cell_type": "code",
   "execution_count": 139,
   "metadata": {},
   "outputs": [
    {
     "data": {
      "text/plain": [
       "PCA(n_components=128, whiten=True)"
      ]
     },
     "execution_count": 139,
     "metadata": {},
     "output_type": "execute_result"
    }
   ],
   "source": [
    "'''\n",
    "Normalizing\n",
    "'''\n",
    "flattened_train_features = np.concatenate(train_features, axis=0)\n",
    "pca = PCA(n_components=flattened_train_features.shape[-1], whiten=True)\n",
    "pca.fit(flattened_train_features)"
   ]
  },
  {
   "cell_type": "code",
   "execution_count": 140,
   "metadata": {},
   "outputs": [
    {
     "name": "stdout",
     "output_type": "stream",
     "text": [
      "train features nomalized\n"
     ]
    }
   ],
   "source": [
    "train_normalized_features = list()\n",
    "index = 0\n",
    "\n",
    "for features in train_features:\n",
    "    features = pca.transform(features)\n",
    "    train_normalized_features.append(features)\n",
    "    index += 1\n",
    "    #print(\"Normalize Train Features ... {:4d}/{:4d}\".format(index, len(train_features)))\n",
    "\n",
    "print(\"train features nomalized\")"
   ]
  },
  {
   "cell_type": "code",
   "execution_count": 141,
   "metadata": {},
   "outputs": [
    {
     "name": "stdout",
     "output_type": "stream",
     "text": [
      "test features nomalized\n"
     ]
    }
   ],
   "source": [
    "test_normalized_features = list()\n",
    "index = 0\n",
    "\n",
    "for features in test_features:\n",
    "    features = pca.transform(features)\n",
    "    test_normalized_features.append(features)\n",
    "    index += 1\n",
    "    #print(\"Normalize Test Features ... {:4d}/{:4d}\".format(index, len(test_features)))\n",
    "\n",
    "print(\"test features nomalized\")"
   ]
  },
  {
   "cell_type": "markdown",
   "metadata": {},
   "source": [
    "[문제 2. Bag-of-Features 구현 – 30 pts]  "
   ]
  },
  {
   "cell_type": "markdown",
   "metadata": {},
   "source": [
    "2-1.   \n",
    "K-means을 통해 구해진 codebook을 통하여, 각각의 이미지의 특징을 인코딩(histogram화 혹은  양자화 라고도 함) 하시오.  \n",
    "(자세한 사항은 템플릿 코드를 참고)  "
   ]
  },
  {
   "cell_type": "markdown",
   "metadata": {},
   "source": [
    "'''\n",
    "Make Codebook\n",
    "'''"
   ]
  },
  {
   "cell_type": "code",
   "execution_count": 153,
   "metadata": {},
   "outputs": [],
   "source": [
    "#import sklearn.preprocessing import StandardScaler\n",
    "\n",
    "class Codebook:\n",
    "\n",
    "    def __init__(self, K):\n",
    "\n",
    "        self.K = K\n",
    "        \n",
    "        self.kmeans = KMeans(n_clusters=K, verbose=True) #유사한 피쳐끼리 클러스터링 한다.\n",
    "\n",
    "    def make_code_words(self, features):\n",
    "\n",
    "        self.kmeans.fit(features)\n",
    "\n",
    "    def encode(self, features, shapes):\n",
    "\n",
    "        distances = self.kmeans.transform(features) #centroids, codewords와 각 이미지 특징들 간의 거리\n",
    "\n",
    "        # reshaped_features는 Spatial Pyramid Matching 문제에 활용하세요.\n",
    "        #reshaped_features = np.reshape(features, (shapes[0], shapes[1], -1))\n",
    "        \n",
    "        \n",
    "        # 1) 함수 encode 부분 안의 None 부분을 채우세요.\n",
    "        #    distances는 K means 알고리즘을 통해 얻어진 centroids, 즉 codewords(visual words)와 각 이미지의 특징들 간의 거리 입니다.\n",
    "        #    distances 값을 이용하여, features(# of keypoints, feature_dim)를 인코딩(histogram 혹은 quantization이라고도 함) 하세요.\n",
    "        #    인코딩된 결과인 representations은 (K)로 표현되어야 합니다. 이 때, K는 codewords의 개수입니다.\n",
    "        \n",
    "        #bins =[0,20,40,60,80,100] #k==5\n",
    "        bins = [0, 10, 20, 30, 40, 50, 60, 70,80, 90, 100] #k==10\n",
    "        #bins =[0,5,10,15,20,25,30,35,40,45,50,55,60,65,70,75,80,85,90,95,100] #k == 20\n",
    "        \n",
    "        num_of_codewords, _ = np.histogram(distances, bins = bins)\n",
    "        \n",
    "        if np.array(num_of_codewords).shape != (self.K, ):\n",
    "            # representations는 반드시 (K) 차원을 가져야 합니다 (Spatial Pyramid Matching 사용 안할 시에만).\n",
    "            print(np.array(num_of_codewords).shape)\n",
    "            print(self.K)\n",
    "            print(\"Your code may be wrong\")\n",
    "\n",
    "        return num_of_codewords"
   ]
  },
  {
   "cell_type": "markdown",
   "metadata": {},
   "source": [
    "Kmeans clustering을 통해서 뽑힌 무작위 feature들로부터 공통점들을 찾아 군집을 만들고  \n",
    "  \n",
    "  \n",
    "그 거리에 따라서, feature들( 얘내가 어떤 애인지는 우리의 관심사가 아님 )을 묶은 애들을   \n",
    "\n",
    "histogram에 넣는다. 다만 히스토그램을 normalize 해야한다.\n",
    "\n",
    "이 히스토그램이 사실상 bag of visual words를 담당하므로 사실상 이 코드가 핵심이다. \n",
    "  \n",
    "vector화 된 히스토그램 자료들을 ML이 이제 구분해낸다."
   ]
  },
  {
   "cell_type": "code",
   "execution_count": 154,
   "metadata": {},
   "outputs": [],
   "source": [
    "K = 10"
   ]
  },
  {
   "cell_type": "code",
   "execution_count": 155,
   "metadata": {},
   "outputs": [
    {
     "name": "stdout",
     "output_type": "stream",
     "text": [
      "Initialization complete\n",
      "Iteration 0, inertia 148074368.0\n",
      "Iteration 1, inertia 97238184.0\n",
      "Iteration 2, inertia 96755688.0\n",
      "Iteration 3, inertia 96429168.0\n",
      "Iteration 4, inertia 96218824.0\n",
      "Iteration 5, inertia 96094608.0\n",
      "Iteration 6, inertia 96001304.0\n",
      "Iteration 7, inertia 95920328.0\n",
      "Iteration 8, inertia 95852840.0\n",
      "Iteration 9, inertia 95794848.0\n",
      "Iteration 10, inertia 95740280.0\n",
      "Iteration 11, inertia 95698288.0\n",
      "Iteration 12, inertia 95669640.0\n",
      "Iteration 13, inertia 95657424.0\n",
      "Iteration 14, inertia 95649272.0\n",
      "Iteration 15, inertia 95641896.0\n",
      "Iteration 16, inertia 95637720.0\n",
      "Iteration 17, inertia 95635704.0\n",
      "Iteration 18, inertia 95634728.0\n",
      "Iteration 19, inertia 95634496.0\n",
      "Iteration 20, inertia 95633872.0\n",
      "Iteration 21, inertia 95633320.0\n",
      "Iteration 22, inertia 95632496.0\n",
      "Iteration 23, inertia 95631888.0\n",
      "Iteration 24, inertia 95631184.0\n",
      "Iteration 25, inertia 95630040.0\n",
      "Iteration 26, inertia 95628896.0\n",
      "Iteration 27, inertia 95627304.0\n",
      "Iteration 28, inertia 95625232.0\n",
      "Iteration 29, inertia 95622960.0\n",
      "Iteration 30, inertia 95620824.0\n",
      "Iteration 31, inertia 95617856.0\n",
      "Iteration 32, inertia 95615184.0\n",
      "Iteration 33, inertia 95612560.0\n",
      "Iteration 34, inertia 95610008.0\n",
      "Iteration 35, inertia 95608296.0\n",
      "Iteration 36, inertia 95607152.0\n",
      "Iteration 37, inertia 95605072.0\n",
      "Iteration 38, inertia 95604128.0\n",
      "Iteration 39, inertia 95603216.0\n",
      "Iteration 40, inertia 95602696.0\n",
      "Iteration 41, inertia 95602024.0\n",
      "Iteration 42, inertia 95601144.0\n",
      "Iteration 43, inertia 95600992.0\n",
      "Iteration 44, inertia 95601032.0\n",
      "Iteration 45, inertia 95601024.0\n",
      "Iteration 46, inertia 95601016.0\n",
      "Iteration 47, inertia 95600720.0\n",
      "Iteration 48, inertia 95600280.0\n",
      "Iteration 49, inertia 95600120.0\n",
      "Iteration 50, inertia 95600096.0\n",
      "Iteration 51, inertia 95600160.0\n",
      "Iteration 52, inertia 95600480.0\n",
      "Iteration 53, inertia 95600352.0\n",
      "Iteration 54, inertia 95600208.0\n",
      "Iteration 55, inertia 95600184.0\n",
      "Iteration 56, inertia 95600128.0\n",
      "Iteration 57, inertia 95600200.0\n",
      "Iteration 58, inertia 95600320.0\n",
      "Iteration 59, inertia 95600320.0\n",
      "Iteration 60, inertia 95600072.0\n",
      "Iteration 61, inertia 95599864.0\n",
      "Iteration 62, inertia 95599752.0\n",
      "Iteration 63, inertia 95599872.0\n",
      "Iteration 64, inertia 95599584.0\n",
      "Iteration 65, inertia 95599192.0\n",
      "Iteration 66, inertia 95598504.0\n",
      "Iteration 67, inertia 95598456.0\n",
      "Iteration 68, inertia 95598120.0\n",
      "Iteration 69, inertia 95597216.0\n",
      "Iteration 70, inertia 95596400.0\n",
      "Iteration 71, inertia 95594960.0\n",
      "Iteration 72, inertia 95592368.0\n",
      "Iteration 73, inertia 95589912.0\n",
      "Iteration 74, inertia 95588000.0\n",
      "Iteration 75, inertia 95586784.0\n",
      "Iteration 76, inertia 95585632.0\n",
      "Iteration 77, inertia 95584912.0\n",
      "Iteration 78, inertia 95584072.0\n",
      "Iteration 79, inertia 95584296.0\n",
      "Iteration 80, inertia 95584056.0\n",
      "Iteration 81, inertia 95584008.0\n",
      "Iteration 82, inertia 95584048.0\n",
      "Converged at iteration 82: center shift 7.208104216260836e-05 within tolerance 9.996138811111451e-05.\n",
      "Initialization complete\n",
      "Iteration 0, inertia 139577152.0\n",
      "Iteration 1, inertia 97242808.0\n",
      "Iteration 2, inertia 96554672.0\n",
      "Iteration 3, inertia 96254912.0\n",
      "Iteration 4, inertia 96100616.0\n",
      "Iteration 5, inertia 95998624.0\n",
      "Iteration 6, inertia 95925944.0\n",
      "Iteration 7, inertia 95869848.0\n",
      "Iteration 8, inertia 95828368.0\n",
      "Iteration 9, inertia 95799784.0\n",
      "Iteration 10, inertia 95781664.0\n",
      "Iteration 11, inertia 95765568.0\n",
      "Iteration 12, inertia 95752456.0\n",
      "Iteration 13, inertia 95741640.0\n",
      "Iteration 14, inertia 95730608.0\n",
      "Iteration 15, inertia 95722096.0\n",
      "Iteration 16, inertia 95713464.0\n",
      "Iteration 17, inertia 95707616.0\n",
      "Iteration 18, inertia 95702352.0\n",
      "Iteration 19, inertia 95698224.0\n",
      "Iteration 20, inertia 95693992.0\n",
      "Iteration 21, inertia 95687976.0\n",
      "Iteration 22, inertia 95681288.0\n",
      "Iteration 23, inertia 95673448.0\n",
      "Iteration 24, inertia 95667432.0\n",
      "Iteration 25, inertia 95664856.0\n",
      "Iteration 26, inertia 95662088.0\n",
      "Iteration 27, inertia 95660184.0\n",
      "Iteration 28, inertia 95659264.0\n",
      "Iteration 29, inertia 95658704.0\n",
      "Iteration 30, inertia 95658128.0\n",
      "Iteration 31, inertia 95658232.0\n",
      "Iteration 32, inertia 95658016.0\n",
      "Iteration 33, inertia 95657832.0\n",
      "Iteration 34, inertia 95657816.0\n",
      "Iteration 35, inertia 95657984.0\n",
      "Converged at iteration 35: center shift 8.57852355693467e-05 within tolerance 9.996138811111451e-05.\n",
      "Initialization complete\n",
      "Iteration 0, inertia 137351136.0\n",
      "Iteration 1, inertia 97595808.0\n",
      "Iteration 2, inertia 96449352.0\n",
      "Iteration 3, inertia 95994312.0\n",
      "Iteration 4, inertia 95830536.0\n",
      "Iteration 5, inertia 95758152.0\n",
      "Iteration 6, inertia 95721152.0\n",
      "Iteration 7, inertia 95697896.0\n",
      "Iteration 8, inertia 95680032.0\n",
      "Iteration 9, inertia 95663776.0\n",
      "Iteration 10, inertia 95649184.0\n",
      "Iteration 11, inertia 95638584.0\n",
      "Iteration 12, inertia 95631000.0\n",
      "Iteration 13, inertia 95625128.0\n",
      "Iteration 14, inertia 95618968.0\n",
      "Iteration 15, inertia 95613824.0\n",
      "Iteration 16, inertia 95609720.0\n",
      "Iteration 17, inertia 95607264.0\n",
      "Iteration 18, inertia 95605848.0\n",
      "Iteration 19, inertia 95604712.0\n",
      "Iteration 20, inertia 95604584.0\n",
      "Iteration 21, inertia 95604496.0\n",
      "Iteration 22, inertia 95604640.0\n",
      "Iteration 23, inertia 95604520.0\n",
      "Iteration 24, inertia 95604512.0\n",
      "Iteration 25, inertia 95604368.0\n",
      "Converged at iteration 25: center shift 9.885834151646122e-05 within tolerance 9.996138811111451e-05.\n",
      "Initialization complete\n",
      "Iteration 0, inertia 123433360.0\n",
      "Iteration 1, inertia 97915344.0\n",
      "Iteration 2, inertia 96645104.0\n",
      "Iteration 3, inertia 96130016.0\n",
      "Iteration 4, inertia 95919848.0\n",
      "Iteration 5, inertia 95834344.0\n",
      "Iteration 6, inertia 95786248.0\n",
      "Iteration 7, inertia 95763200.0\n",
      "Iteration 8, inertia 95748288.0\n",
      "Iteration 9, inertia 95732568.0\n",
      "Iteration 10, inertia 95715600.0\n",
      "Iteration 11, inertia 95696720.0\n",
      "Iteration 12, inertia 95676208.0\n",
      "Iteration 13, inertia 95662376.0\n",
      "Iteration 14, inertia 95651864.0\n",
      "Iteration 15, inertia 95647656.0\n",
      "Iteration 16, inertia 95642712.0\n",
      "Iteration 17, inertia 95636288.0\n",
      "Iteration 18, inertia 95625840.0\n",
      "Iteration 19, inertia 95610136.0\n",
      "Iteration 20, inertia 95599032.0\n",
      "Iteration 21, inertia 95595040.0\n",
      "Iteration 22, inertia 95592912.0\n",
      "Iteration 23, inertia 95592360.0\n",
      "Iteration 24, inertia 95592008.0\n",
      "Iteration 25, inertia 95591904.0\n",
      "Iteration 26, inertia 95591792.0\n",
      "Iteration 27, inertia 95591832.0\n",
      "Iteration 28, inertia 95591832.0\n",
      "Converged at iteration 28: center shift 8.135903772199526e-05 within tolerance 9.996138811111451e-05.\n",
      "Initialization complete\n",
      "Iteration 0, inertia 133531448.0\n",
      "Iteration 1, inertia 97703112.0\n",
      "Iteration 2, inertia 96906016.0\n",
      "Iteration 3, inertia 96541144.0\n",
      "Iteration 4, inertia 96330096.0\n",
      "Iteration 5, inertia 96197896.0\n",
      "Iteration 6, inertia 96101360.0\n",
      "Iteration 7, inertia 96029360.0\n",
      "Iteration 8, inertia 95979424.0\n",
      "Iteration 9, inertia 95938512.0\n",
      "Iteration 10, inertia 95902816.0\n",
      "Iteration 11, inertia 95875576.0\n",
      "Iteration 12, inertia 95851680.0\n",
      "Iteration 13, inertia 95830600.0\n",
      "Iteration 14, inertia 95813248.0\n",
      "Iteration 15, inertia 95798440.0\n",
      "Iteration 16, inertia 95785624.0\n",
      "Iteration 17, inertia 95775312.0\n",
      "Iteration 18, inertia 95765120.0\n",
      "Iteration 19, inertia 95756424.0\n",
      "Iteration 20, inertia 95747680.0\n",
      "Iteration 21, inertia 95739328.0\n",
      "Iteration 22, inertia 95725304.0\n",
      "Iteration 23, inertia 95694512.0\n",
      "Iteration 24, inertia 95667832.0\n",
      "Iteration 25, inertia 95657848.0\n",
      "Iteration 26, inertia 95654664.0\n",
      "Iteration 27, inertia 95653944.0\n",
      "Iteration 28, inertia 95653280.0\n",
      "Iteration 29, inertia 95652792.0\n",
      "Iteration 30, inertia 95652776.0\n",
      "Iteration 31, inertia 95652840.0\n",
      "Iteration 32, inertia 95652776.0\n",
      "Iteration 33, inertia 95652832.0\n",
      "Iteration 34, inertia 95652952.0\n",
      "Iteration 35, inertia 95653040.0\n",
      "Iteration 36, inertia 95653064.0\n",
      "Converged at iteration 36: center shift 8.816334593575448e-05 within tolerance 9.996138811111451e-05.\n",
      "Initialization complete\n",
      "Iteration 0, inertia 154028304.0\n",
      "Iteration 1, inertia 97380216.0\n",
      "Iteration 2, inertia 96933696.0\n",
      "Iteration 3, inertia 96632816.0\n",
      "Iteration 4, inertia 96367696.0\n",
      "Iteration 5, inertia 96165584.0\n",
      "Iteration 6, inertia 96059792.0\n",
      "Iteration 7, inertia 96003296.0\n",
      "Iteration 8, inertia 95963032.0\n",
      "Iteration 9, inertia 95932784.0\n",
      "Iteration 10, inertia 95912040.0\n",
      "Iteration 11, inertia 95895984.0\n",
      "Iteration 12, inertia 95880568.0\n",
      "Iteration 13, inertia 95862368.0\n",
      "Iteration 14, inertia 95838152.0\n",
      "Iteration 15, inertia 95809696.0\n",
      "Iteration 16, inertia 95780808.0\n",
      "Iteration 17, inertia 95760144.0\n",
      "Iteration 18, inertia 95746504.0\n",
      "Iteration 19, inertia 95734328.0\n"
     ]
    },
    {
     "name": "stdout",
     "output_type": "stream",
     "text": [
      "Iteration 20, inertia 95721664.0\n",
      "Iteration 21, inertia 95716096.0\n",
      "Iteration 22, inertia 95712936.0\n",
      "Iteration 23, inertia 95710472.0\n",
      "Iteration 24, inertia 95708528.0\n",
      "Iteration 25, inertia 95706496.0\n",
      "Iteration 26, inertia 95703888.0\n",
      "Iteration 27, inertia 95701992.0\n",
      "Iteration 28, inertia 95700232.0\n",
      "Iteration 29, inertia 95698928.0\n",
      "Iteration 30, inertia 95697680.0\n",
      "Iteration 31, inertia 95697344.0\n",
      "Iteration 32, inertia 95696304.0\n",
      "Iteration 33, inertia 95696144.0\n",
      "Iteration 34, inertia 95695208.0\n",
      "Iteration 35, inertia 95694576.0\n",
      "Iteration 36, inertia 95693688.0\n",
      "Iteration 37, inertia 95693416.0\n",
      "Iteration 38, inertia 95692896.0\n",
      "Iteration 39, inertia 95692904.0\n",
      "Iteration 40, inertia 95692440.0\n",
      "Iteration 41, inertia 95691776.0\n",
      "Iteration 42, inertia 95690976.0\n",
      "Iteration 43, inertia 95690368.0\n",
      "Iteration 44, inertia 95689896.0\n",
      "Iteration 45, inertia 95689464.0\n",
      "Iteration 46, inertia 95688816.0\n",
      "Iteration 47, inertia 95688512.0\n",
      "Iteration 48, inertia 95687896.0\n",
      "Iteration 49, inertia 95687936.0\n",
      "Iteration 50, inertia 95687680.0\n",
      "Iteration 51, inertia 95687032.0\n",
      "Iteration 52, inertia 95686936.0\n",
      "Iteration 53, inertia 95686792.0\n",
      "Iteration 54, inertia 95686304.0\n",
      "Iteration 55, inertia 95686240.0\n",
      "Iteration 56, inertia 95686168.0\n",
      "Iteration 57, inertia 95686200.0\n",
      "Iteration 58, inertia 95686336.0\n",
      "Iteration 59, inertia 95686376.0\n",
      "Converged at iteration 59: center shift 8.557957335142419e-05 within tolerance 9.996138811111451e-05.\n",
      "Initialization complete\n",
      "Iteration 0, inertia 133165152.0\n",
      "Iteration 1, inertia 97514832.0\n",
      "Iteration 2, inertia 96800080.0\n",
      "Iteration 3, inertia 96422216.0\n",
      "Iteration 4, inertia 96201688.0\n",
      "Iteration 5, inertia 96063832.0\n",
      "Iteration 6, inertia 95985152.0\n",
      "Iteration 7, inertia 95929264.0\n",
      "Iteration 8, inertia 95887928.0\n",
      "Iteration 9, inertia 95856448.0\n",
      "Iteration 10, inertia 95830976.0\n",
      "Iteration 11, inertia 95807920.0\n",
      "Iteration 12, inertia 95793104.0\n",
      "Iteration 13, inertia 95780680.0\n",
      "Iteration 14, inertia 95772744.0\n",
      "Iteration 15, inertia 95766720.0\n",
      "Iteration 16, inertia 95762768.0\n",
      "Iteration 17, inertia 95759000.0\n",
      "Iteration 18, inertia 95756272.0\n",
      "Iteration 19, inertia 95752424.0\n",
      "Iteration 20, inertia 95749384.0\n",
      "Iteration 21, inertia 95746944.0\n",
      "Iteration 22, inertia 95744704.0\n",
      "Iteration 23, inertia 95742024.0\n",
      "Iteration 24, inertia 95739056.0\n",
      "Iteration 25, inertia 95735568.0\n",
      "Iteration 26, inertia 95732048.0\n",
      "Iteration 27, inertia 95729752.0\n",
      "Iteration 28, inertia 95727272.0\n",
      "Iteration 29, inertia 95725256.0\n",
      "Iteration 30, inertia 95724048.0\n",
      "Iteration 31, inertia 95722912.0\n",
      "Iteration 32, inertia 95721928.0\n",
      "Iteration 33, inertia 95720832.0\n",
      "Iteration 34, inertia 95720744.0\n",
      "Iteration 35, inertia 95720080.0\n",
      "Iteration 36, inertia 95720328.0\n",
      "Iteration 37, inertia 95720072.0\n",
      "Iteration 38, inertia 95719888.0\n",
      "Iteration 39, inertia 95719552.0\n",
      "Iteration 40, inertia 95719344.0\n",
      "Iteration 41, inertia 95719336.0\n",
      "Iteration 42, inertia 95719256.0\n",
      "Iteration 43, inertia 95718832.0\n",
      "Iteration 44, inertia 95718872.0\n",
      "Iteration 45, inertia 95718752.0\n",
      "Iteration 46, inertia 95718768.0\n",
      "Iteration 47, inertia 95718912.0\n",
      "Iteration 48, inertia 95718952.0\n",
      "Iteration 49, inertia 95718720.0\n",
      "Iteration 50, inertia 95718856.0\n",
      "Iteration 51, inertia 95719000.0\n",
      "Iteration 52, inertia 95718960.0\n",
      "Converged at iteration 52: center shift 8.834656910039485e-05 within tolerance 9.996138811111451e-05.\n",
      "Initialization complete\n",
      "Iteration 0, inertia 133905784.0\n",
      "Iteration 1, inertia 97477576.0\n",
      "Iteration 2, inertia 96651432.0\n",
      "Iteration 3, inertia 96290816.0\n",
      "Iteration 4, inertia 96119952.0\n",
      "Iteration 5, inertia 96029832.0\n",
      "Iteration 6, inertia 95976992.0\n",
      "Iteration 7, inertia 95939952.0\n",
      "Iteration 8, inertia 95910880.0\n",
      "Iteration 9, inertia 95881640.0\n",
      "Iteration 10, inertia 95854144.0\n",
      "Iteration 11, inertia 95825096.0\n",
      "Iteration 12, inertia 95795472.0\n",
      "Iteration 13, inertia 95770176.0\n",
      "Iteration 14, inertia 95746944.0\n",
      "Iteration 15, inertia 95731080.0\n",
      "Iteration 16, inertia 95721488.0\n",
      "Iteration 17, inertia 95713472.0\n",
      "Iteration 18, inertia 95709224.0\n",
      "Iteration 19, inertia 95703632.0\n",
      "Iteration 20, inertia 95698408.0\n",
      "Iteration 21, inertia 95691992.0\n",
      "Iteration 22, inertia 95683152.0\n",
      "Iteration 23, inertia 95677352.0\n",
      "Iteration 24, inertia 95672368.0\n",
      "Iteration 25, inertia 95669968.0\n",
      "Iteration 26, inertia 95668288.0\n",
      "Iteration 27, inertia 95666704.0\n",
      "Iteration 28, inertia 95665992.0\n",
      "Iteration 29, inertia 95665096.0\n",
      "Iteration 30, inertia 95664032.0\n",
      "Iteration 31, inertia 95663320.0\n",
      "Iteration 32, inertia 95663072.0\n",
      "Iteration 33, inertia 95662760.0\n",
      "Iteration 34, inertia 95662712.0\n",
      "Iteration 35, inertia 95662368.0\n",
      "Iteration 36, inertia 95662216.0\n",
      "Iteration 37, inertia 95662040.0\n",
      "Iteration 38, inertia 95662168.0\n",
      "Iteration 39, inertia 95661832.0\n",
      "Iteration 40, inertia 95661592.0\n",
      "Iteration 41, inertia 95661488.0\n",
      "Iteration 42, inertia 95661288.0\n",
      "Iteration 43, inertia 95661128.0\n",
      "Iteration 44, inertia 95661056.0\n",
      "Iteration 45, inertia 95660840.0\n",
      "Iteration 46, inertia 95659936.0\n",
      "Iteration 47, inertia 95657848.0\n",
      "Iteration 48, inertia 95653640.0\n",
      "Iteration 49, inertia 95647752.0\n",
      "Iteration 50, inertia 95643824.0\n",
      "Iteration 51, inertia 95642552.0\n",
      "Iteration 52, inertia 95642576.0\n",
      "Iteration 53, inertia 95642432.0\n",
      "Iteration 54, inertia 95642200.0\n",
      "Iteration 55, inertia 95642072.0\n",
      "Iteration 56, inertia 95641872.0\n",
      "Iteration 57, inertia 95641944.0\n",
      "Iteration 58, inertia 95641792.0\n",
      "Iteration 59, inertia 95641752.0\n",
      "Iteration 60, inertia 95641704.0\n",
      "Converged at iteration 60: center shift 8.15048988442868e-05 within tolerance 9.996138811111451e-05.\n",
      "Initialization complete\n",
      "Iteration 0, inertia 157018912.0\n",
      "Iteration 1, inertia 97429048.0\n",
      "Iteration 2, inertia 96963248.0\n",
      "Iteration 3, inertia 96604192.0\n",
      "Iteration 4, inertia 96312032.0\n",
      "Iteration 5, inertia 96126824.0\n",
      "Iteration 6, inertia 96022496.0\n",
      "Iteration 7, inertia 95960848.0\n",
      "Iteration 8, inertia 95916848.0\n",
      "Iteration 9, inertia 95877760.0\n",
      "Iteration 10, inertia 95835992.0\n",
      "Iteration 11, inertia 95785992.0\n",
      "Iteration 12, inertia 95721456.0\n",
      "Iteration 13, inertia 95645872.0\n",
      "Iteration 14, inertia 95594712.0\n",
      "Iteration 15, inertia 95568688.0\n",
      "Iteration 16, inertia 95555912.0\n",
      "Iteration 17, inertia 95547704.0\n",
      "Iteration 18, inertia 95541544.0\n",
      "Iteration 19, inertia 95535944.0\n",
      "Iteration 20, inertia 95530200.0\n",
      "Iteration 21, inertia 95524560.0\n",
      "Iteration 22, inertia 95519368.0\n",
      "Iteration 23, inertia 95512792.0\n",
      "Iteration 24, inertia 95505352.0\n",
      "Iteration 25, inertia 95499072.0\n",
      "Iteration 26, inertia 95493400.0\n",
      "Iteration 27, inertia 95487712.0\n",
      "Iteration 28, inertia 95484240.0\n",
      "Iteration 29, inertia 95481728.0\n",
      "Iteration 30, inertia 95481176.0\n",
      "Iteration 31, inertia 95479872.0\n",
      "Iteration 32, inertia 95479608.0\n",
      "Iteration 33, inertia 95479008.0\n",
      "Iteration 34, inertia 95478136.0\n",
      "Iteration 35, inertia 95478168.0\n",
      "Iteration 36, inertia 95478216.0\n",
      "Converged at iteration 36: center shift 7.70915430621244e-05 within tolerance 9.996138811111451e-05.\n",
      "Initialization complete\n",
      "Iteration 0, inertia 131290976.0\n",
      "Iteration 1, inertia 97817960.0\n",
      "Iteration 2, inertia 96895320.0\n",
      "Iteration 3, inertia 96431168.0\n",
      "Iteration 4, inertia 96127504.0\n",
      "Iteration 5, inertia 95962976.0\n",
      "Iteration 6, inertia 95890136.0\n",
      "Iteration 7, inertia 95843456.0\n",
      "Iteration 8, inertia 95808752.0\n",
      "Iteration 9, inertia 95783920.0\n",
      "Iteration 10, inertia 95767416.0\n",
      "Iteration 11, inertia 95754872.0\n",
      "Iteration 12, inertia 95744280.0\n",
      "Iteration 13, inertia 95735424.0\n",
      "Iteration 14, inertia 95725496.0\n",
      "Iteration 15, inertia 95716488.0\n",
      "Iteration 16, inertia 95706496.0\n",
      "Iteration 17, inertia 95697240.0\n",
      "Iteration 18, inertia 95689048.0\n",
      "Iteration 19, inertia 95679960.0\n",
      "Iteration 20, inertia 95670784.0\n",
      "Iteration 21, inertia 95662112.0\n",
      "Iteration 22, inertia 95656520.0\n",
      "Iteration 23, inertia 95653552.0\n",
      "Iteration 24, inertia 95652368.0\n",
      "Iteration 25, inertia 95651928.0\n",
      "Iteration 26, inertia 95651072.0\n",
      "Iteration 27, inertia 95650360.0\n",
      "Iteration 28, inertia 95650336.0\n",
      "Iteration 29, inertia 95649552.0\n",
      "Iteration 30, inertia 95648392.0\n",
      "Iteration 31, inertia 95646992.0\n",
      "Iteration 32, inertia 95645584.0\n",
      "Iteration 33, inertia 95642576.0\n",
      "Iteration 34, inertia 95636352.0\n",
      "Iteration 35, inertia 95621840.0\n",
      "Iteration 36, inertia 95609048.0\n",
      "Iteration 37, inertia 95605704.0\n",
      "Iteration 38, inertia 95605072.0\n",
      "Iteration 39, inertia 95604928.0\n",
      "Iteration 40, inertia 95604976.0\n",
      "Iteration 41, inertia 95604920.0\n",
      "Iteration 42, inertia 95604888.0\n",
      "Iteration 43, inertia 95604648.0\n"
     ]
    },
    {
     "name": "stdout",
     "output_type": "stream",
     "text": [
      "Iteration 44, inertia 95604488.0\n",
      "Iteration 45, inertia 95604328.0\n",
      "Iteration 46, inertia 95604328.0\n",
      "Iteration 47, inertia 95604256.0\n",
      "Iteration 48, inertia 95604336.0\n",
      "Iteration 49, inertia 95604272.0\n",
      "Converged at iteration 49: center shift 8.420853555435315e-05 within tolerance 9.996138811111451e-05.\n"
     ]
    }
   ],
   "source": [
    "flattened_normalized_train_features = pca.transform(flattened_train_features)\n",
    "codebook = Codebook(K)\n",
    "codebook.make_code_words(flattened_normalized_train_features)"
   ]
  },
  {
   "cell_type": "code",
   "execution_count": 156,
   "metadata": {},
   "outputs": [
    {
     "name": "stdout",
     "output_type": "stream",
     "text": [
      "train features encoded finished\n"
     ]
    }
   ],
   "source": [
    "'''\n",
    "Encode Features\n",
    "'''\n",
    "train_encoded_features = []\n",
    "index = 0\n",
    "\n",
    "for features, shapes in zip(train_normalized_features, train_feature_shapes):\n",
    "    encoded_features = codebook.encode(features, shapes)\n",
    "    train_encoded_features.append(encoded_features)\n",
    "    index += 1\n",
    "    #print(\"Encoding Train Features ... {:4d}/{:4d}\".format(index, len(train_normalized_features)))\n",
    "\n",
    "print(\"train features encoded finished\")"
   ]
  },
  {
   "cell_type": "code",
   "execution_count": 157,
   "metadata": {},
   "outputs": [
    {
     "name": "stdout",
     "output_type": "stream",
     "text": [
      "test feature encoded finished\n"
     ]
    }
   ],
   "source": [
    "test_encoded_features = []\n",
    "index = 0\n",
    "\n",
    "for features, shapes in zip(test_normalized_features, test_feature_shapes):\n",
    "    encoded_features = codebook.encode(features, shapes)\n",
    "    test_encoded_features.append(encoded_features)\n",
    "    index += 1\n",
    "    #print(\"Encoding Text Features ... {:4d}/{:4d}\".format(index, len(test_normalized_features)))\n",
    "print(\"test feature encoded finished\")"
   ]
  },
  {
   "cell_type": "markdown",
   "metadata": {},
   "source": [
    "[문제 3. SVM을 통한 이미지 분류 – 15 pts]  "
   ]
  },
  {
   "cell_type": "markdown",
   "metadata": {},
   "source": [
    "3-1.   \n",
    "Bag-of-Features 알고리즘을 통해 얻어진 인코딩된 벡터를 통해, SVM을 학습하시오.  \n",
    "이 때, sklearn과 같은 패키지를 활용하여 SVM 학습을 구현하시면 됩니다. (자세한 사항은 템플릿 코드를 참고)"
   ]
  },
  {
   "cell_type": "code",
   "execution_count": 158,
   "metadata": {},
   "outputs": [],
   "source": [
    "'''\n",
    "Approximate Kernel\n",
    "'''\n",
    "chi2sampler = AdditiveChi2Sampler(sample_steps=2)\n",
    "chi2sampler.fit(train_encoded_features, y_train)\n",
    "train_encoded_features = chi2sampler.transform(train_encoded_features)\n",
    "test_encoded_features = chi2sampler.transform(test_encoded_features)"
   ]
  },
  {
   "cell_type": "code",
   "execution_count": 159,
   "metadata": {
    "scrolled": true
   },
   "outputs": [
    {
     "name": "stdout",
     "output_type": "stream",
     "text": [
      "Classify Images ...\n"
     ]
    },
    {
     "name": "stderr",
     "output_type": "stream",
     "text": [
      "C:\\Users\\qhrrl\\anaconda3\\lib\\site-packages\\sklearn\\svm\\_base.py:976: ConvergenceWarning: Liblinear failed to converge, increase the number of iterations.\n",
      "  warnings.warn(\"Liblinear failed to converge, increase \"\n"
     ]
    }
   ],
   "source": [
    "'''\n",
    "Classify Images with SVM\n",
    "'''\n",
    "\n",
    "start_time = time.time()\n",
    "\n",
    "# 1) 아래의 model 부분에 sklearn 패키지를 활용하여, Linear SVM(SVC) 모델을 정의하세요.\n",
    "#    처음에는 SVM의 parameter를 기본으로 설정하여 구동하시길 권장합니다.\n",
    "#    구동 성공 시, SVM의 C 값과 max_iter 파라미터 등을 조정하여 성능 향상을 해보시길 바랍니다.\n",
    "# model = LinearSVC(C=700.0,\n",
    "#                   class_weight=None, dual=True,\n",
    "#                   fit_intercept=True,\n",
    "#                   intercept_scaling=1,\n",
    "#                   loss='squared_hinge',\n",
    "#                   max_iter= 2000, multi_class='ovr',\n",
    "#                   penalty='l2', random_state=0, tol= 1e-4,\n",
    "#                     verbose=0)\n",
    "\n",
    "model = LinearSVC(max_iter=10000) #svm의 param을 기본으로 설정하란게 뭔 말일까? 디폴트로 하란건가?\n",
    "\n",
    "print(\"Classify Images ...\")\n",
    "model.fit(train_encoded_features, y_train)\n",
    "train_score = model.score(train_encoded_features, y_train)\n",
    "test_score = model.score(test_encoded_features, y_test)\n",
    "elapsed_time = time.time() - start_time"
   ]
  },
  {
   "cell_type": "code",
   "execution_count": 160,
   "metadata": {},
   "outputs": [
    {
     "name": "stdout",
     "output_type": "stream",
     "text": [
      "\n",
      "==========================================================================================\n",
      "Train  Score: 0.17685\n",
      "Test   Score: 0.17230\n",
      "Elapsed Time: 4.69 secs\n",
      "==========================================================================================\n"
     ]
    }
   ],
   "source": [
    "'''\n",
    "Print Results\n",
    "'''\n",
    "print()\n",
    "print(\"=\" * 90)\n",
    "print(\"Train  Score: {:.5f}\".format(train_score))\n",
    "print(\"Test   Score: {:.5f}\".format(test_score))\n",
    "print(\"Elapsed Time: {:.2f} secs\".format(elapsed_time))\n",
    "print(\"=\" * 90)"
   ]
  },
  {
   "cell_type": "markdown",
   "metadata": {},
   "source": [
    "[문제 4. 파라미터 조정을 통한 성능 개선 – 40 pts] "
   ]
  },
  {
   "cell_type": "markdown",
   "metadata": {},
   "source": [
    "4-1.   \n",
    "현재 주어진 코드에는 여러 하이퍼 파라미터가 존재합니다.    \n",
    "예를 들어, Keypoint를 만들 때의 간격(patch_stride), codebook의 visual word 개수(K), SVM의 학습 파라미터 (C 값 및 max_iter) 등 이 있습니다.   \n",
    "해당 파라미터들을 수정해가면서 결과를 개선시켜 보시오. (K와 patch_stride 같은 경우, 메모리 부족으로 큰 데이터를 사용하지 못 할 수 있으므로, 절대적인 성능 지표보다, 상대적인 성능 향상을 더 고려할 예정임)  "
   ]
  },
  {
   "cell_type": "code",
   "execution_count": null,
   "metadata": {},
   "outputs": [],
   "source": []
  },
  {
   "cell_type": "markdown",
   "metadata": {},
   "source": [
    "4-2.  \n",
    "앞서 여러 파라미터의 실험 결과를 토대로 개선된 혹은 개선 되지 않은 이유를 보고서에 설명하시오.   \n",
    "(예를 들어, 각 파라미터 별로 결과 테이블 정리 및 결과에 대한 이유 등)."
   ]
  },
  {
   "cell_type": "code",
   "execution_count": null,
   "metadata": {},
   "outputs": [],
   "source": []
  },
  {
   "cell_type": "markdown",
   "metadata": {},
   "source": [
    "[심화 문제 5. 알고리즘 개선 – 가산점 +20 pts]  "
   ]
  },
  {
   "cell_type": "markdown",
   "metadata": {},
   "source": [
    "(본 문제는 풀이를 하지 않으셔도 감점되지 않습니다.)  \n",
    "5-1. Bag-of-Features 알고리즘의 단점 중 하나는 공간의 배열, 위치 관계를 보지 않고 특징을 인코딩한다는 점입니다.   \n",
    "즉, 특정 특징들의 개수 만을 통해서 인코딩을 하기 때문에 물체의 위치, 배열 등의 패턴 차이는 제대로 표현되지 않을 수 있습니다.   \n",
    "이러한 단점을 극복하기 위하여 Spatial Pyramid Matching (공간 분할)을 수행 후, codewords을 통해 인코딩 할 수 있습니다.   \n",
    "앞서 언급된 Spatial Pyramid Matching 기법을 적용하여 성능을 개선 시켜 보시오.  \n",
    "(https://slazebni.cs.illinois.edu/publications/pyramid_chapter.pdf를 참고하시면 도움이 됩니다.)"
   ]
  },
  {
   "cell_type": "code",
   "execution_count": null,
   "metadata": {},
   "outputs": [],
   "source": []
  }
 ],
 "metadata": {
  "kernelspec": {
   "display_name": "Python 3",
   "language": "python",
   "name": "python3"
  },
  "language_info": {
   "codemirror_mode": {
    "name": "ipython",
    "version": 3
   },
   "file_extension": ".py",
   "mimetype": "text/x-python",
   "name": "python",
   "nbconvert_exporter": "python",
   "pygments_lexer": "ipython3",
   "version": "3.8.5"
  }
 },
 "nbformat": 4,
 "nbformat_minor": 4
}
