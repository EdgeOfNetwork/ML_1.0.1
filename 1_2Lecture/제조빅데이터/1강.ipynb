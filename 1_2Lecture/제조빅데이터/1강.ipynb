{
 "cells": [
  {
   "cell_type": "code",
   "execution_count": 2,
   "metadata": {},
   "outputs": [],
   "source": [
    "def calc(v):\n",
    "    sum = None\n",
    "    try:\n",
    "        sum = v[0] + v[1] + v[2]\n",
    "    except IndexError as err:\n",
    "        print(\"인덱스 에러\")\n",
    "    except Exception as err:\n",
    "        print(print(str(err)))\n",
    "    finally:\n",
    "        print(sum)"
   ]
  },
  {
   "cell_type": "code",
   "execution_count": 3,
   "metadata": {},
   "outputs": [
    {
     "name": "stdout",
     "output_type": "stream",
     "text": [
      "6\n"
     ]
    }
   ],
   "source": [
    "calc([1,2,3,'a'])\n",
    "#인덱스가 3개까지만 되면 되니까 0,1,2만 정확하면 된다."
   ]
  },
  {
   "cell_type": "code",
   "execution_count": 4,
   "metadata": {},
   "outputs": [
    {
     "name": "stdout",
     "output_type": "stream",
     "text": [
      "unsupported operand type(s) for +: 'int' and 'str'\n",
      "None\n",
      "None\n"
     ]
    }
   ],
   "source": [
    "calc([0,1,'a','b'])"
   ]
  },
  {
   "cell_type": "code",
   "execution_count": 5,
   "metadata": {},
   "outputs": [
    {
     "name": "stdout",
     "output_type": "stream",
     "text": [
      "인덱스 에러\n",
      "None\n"
     ]
    }
   ],
   "source": [
    "calc([100, 120]) #인덱스가 모자라다"
   ]
  },
  {
   "cell_type": "code",
   "execution_count": 6,
   "metadata": {},
   "outputs": [
    {
     "name": "stdout",
     "output_type": "stream",
     "text": [
      "'int' object is not subscriptable\n",
      "None\n",
      "None\n"
     ]
    }
   ],
   "source": [
    "calc(12) #마찬가지"
   ]
  },
  {
   "cell_type": "code",
   "execution_count": 7,
   "metadata": {},
   "outputs": [
    {
     "name": "stdout",
     "output_type": "stream",
     "text": [
      "can only concatenate str (not \"int\") to str\n",
      "None\n",
      "None\n"
     ]
    }
   ],
   "source": [
    "calc(('a','b',3))"
   ]
  },
  {
   "cell_type": "code",
   "execution_count": null,
   "metadata": {},
   "outputs": [],
   "source": []
  }
 ],
 "metadata": {
  "kernelspec": {
   "display_name": "Python 3",
   "language": "python",
   "name": "python3"
  },
  "language_info": {
   "codemirror_mode": {
    "name": "ipython",
    "version": 3
   },
   "file_extension": ".py",
   "mimetype": "text/x-python",
   "name": "python",
   "nbconvert_exporter": "python",
   "pygments_lexer": "ipython3",
   "version": "3.8.5"
  }
 },
 "nbformat": 4,
 "nbformat_minor": 4
}
