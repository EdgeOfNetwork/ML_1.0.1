{
 "cells": [
  {
   "cell_type": "code",
   "execution_count": 15,
   "metadata": {},
   "outputs": [],
   "source": [
    "import numpy as np\n",
    "\n",
    "#Sebastian Raschka _ python machine learning code.\n",
    "class Perceptron():\n",
    "    def __init__(self, thresholds = 0.0 , eta = 0.01, n_iter = 10):\n",
    "        #thresholds : 임계값 \n",
    "        #eta : learning rate\n",
    "        #n_iter : 학습횟수\n",
    "        \n",
    "        self.thresholds = thresholds\n",
    "        self.eta = eta\n",
    "        self.n_iter = n_iter\n",
    "        \n",
    "    def fit(self, X ,y):\n",
    "        # X: training data , y : result data (usually representing large X & small y)\n",
    "        self.w_ = np.zeros(1+X.shape[1])\n",
    "        #가중치를 numpy 배열로 정의 \n",
    "        #X.shape[1] : the numb of training data \n",
    "        # ex/ X가 4 x 2 일경우 : X.shape (4.2) X.shape[1] 의 값은 2가 된다.\n",
    "        # 그럼 self.w_ 는 np.zeros(3)이 될 것이고 numpy 배열 [0.0.0.]이 된다\n",
    "        \n",
    "        self.errors_ = []\n",
    "        #반복 회수에 따라 perceptron의 예측값과 실제 결과값이 다른 오류 회수를 저장하기 위한 변수\n",
    "        \n",
    "        for _ in range(self.n_iter): #Using n_iter repeating  designated numb\n",
    "            errors = 0#초기 오류 횟수를 0으로 잡고\n",
    "            for xi, target in zip(X,y):\n",
    "                #트레이닝 데이터 셋 X 와 결과값 y를 하나씩 꺼내서\n",
    "                #xi와 target에 대입한다\n",
    "                update = self.eta * (target- self.predict(xi))\n",
    "                #xi :  input data meaing x1~xn, (x0 == 1)\n",
    "                self.w_[1:] += update * xi\n",
    "                self.w_[0] += update\n",
    "                errors += int(update!=0.0)\n",
    "            self.errors_.append(errors)\n",
    "            print(self.w_)\n",
    "            \n",
    "        return self\n",
    "    \n",
    "    def net_input(self, X):\n",
    "        return np.dot(X, self.w_[1:]) + self.w_[0]\n",
    "    #벡터 x,y의 내적 또는 행렬 x,y의 곲을 리턴\n",
    "    #즉, training data X 입력값과 그에 따른 가중치를 곱합 총합\n",
    "    \n",
    "    \n",
    "    def predict(self,X):\n",
    "        return np.where(self.net_input(X) > self.thresholds, 1, -1)\n",
    "    #즉, 순입력함수 결과깂이 임계값보다 크면 1\n",
    "    "
   ]
  },
  {
   "cell_type": "code",
   "execution_count": 20,
   "metadata": {},
   "outputs": [
    {
     "data": {
      "image/png": "[encoded data removed]",
      "text/plain": [
       "<Figure size 748.8x514.8 with 1 Axes>"
      ]
     },
     "metadata": {
      "needs_background": "light"
     },
     "output_type": "display_data"
    },
    {
     "name": "stdout",
     "output_type": "stream",
     "text": [
      "[0.2  1.4  0.94]\n",
      "[0.   0.8  1.32]\n",
      "[-0.2  0.2  1.7]\n",
      "[-0.2   0.32  2.12]\n",
      "[-0.4  -0.7   1.84]\n",
      "[-0.4  -0.7   1.84]\n",
      "[-0.4  -0.7   1.84]\n",
      "[-0.4  -0.7   1.84]\n",
      "[-0.4  -0.7   1.84]\n",
      "[-0.4  -0.7   1.84]\n",
      "[1, 3, 3, 2, 1, 0, 0, 0, 0, 0]\n"
     ]
    }
   ],
   "source": [
    "%matplotlib inline\n",
    "import pandas as pd\n",
    "import matplotlib\n",
    "import matplotlib.pyplot as plt\n",
    "from matplotlib import style\n",
    "\n",
    "style.use('seaborn-talk')\n",
    "\n",
    "krfont = {'family': 'NanumGothic', 'weight':'bold', 'size':10}\n",
    "matplotlib.rc('font', **krfont)\n",
    "matplotlib.rcParams['axes.unicode_minus'] = False\n",
    "#for using Korean\n",
    "\n",
    "if __name__ =='__main__':\n",
    "    style.use('seaborn-talk')\n",
    "    \n",
    "    df = pd.read_csv('C:\\CodeTemp\\iris.data',header=None)\n",
    "    #pandas는 csv를 DataFrame 객체 형태로 변환해주는 라이브러리다\n",
    "    #df = pd.read_csv('아이리스 링크도 가능',header=None)\n",
    "    \n",
    "    y = df.iloc[0:100, 4].values\n",
    "    y = np.where(y=='Iris-setosa', -1,1)\n",
    "    #y는 결과값이다. \n",
    "    #DataFrame에서 0~99라인까지 5번째 컬럼의 데이터값을 numpy배열로 리턴받아 y에 대입한다.\n",
    "    #따라서 아이리스 데이터 파일에서 100개의 데이터를 추출하여 5번째 컬럼의 데이터 값을 numpy 배열로 리턴한다.\n",
    "    #앞의 5번째 컬럼은 아이리스 품종을 나타내는 문자열 값이라 패스한다.\n",
    "    #x0는 아이리스 데이터에 있는 값이 아님을 유의하자.\n",
    "    \n",
    "    #1~50까지가 setosa고 51~100까지가 versicolor다\n",
    "    #y의 0~49번 인덱스에 해당값은 -1로 50~99는 1로 된 numpy 배열이 된다.\n",
    "    \n",
    "    X = df.iloc[0:100, [0,2]].values\n",
    "    \n",
    "    #0~99중 1,3 번째 컬럼 데이터 값을 numpy배열로 리턴받아 X에 대입\n",
    "    # 1은 꽃받침 길이\n",
    "    # 3은 꽃잎길이\n",
    "    # 즉, 꽃받침 길이, 꽃잎길이에 따른 아이리스 품종을 머신러닝으로 학습하는 코드\n",
    "    \n",
    "    plt.scatter(X[:50,0], X[:50,1], color='r', marker='o', label='setosa')\n",
    "    plt.scatter(X[50:100, 0], X[50:100, 1], color='b', marker='x', label='versicolor')\n",
    "    plt.xlabel('꽃잎 길이(cm)')\n",
    "    plt.ylabel('꽃받침 길이(cm)')\n",
    "    plt.legend(loc=4)\n",
    "    plt.show()\n",
    "    #위 코드는 matploblib으로 산점도를 그리는 코드다\n",
    "    \n",
    "    ppn1 = Perceptron(eta=0.1)\n",
    "    ppn1.fit(X,y)\n",
    "    print(ppn1.errors_)"
   ]
  },
  {
   "cell_type": "code",
   "execution_count": null,
   "metadata": {},
   "outputs": [],
   "source": []
  }
 ],
 "metadata": {
  "kernelspec": {
   "display_name": "Python 3",
   "language": "python",
   "name": "python3"
  },
  "language_info": {
   "codemirror_mode": {
    "name": "ipython",
    "version": 3
   },
   "file_extension": ".py",
   "mimetype": "text/x-python",
   "name": "python",
   "nbconvert_exporter": "python",
   "pygments_lexer": "ipython3",
   "version": "3.7.6"
  }
 },
 "nbformat": 4,
 "nbformat_minor": 4
}
