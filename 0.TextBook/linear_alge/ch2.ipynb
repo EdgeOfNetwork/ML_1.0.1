{
 "cells": [
  {
   "cell_type": "markdown",
   "metadata": {},
   "source": [
    "# 선형대수 2장 프로그래밍 실습"
   ]
  },
  {
   "cell_type": "code",
   "execution_count": 1,
   "metadata": {},
   "outputs": [
    {
     "name": "stdout",
     "output_type": "stream",
     "text": [
      "[[0. 0. 0.]\n",
      " [0. 0. 0.]]\n",
      "[[1. 1.]\n",
      " [1. 1.]]\n",
      "[[3 3]\n",
      " [3 3]\n",
      " [3 3]]\n",
      "[[1. 0.]\n",
      " [0. 1.]]\n"
     ]
    }
   ],
   "source": [
    "import numpy as np\n",
    "\n",
    "O = np.zeros((2,3))\n",
    "\n",
    "one = np.ones((2,2))\n",
    "\n",
    "a = np.full((3,2),3)\n",
    "\n",
    "I = np.eye(2)\n",
    "\n",
    "print(O)\n",
    "print(one)\n",
    "print(a)\n",
    "print(I)\n"
   ]
  },
  {
   "cell_type": "code",
   "execution_count": 2,
   "metadata": {},
   "outputs": [],
   "source": [
    "#가우스 조단 소거법"
   ]
  },
  {
   "cell_type": "code",
   "execution_count": 3,
   "metadata": {},
   "outputs": [
    {
     "name": "stdout",
     "output_type": "stream",
     "text": [
      "array([[1., 1.],\n",
      "       [1., 1.]])\n"
     ]
    }
   ],
   "source": [
    "import numpy as np\n",
    "import pprint as pprint\n",
    "\n",
    "def gauss(a):\n",
    "    (n,m) = a.shape\n",
    "    \n",
    "    for i in n:#첫 행이 나머지 행을 서치\n",
    "        if i\n",
    "        \n",
    "    \n",
    "    \"\"\"\n",
    "    가우스 조단 소거법 하는법\n",
    "    1.첫 행의 첫 item이 다른 행 첫 item을 칼삭하는지 확인\n",
    "    된다면 ->\n",
    "    \n",
    "    \n",
    "    2.안된다면 -> 두번째 행의 첫 item이 칼삭하는지 확인\n",
    "    3.\n",
    "    4.\n",
    "    5.\n",
    "    \n",
    "    \"\"\"\n",
    "\n",
    "    \n",
    "    for i in range()\n",
    "    \n",
    "    \n",
    "    pass\n",
    "\n",
    "\n",
    "#첨가행렬\n",
    "a = np.array([[2,2,4,18],\n",
    "             [1,3,2,13],\n",
    "             [3,1,3,14]])\n",
    "\n",
    "#3x4 형식이다.\n",
    "gauss(a)\n",
    "\n",
    "pprint.pprint(a)\n",
    "\n"
   ]
  },
  {
   "cell_type": "code",
   "execution_count": null,
   "metadata": {},
   "outputs": [],
   "source": []
  }
 ],
 "metadata": {
  "kernelspec": {
   "display_name": "Python 3",
   "language": "python",
   "name": "python3"
  },
  "language_info": {
   "codemirror_mode": {
    "name": "ipython",
    "version": 3
   },
   "file_extension": ".py",
   "mimetype": "text/x-python",
   "name": "python",
   "nbconvert_exporter": "python",
   "pygments_lexer": "ipython3",
   "version": "3.8.5"
  }
 },
 "nbformat": 4,
 "nbformat_minor": 4
}
