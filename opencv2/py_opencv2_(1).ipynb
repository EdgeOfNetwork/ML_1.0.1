{
 "cells": [
  {
   "cell_type": "markdown",
   "metadata": {},
   "source": [
    "## https://076923.github.io/posts/\n",
    "## 윤대희 블로그    "
   ]
  },
  {
   "cell_type": "code",
   "execution_count": null,
   "metadata": {},
   "outputs": [],
   "source": [
    "import cv2\n",
    "\n",
    "capture = cv2.VideoCapture(0)              #(카메라의 장치 번호 : n) 내장 or 외장 카메라에서 영상을 받아온다.\n",
    "capture.set(cv2.CAP_PROP_FRAME_WIDTH, 640) # frame 너비, 높이 등 속성 설정, \n",
    "capture.set(cv2.CAP_PROP_FRAME_HEIGHT, 480)\n",
    "\n",
    "while True :                            # 영상의 출력 반복\n",
    "    ret, frame = capture.read()           #카메라의 상태 및 프레임을 받아옴\n",
    "    cv2.imshow(\"videoFrame\", frame)       #ret에 카메라의 상태 저장 & frame에 현재 프레임 저장 #윈도우에 이미지를 띄운다\n",
    "    if cv2.waitKey(1) == ord('q') :break        #(time)마다 이미지를 띄운다 #q를 누르면 종료한다\n",
    "\n",
    "captrue.release()                         # 카메라 장치에서 받아온 메모리를 해제한다.\n",
    "cv2.destroyAllWindows()                   # 모든 윈도우 창을 닫는다."
   ]
  },
  {
   "cell_type": "code",
   "execution_count": 1,
   "metadata": {},
   "outputs": [
    {
     "name": "stdout",
     "output_type": "stream",
     "text": [
      "1280 1920 3\n"
     ]
    }
   ],
   "source": [
    "\"\"\" IMAGE 불러오기 \"\"\"\n",
    "import cv2\n",
    "\n",
    "image = cv2.imread(\"lunar.jpg\", cv2.IMREAD_ANYCOLOR) \n",
    "\n",
    "\"\"\"\n",
    "cv2.IMREAD_UNCHANGED : 원본 사용\n",
    "cv2.IMREAD_GRAYSCALE : 1 채널, 그레이스케일 적용\n",
    "cv2.IMREAD_COLOR : 3 채널, BGR 이미지 사용\n",
    "cv2.IMREAD_ANYDEPTH : 이미지에 따라 정밀도를 16/32비트 또는 8비트로 사용\n",
    "cv2.IMREAD_ANYCOLOR : 가능한 3 채널, 색상 이미지로 사용\n",
    "cv2.IMREAD_REDUCED_GRAYSCALE_2 : 1 채널, 1/2 크기, 그레이스케일 적용\n",
    "cv2.IMREAD_REDUCED_GRAYSCALE_4 : 1 채널, 1/4 크기, 그레이스케일 적용\n",
    "cv2.IMREAD_REDUCED_GRAYSCALE_8 : 1 채널, 1/8 크기, 그레이스케일 적용\n",
    "cv2.IMREAD_REDUCED_COLOR_2 : 3 채널, 1/2 크기, BGR 이미지 사용\n",
    "cv2.IMREAD_REDUCED_COLOR_4 : 3 채널, 1/4 크기, BGR 이미지 사용\n",
    "cv2.IMREAD_REDUCED_COLOR_8 : 3 채널, 1/8 크기, BGR 이미지 사용\n",
    "\n",
    "\"\"\"\n",
    "height, width, channel = image.shape\n",
    "print(height, width, channel)\n",
    "\"\"\"\n",
    "크기 : 이미지의 높이와 너비\n",
    "정밀도 : 이미지의 처리 결과의 정밀성 #이미지의 유효 비트가 많을수록 더 정밀해진다.\n",
    "채널 : 이미지의 색상 정보를 의미 #채널이 3일경우, 다색이미지다. 채널이1이면 단색이다\n",
    "\n",
    "\"\"\"\n",
    "\n",
    "cv2.imshow(\"Moon\", image)                           \n",
    "cv2.waitKey(0) #0일경우 지속적으로 검사하여 해당 구문을 넘어가지 않습니다.\n",
    "cv2.destroyAllWindows()\n"
   ]
  },
  {
   "cell_type": "code",
   "execution_count": null,
   "metadata": {},
   "outputs": [],
   "source": [
    "\"\"\" VIDEO 불러오기 \"\"\"\n",
    "\n",
    "import cv2\n",
    "\n",
    "capture = cv2.VideoCapture(\"star.mp4\")\n",
    "\n",
    "while True:\n",
    "    if(capture.get(cv2.CAP_PROP_POS_FRAMES) == capture.get(cv2.CAP_PROP_FRAME_COUNT)): #현재 프레임 개수와 총 프레임 개수 비교\n",
    "        capture.open(star.mp4) # capture.get을 이용해서 capture 속성 반환\n",
    "        \n",
    "    ret. frame = capture.read()\n",
    "    cv2.imshow(\"VideoFrame\", frame)\n",
    "    \n",
    "    if cv2.waitKey(33) > 0 : break ## 33ms마다 프레임을 재생한다. 어떤 키라도 누를 경우 break 하여 while 종료한다\n",
    "\n",
    "        \n",
    "\"\"\"\n",
    "\n",
    "capture.get(속성) : VideoCapture의 속성을 반환합니다.\n",
    "\n",
    "capture.grab() : Frame의 호출 성공 유/무를 반환합니다.\n",
    "\n",
    "capture.isOpened() : VideoCapture의 성공 유/무를 반환합니다.\n",
    "\n",
    "capture.open(카메라 장치 번호 또는 경로) : 카메라나 동영상 파일을 엽니다.\n",
    "\n",
    "capture.release() : VideoCapture의 장치를 닫고 메모리를 해제합니다.\n",
    "\n",
    "capture.retrieve() : VideoCapture의 프레임과 플래그를 반환합니다.\n",
    "\n",
    "capture.set(속성, 값) : VideoCapture의 속성의 값을 설정합니다.\n",
    "\n",
    "\"\"\"\n",
    "capture.release()\n",
    "cv2.destroyAllWindows()"
   ]
  },
  {
   "cell_type": "code",
   "execution_count": 5,
   "metadata": {},
   "outputs": [],
   "source": [
    "\"\"\" 5강 대칭 \"\"\"\n",
    "import cv2\n",
    "\n",
    "src = cv2.imread(\"glass.jpg\", cv2.IMREAD_COLOR)\n",
    "dst = cv2.flip(src, 0) #결과 이미지로 dst를 지정하고, 대칭합수를 적용 0 상하 1 좌우 : 0보다 낮은값 상하, 1보다 높은 값 좌우\n",
    "\n",
    "cv2.imshow(\"src\", src)\n",
    "cv2.imshow(\"dst\", dst)\n",
    "cv2.waitKey(0)\n",
    "cv2.destroyAllWindows()"
   ]
  },
  {
   "cell_type": "code",
   "execution_count": 7,
   "metadata": {},
   "outputs": [],
   "source": [
    "\"\"\" 6강 회전 \"\"\"\n",
    "import cv2\n",
    "\n",
    "src = cv2.imread(\"ara.jpg\", cv2.IMREAD_COLOR)\n",
    "\n",
    "height, width, channel = src.shape\n",
    "matrix = cv2.getRotationMatrix2D((width/2, height/2), 90, 1)\n",
    "#matrix에 회전 배열생성\n",
    "#중심점 X좌표, 중심점 Y좌표, 각도, 스케일(확대 비율)\n",
    "dst = cv2.warpAffine(src, matrix, (width, height))\n",
    "\n",
    "cv2.imshow(\"src\", src)\n",
    "cv2.imshow(\"dst\", dst)\n",
    "cv2.waitKey(0)\n",
    "cv2.destroyAllWindows()"
   ]
  },
  {
   "cell_type": "code",
   "execution_count": 9,
   "metadata": {},
   "outputs": [],
   "source": [
    "import cv2\n",
    "import numpy as np\n",
    "\n",
    "src = cv2.imread(\"ara.jpg\", cv2.IMREAD_COLOR)\n",
    "\n",
    "height, width, channel = src.shape\n",
    "matrix = np.array(cv2.getRotationMatrix2D((width/2, height/2), 90, 1)) #넘파이로 선언해서 적용가능\n",
    "dst = cv2.warpAffine(src, matrix, (width, height))\n",
    "\n",
    "cv2.imshow(\"src\", src)\n",
    "cv2.imshow(\"dst\", dst)\n",
    "cv2.waitKey(0)\n",
    "cv2.destroyAllWindows()"
   ]
  },
  {
   "cell_type": "code",
   "execution_count": 12,
   "metadata": {},
   "outputs": [],
   "source": [
    "\"\"\" 7강          - 외삽법 ?\"\"\"\n",
    "import cv2\n",
    "\n",
    "src = cv2.imread(\"fruits.jpg\", cv2.IMREAD_COLOR)\n",
    "\n",
    "height, width, channel = src.shape\n",
    "dst = cv2.pyrUp(src, dstsize = (width * 2, height * 2), borderType=cv2.BORDER_DEFAULT) #2배 확대 가능\n",
    "#cv2.pyrUp(원본 이미지, 결과 이미지 크기, 픽셀 외삽법)을 의미합니다.\n",
    "\"\"\"\n",
    "pyrUp()과 pyrDown() 함수에서 결과 이미지 크기와 픽셀 외삽법은 기본값으로 설정된 인수를 할당해야하므로 생략하여 사용합니다.\n",
    "\n",
    "피라미드 함수에서 픽셀 외삽법은 cv2.BORDER_DEFAULT만 사용할 수 있습니다.\n",
    "\n",
    "이미지를 1/8배, 1/4배 ,4배, 8배 등의 배율을 사용해야하는 경우, 반복문을 이용하여 적용할 수 있습니다.\n",
    "\n",
    "\"\"\"\n",
    "\n",
    "dst2 = cv2.pyrDown(src) #img를 1/2로 축소 가능\n",
    "\n",
    "cv2.imshow(\"src\", src)\n",
    "cv2.imshow(\"dst\", dst)\n",
    "cv2.imshow(\"dst2\", dst2)\n",
    "cv2.waitKey(0)\n",
    "cv2.destroyAllWindows()"
   ]
  },
  {
   "cell_type": "code",
   "execution_count": 13,
   "metadata": {},
   "outputs": [],
   "source": [
    "\"\"\" 8강 크기조절  - 보간법? \"\"\"\n",
    "import cv2\n",
    "\n",
    "src = cv2.imread(\"champagne.jpg\", cv2.IMREAD_COLOR)\n",
    "\n",
    "dst = cv2.resize(src, dsize = (640, 480), interpolation = cv2.INTER_AREA)\n",
    "#원본 , 결과 이미지 크기(Tuple), 보간법\n",
    "#보간법은 이미지의 크기를 변경하는 경우, 변형된 이미지의 픽셀은 추정해서 값을 할당해야 한다.\n",
    "\n",
    "dst2 = cv2.resize(src, dsize = (0, 0), fx = 0.3, fy = 0.7, interpolation = cv2.INTER_LINEAR)\n",
    "#dsize가 0,0 처럼 크기를 설정하지 않은 경우, fx와 fy로 비율설정이 가능하다.\n",
    "\n",
    "\n",
    "\"\"\"\n",
    "기본적으로 쌍 선형 보간법이 가장 많이 사용됩니다.\n",
    "\n",
    "이미지를 확대하는 경우, 바이큐빅 보간법이나 쌍 선형 보간법을 가장 많이 사용합니다.\n",
    "\n",
    "이미지를 축소하는 경우, 영역 보간법을 가장 많이 사용합니다.\n",
    "\n",
    "영역 보간법에서 이미지를 확대하는 경우, 이웃 보간법과 비슷한 결과를 반환합니다.\n",
    "\n",
    "\"\"\"\n",
    "\n",
    "cv2.imshow(\"src\", src)\n",
    "cv2.imshow(\"dst\", dst)\n",
    "cv2.imshow(\"dst2\", dst2)\n",
    "cv2.waitKey(0)\n",
    "cv2.destroyAllWindows()"
   ]
  },
  {
   "cell_type": "code",
   "execution_count": null,
   "metadata": {},
   "outputs": [],
   "source": []
  }
 ],
 "metadata": {
  "kernelspec": {
   "display_name": "Python 3",
   "language": "python",
   "name": "python3"
  },
  "language_info": {
   "codemirror_mode": {
    "name": "ipython",
    "version": 3
   },
   "file_extension": ".py",
   "mimetype": "text/x-python",
   "name": "python",
   "nbconvert_exporter": "python",
   "pygments_lexer": "ipython3",
   "version": "3.7.3"
  }
 },
 "nbformat": 4,
 "nbformat_minor": 2
}
