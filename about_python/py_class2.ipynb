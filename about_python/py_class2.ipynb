{
 "cells": [
  {
   "cell_type": "code",
   "execution_count": 1,
   "metadata": {},
   "outputs": [],
   "source": [
    "class Car:\n",
    "    \n",
    "    purchased_year = 2016\n",
    "    milage = 20\n",
    "    velocity = 100\n",
    "    \n",
    "    def accerelate(self):\n",
    "        return Car.velocity + 20\n",
    "    \n",
    "    def deaccerelate(self):\n",
    "        return Car.velocity - 50\n",
    "    \n",
    "car1 = Car()"
   ]
  },
  {
   "cell_type": "code",
   "execution_count": 6,
   "metadata": {},
   "outputs": [
    {
     "name": "stdout",
     "output_type": "stream",
     "text": [
      "120\n"
     ]
    },
    {
     "data": {
      "text/plain": [
       "120"
      ]
     },
     "execution_count": 6,
     "metadata": {},
     "output_type": "execute_result"
    }
   ],
   "source": [
    "print(car1.accerelate())\n",
    "car1.accerelate()\n",
    "car1.accerelate()"
   ]
  },
  {
   "cell_type": "code",
   "execution_count": 7,
   "metadata": {},
   "outputs": [],
   "source": [
    "class Company:\n",
    "    \n",
    "    company_name = \"gaeasoft\"\n",
    "    return_of_Investment = 5000\n",
    "    benefit = 1000\n",
    "    crew_mates = 100\n",
    "    \n",
    "    def productive(self):\n",
    "        return Company.benefit / Company.crew_mates"
   ]
  },
  {
   "cell_type": "code",
   "execution_count": 10,
   "metadata": {},
   "outputs": [
    {
     "name": "stdout",
     "output_type": "stream",
     "text": [
      "gaeasoft\n",
      "10.0\n"
     ]
    }
   ],
   "source": [
    "print(Company.company_name)\n",
    "print(Company().productive())"
   ]
  },
  {
   "cell_type": "code",
   "execution_count": 12,
   "metadata": {},
   "outputs": [],
   "source": [
    "company1 = Company()"
   ]
  },
  {
   "cell_type": "code",
   "execution_count": 13,
   "metadata": {},
   "outputs": [
    {
     "data": {
      "text/plain": [
       "10.0"
      ]
     },
     "execution_count": 13,
     "metadata": {},
     "output_type": "execute_result"
    }
   ],
   "source": [
    "company1.productive()"
   ]
  },
  {
   "cell_type": "markdown",
   "metadata": {},
   "source": [
    "## 생성자 : 객체의 속성을 초기화 하거나, 활성화 하는 메서드"
   ]
  },
  {
   "cell_type": "code",
   "execution_count": 32,
   "metadata": {},
   "outputs": [
    {
     "name": "stdout",
     "output_type": "stream",
     "text": [
      "ㅇㅅㅇㅎㅅㅎ\n",
      "ㅇㅅㅇㅎㅅㅎ\n"
     ]
    }
   ],
   "source": [
    "class Student:\n",
    "    \n",
    "    #메서드\n",
    "    def __init__(self, name, address): #init이 호출된다.\n",
    "        self.name = name               #self는 instance stu1이다.\n",
    "        self.address = address\n",
    "    \n",
    "    def do_somth(self):\n",
    "        print(self.name + self.address)\n",
    "        \n",
    "stu1 = Student(\"ㅇㅅㅇ\",\"ㅎㅅㅎ\") #Obj를 Instance 화 한다. \n",
    "stu1.do_somth() \n",
    "Student.do_somth(stu1) # class method를 호출하는 방법들  "
   ]
  },
  {
   "cell_type": "code",
   "execution_count": 33,
   "metadata": {},
   "outputs": [],
   "source": [
    "## 변수 "
   ]
  },
  {
   "cell_type": "code",
   "execution_count": 35,
   "metadata": {},
   "outputs": [
    {
     "name": "stdout",
     "output_type": "stream",
     "text": [
      "0.1\n",
      "3000\n"
     ]
    }
   ],
   "source": [
    "class Company:\n",
    "    \"\"\" class variable \"\"\"\n",
    "    growth = 0.1\n",
    "    \n",
    "    def __init__(self, company_name, revenue, employee_size):\n",
    "        \"\"\" instance variable \"\"\"\n",
    "        self.name = company_name\n",
    "        self.revenue = revenue\n",
    "        self.no_of_employyes = employee_size\n",
    "        \n",
    "#클래스 변수 \n",
    "print(Company.growth)\n",
    "\n",
    "#인스턴스 변수\n",
    "bank = Company(\"ㅇㅅㅇ\", 3000, 10)\n",
    "print(bank.revenue)"
   ]
  },
  {
   "cell_type": "code",
   "execution_count": 36,
   "metadata": {},
   "outputs": [],
   "source": [
    "## 메서드"
   ]
  },
  {
   "cell_type": "code",
   "execution_count": 41,
   "metadata": {},
   "outputs": [
    {
     "name": "stdout",
     "output_type": "stream",
     "text": [
      "ㅇㅅㅇ\n",
      "220.0\n",
      "3\n"
     ]
    }
   ],
   "source": [
    "#instance method => (self,) 가 첫 parameter 이며, \n",
    "\n",
    "#class method => cls를 첫 parameter로 사용하며, 클래스를 나타냅니다. \n",
    "#메서드 내에서 클래스 변수에 엑세스 하기 위해 @classmethod 데코를 사용하여 클래스를 메서드에 전달합니다.\n",
    "\n",
    "#static method 첫 번째 인수로서 아무 것도 사용하지 않으며 사용 용도가 제한되어 있습니다.\n",
    "#객체 없이 호출 할 수 있다는 것.\n",
    "\n",
    "class Cab:\n",
    "    \n",
    "    #클래스 변수 초기화\n",
    "    number_of_cabs = 0\n",
    "    number_of_passengers = 0\n",
    "    \n",
    "    def __init__(self, driver, kms, places, pay, passengers):\n",
    "        self.driver = driver\n",
    "        self.running = kms\n",
    "        self.places = places\n",
    "        self.bill = pay\n",
    "        Cab.number_of_cabs = Cab.number_of_cabs + 1\n",
    "        \n",
    "    #km당 택시 운임을 반환\n",
    "    def rate_per_km(self):\n",
    "        return self.bill/self.running\n",
    "    \n",
    "    #운행중인 택시 댓수 반환\n",
    "    @classmethod\n",
    "    def no_of_cabs(cls):\n",
    "        return cls.number_of_cabs\n",
    "    \n",
    "    #현재 택시 이용 승객 평균 수\n",
    "    @classmethod\n",
    "    def avg_no_of_passengers(cls):\n",
    "        return int(cls.number_of_passengers / cls.number_of_cabs)\n",
    "    \n",
    "first_cab = Cab(\"ㅇㅅㅇ\", 10, [\"반포\",\"구의\"], 2200, 3)\n",
    "second_cab = Cab(\"ㅎㅅㅎ\", 20, [\"시읗ㅇ\",\"신림\"], 1500, 1)\n",
    "third_cab = Cab(\"ㅇㅂㅇ\", 30, [\"화곡\",\"봉천\"], 600, 2)\n",
    "\n",
    "print(first_cab.driver)\n",
    "\n",
    "print(first_cab.rate_per_km())\n",
    "\n",
    "print(Cab.no_of_cabs())\n",
    "        "
   ]
  },
  {
   "cell_type": "code",
   "execution_count": 44,
   "metadata": {},
   "outputs": [
    {
     "name": "stdout",
     "output_type": "stream",
     "text": [
      "False\n"
     ]
    }
   ],
   "source": [
    "class Cab:\n",
    "    \n",
    "    @staticmethod\n",
    "    def bill_validation(pay):\n",
    "        return int(pay) > 0\n",
    "    \n",
    "print(Cab.bill_validation(0))"
   ]
  },
  {
   "cell_type": "code",
   "execution_count": null,
   "metadata": {},
   "outputs": [],
   "source": []
  },
  {
   "cell_type": "code",
   "execution_count": 19,
   "metadata": {},
   "outputs": [
    {
     "name": "stdout",
     "output_type": "stream",
     "text": [
      "ㅇ ㅅㅇ \n",
      "\n",
      "ㅇ ㅅㅇ ㅎ ㅅㅎ ㅇ ㅂㅇ \n",
      "\n"
     ]
    }
   ],
   "source": [
    "def test(*args):\n",
    "    for names in args:\n",
    "        print(\"%s %s\" % (names[0], names[1:3]), end=' ')\n",
    "    print(\"\\n\")\n",
    "    \n",
    "test(\"ㅇㅅㅇ\")\n",
    "test(\"ㅇㅅㅇ\", \"ㅎㅅㅎ\",\"ㅇㅂㅇ\")\n",
    "\n",
    "#Student(\"ㅇㅅㅇ\")\n"
   ]
  },
  {
   "cell_type": "code",
   "execution_count": null,
   "metadata": {},
   "outputs": [],
   "source": []
  }
 ],
 "metadata": {
  "kernelspec": {
   "display_name": "Python 3",
   "language": "python",
   "name": "python3"
  },
  "language_info": {
   "codemirror_mode": {
    "name": "ipython",
    "version": 3
   },
   "file_extension": ".py",
   "mimetype": "text/x-python",
   "name": "python",
   "nbconvert_exporter": "python",
   "pygments_lexer": "ipython3",
   "version": "3.7.3"
  }
 },
 "nbformat": 4,
 "nbformat_minor": 2
}
