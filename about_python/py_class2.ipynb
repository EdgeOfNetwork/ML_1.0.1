{
 "cells": [
  {
   "cell_type": "code",
   "execution_count": 1,
   "metadata": {},
   "outputs": [],
   "source": [
    "class Car:\n",
    "    \n",
    "    purchased_year = 2016\n",
    "    milage = 20\n",
    "    velocity = 100\n",
    "    \n",
    "    def accerelate(self):\n",
    "        return Car.velocity + 20\n",
    "    \n",
    "    def deaccerelate(self):\n",
    "        return Car.velocity - 50\n",
    "    \n",
    "car1 = Car()"
   ]
  },
  {
   "cell_type": "code",
   "execution_count": 6,
   "metadata": {},
   "outputs": [
    {
     "name": "stdout",
     "output_type": "stream",
     "text": [
      "120\n"
     ]
    },
    {
     "data": {
      "text/plain": [
       "120"
      ]
     },
     "execution_count": 6,
     "metadata": {},
     "output_type": "execute_result"
    }
   ],
   "source": [
    "print(car1.accerelate())\n",
    "car1.accerelate()\n",
    "car1.accerelate()"
   ]
  },
  {
   "cell_type": "code",
   "execution_count": 7,
   "metadata": {},
   "outputs": [],
   "source": [
    "class Company:\n",
    "    \n",
    "    company_name = \"gaeasoft\"\n",
    "    return_of_Investment = 5000\n",
    "    benefit = 1000\n",
    "    crew_mates = 100\n",
    "    \n",
    "    def productive(self):\n",
    "        return Company.benefit / Company.crew_mates"
   ]
  },
  {
   "cell_type": "code",
   "execution_count": 10,
   "metadata": {},
   "outputs": [
    {
     "name": "stdout",
     "output_type": "stream",
     "text": [
      "gaeasoft\n",
      "10.0\n"
     ]
    }
   ],
   "source": [
    "print(Company.company_name)\n",
    "print(Company().productive())"
   ]
  },
  {
   "cell_type": "code",
   "execution_count": 12,
   "metadata": {},
   "outputs": [],
   "source": [
    "company1 = Company()"
   ]
  },
  {
   "cell_type": "code",
   "execution_count": 13,
   "metadata": {},
   "outputs": [
    {
     "data": {
      "text/plain": [
       "10.0"
      ]
     },
     "execution_count": 13,
     "metadata": {},
     "output_type": "execute_result"
    }
   ],
   "source": [
    "company1.productive()"
   ]
  },
  {
   "cell_type": "markdown",
   "metadata": {},
   "source": [
    "## 생성자 : 객체의 속성을 초기화 하거나, 활성화 하는 메서드"
   ]
  },
  {
   "cell_type": "code",
   "execution_count": 32,
   "metadata": {},
   "outputs": [
    {
     "name": "stdout",
     "output_type": "stream",
     "text": [
      "ㅇㅅㅇㅎㅅㅎ\n",
      "ㅇㅅㅇㅎㅅㅎ\n"
     ]
    }
   ],
   "source": [
    "class Student:\n",
    "    \n",
    "    #메서드\n",
    "    def __init__(self, name, address): #init이 호출된다.\n",
    "        self.name = name               #self는 instance stu1이다.\n",
    "        self.address = address\n",
    "    \n",
    "    def do_somth(self):\n",
    "        print(self.name + self.address)\n",
    "        \n",
    "stu1 = Student(\"ㅇㅅㅇ\",\"ㅎㅅㅎ\") #Obj를 Instance 화 한다. \n",
    "stu1.do_somth() \n",
    "Student.do_somth(stu1) # class method를 호출하는 방법들  "
   ]
  },
  {
   "cell_type": "code",
   "execution_count": 33,
   "metadata": {},
   "outputs": [],
   "source": [
    "## 변수 "
   ]
  },
  {
   "cell_type": "code",
   "execution_count": 35,
   "metadata": {},
   "outputs": [
    {
     "name": "stdout",
     "output_type": "stream",
     "text": [
      "0.1\n",
      "3000\n"
     ]
    }
   ],
   "source": [
    "class Company:\n",
    "    \"\"\" class variable \"\"\"\n",
    "    growth = 0.1\n",
    "    \n",
    "    def __init__(self, company_name, revenue, employee_size):\n",
    "        \"\"\" instance variable \"\"\"\n",
    "        self.name = company_name\n",
    "        self.revenue = revenue\n",
    "        self.no_of_employyes = employee_size\n",
    "        \n",
    "#클래스 변수 \n",
    "print(Company.growth)\n",
    "\n",
    "#인스턴스 변수\n",
    "bank = Company(\"ㅇㅅㅇ\", 3000, 10)\n",
    "print(bank.revenue)"
   ]
  },
  {
   "cell_type": "code",
   "execution_count": 36,
   "metadata": {},
   "outputs": [],
   "source": [
    "## 메서드"
   ]
  },
  {
   "cell_type": "code",
   "execution_count": 41,
   "metadata": {},
   "outputs": [
    {
     "name": "stdout",
     "output_type": "stream",
     "text": [
      "ㅇㅅㅇ\n",
      "220.0\n",
      "3\n"
     ]
    }
   ],
   "source": [
    "#instance method => (self,) 가 첫 parameter 이며, \n",
    "\n",
    "#class method => cls를 첫 parameter로 사용하며, 클래스를 나타냅니다. \n",
    "#메서드 내에서 클래스 변수에 엑세스 하기 위해 @classmethod 데코를 사용하여 클래스를 메서드에 전달합니다.\n",
    "\n",
    "#static method 첫 번째 인수로서 아무 것도 사용하지 않으며 사용 용도가 제한되어 있습니다.\n",
    "#객체 없이 호출 할 수 있다는 것.\n",
    "\n",
    "class Cab:\n",
    "    \n",
    "    #클래스 변수 초기화\n",
    "    number_of_cabs = 0\n",
    "    number_of_passengers = 0\n",
    "    \n",
    "    def __init__(self, driver, kms, places, pay, passengers):\n",
    "        self.driver = driver\n",
    "        self.running = kms\n",
    "        self.places = places\n",
    "        self.bill = pay\n",
    "        Cab.number_of_cabs = Cab.number_of_cabs + 1\n",
    "        \n",
    "    #km당 택시 운임을 반환\n",
    "    def rate_per_km(self):\n",
    "        return self.bill/self.running\n",
    "    \n",
    "    #운행중인 택시 댓수 반환\n",
    "    @classmethod\n",
    "    def no_of_cabs(cls):\n",
    "        return cls.number_of_cabs\n",
    "    \n",
    "    #현재 택시 이용 승객 평균 수\n",
    "    @classmethod\n",
    "    def avg_no_of_passengers(cls):\n",
    "        return int(cls.number_of_passengers / cls.number_of_cabs)\n",
    "    \n",
    "first_cab = Cab(\"ㅇㅅㅇ\", 10, [\"반포\",\"구의\"], 2200, 3)\n",
    "second_cab = Cab(\"ㅎㅅㅎ\", 20, [\"시읗ㅇ\",\"신림\"], 1500, 1)\n",
    "third_cab = Cab(\"ㅇㅂㅇ\", 30, [\"화곡\",\"봉천\"], 600, 2)\n",
    "\n",
    "print(first_cab.driver)\n",
    "\n",
    "print(first_cab.rate_per_km())\n",
    "\n",
    "print(Cab.no_of_cabs())\n",
    "        "
   ]
  },
  {
   "cell_type": "code",
   "execution_count": 44,
   "metadata": {},
   "outputs": [
    {
     "name": "stdout",
     "output_type": "stream",
     "text": [
      "False\n"
     ]
    }
   ],
   "source": [
    "class Cab:\n",
    "    \n",
    "    @staticmethod\n",
    "    def bill_validation(pay):\n",
    "        return int(pay) > 0\n",
    "    \n",
    "print(Cab.bill_validation(0))"
   ]
  },
  {
   "cell_type": "markdown",
   "metadata": {},
   "source": [
    "## 상속"
   ]
  },
  {
   "cell_type": "code",
   "execution_count": 4,
   "metadata": {},
   "outputs": [
    {
     "name": "stdout",
     "output_type": "stream",
     "text": [
      "차1\n"
     ]
    }
   ],
   "source": [
    "class Vehicle:\n",
    "    \n",
    "    def __init__(self, driver, wheels, seats):\n",
    "        self.driver = driver\n",
    "        self.no_of_wheels = wheels\n",
    "        self.no_of_seats = seats\n",
    "        \n",
    "class Cab(Vehicle):\n",
    "    pass\n",
    "\n",
    "cab_1 = Cab(\"차1\", 4, 2)\n",
    "print(cab_1.driver)"
   ]
  },
  {
   "cell_type": "code",
   "execution_count": 6,
   "metadata": {},
   "outputs": [
    {
     "name": "stdout",
     "output_type": "stream",
     "text": [
      "50\n",
      "75\n"
     ]
    }
   ],
   "source": [
    "class Vehicle:\n",
    "    \n",
    "    minimum_rate = 50\n",
    "    \n",
    "    def __init__(self, driver, wheels, seats):\n",
    "        self.driver = driver\n",
    "        self.no_of_wheels = wheels\n",
    "        self.no_of_seats = seats\n",
    "        \n",
    "class Cab(Vehicle):\n",
    "    minimum_rate = 75\n",
    "    \n",
    "print(Vehicle.minimum_rate)\n",
    "print(Cab.minimum_rate)"
   ]
  },
  {
   "cell_type": "code",
   "execution_count": 9,
   "metadata": {},
   "outputs": [
    {
     "name": "stdout",
     "output_type": "stream",
     "text": [
      "SUV\n",
      "14.0\n",
      "그린\n",
      "8.0\n"
     ]
    }
   ],
   "source": [
    "class Vehicle:\n",
    "    \n",
    "    minimum_rate = 50\n",
    "    \n",
    "    def __init__(self, driver, wheels, seats, kms, bill):\n",
    "        self.driver = driver\n",
    "        self.no_of_wheels = wheels\n",
    "        self.no_of_seats = seats\n",
    "        self.running = kms\n",
    "        self.bill = bill\n",
    "        \n",
    "    def rate_per_km(self):\n",
    "        return self.bill / self.running\n",
    "    \n",
    "class Cab(Vehicle):\n",
    "    \n",
    "    minimum_rate = 75\n",
    "    \n",
    "    def __init__(self, driver, wheels, seats, kms, bill, cab_type):\n",
    "        Vehicle.__init__(self, driver, wheels, seats, kms, bill)\n",
    "        #super().__init__(driver,wheels,seats,kms,bill)\n",
    "        self.category = cab_type\n",
    "        \n",
    "class Bus(Vehicle):\n",
    "    \n",
    "    minimum_rate = 25\n",
    "    \n",
    "    def __init__(self, driver, wheels, seats, kms, bill, color):\n",
    "        Vehicle.__init__(self, driver, wheels, seats, kms, bill)\n",
    "        self.color = color\n",
    "        \n",
    "cab_1 = Cab(\"ㅇㅅㅇ\", 4, 3, 50, 700, 'SUV')\n",
    "print(cab_1.category)\n",
    "print(cab_1.rate_per_km())\n",
    "\n",
    "bus_1 = Bus(\"ㅎㅅㅎ\", 4, 10, 50, 400, '그린')\n",
    "print(bus_1.color)\n",
    "print(bus_1.rate_per_km())"
   ]
  },
  {
   "cell_type": "markdown",
   "metadata": {},
   "source": [
    "## OOP 다형성"
   ]
  },
  {
   "cell_type": "code",
   "execution_count": 13,
   "metadata": {},
   "outputs": [
    {
     "name": "stdout",
     "output_type": "stream",
     "text": [
      "parent class method\n",
      "None\n",
      "child cab class method\n",
      "None\n",
      "child bus class method\n",
      "None\n"
     ]
    }
   ],
   "source": [
    "#메서드 오버라이딩\n",
    "#메서드 재 정의를 통해서, 자식 클래스에 부모 클래스와 이름이 같은 메서드를 \n",
    "#사용 할 수 있으며, 자식 클래스 메서드의 정의는 부모 클래스 메서드와 다름\n",
    "class Vehicle:\n",
    "    def message(self):\n",
    "        print(\"parent class method\")\n",
    "        \n",
    "class Cab(Vehicle):\n",
    "    def message(self):\n",
    "        print(\"child cab class method\")\n",
    "        \n",
    "class Bus(Vehicle):\n",
    "    def message(self):\n",
    "        print(\"child bus class method\")\n",
    "        \n",
    "x = Vehicle()\n",
    "print(x.message())\n",
    "# Parent calss method\n",
    "\n",
    "y = Cab()\n",
    "print(y.message())\n",
    "# Child Cab class method\n",
    "\n",
    "z = Bus()\n",
    "print(z.message())\n",
    "# Child Bus class method"
   ]
  },
  {
   "cell_type": "code",
   "execution_count": 15,
   "metadata": {},
   "outputs": [
    {
     "name": "stdout",
     "output_type": "stream",
     "text": [
      "Welcome to py world\n",
      "My message - Life is beutiful\n"
     ]
    }
   ],
   "source": [
    "#메서드 오버로딩\n",
    "class Message:\n",
    "    def details(self, phrase=None):\n",
    "        if phrase is not None:\n",
    "            print('My message - ' + phrase)\n",
    "        else:\n",
    "            print('Welcome to py world')\n",
    "            \n",
    "# 객체 생성\n",
    "x = Message()\n",
    "\n",
    "# 인수 없이 호출\n",
    "x.details()\n",
    "\n",
    "# 한 개의 인수를 사용하여 호출\n",
    "x.details('Life is beutiful')"
   ]
  },
  {
   "cell_type": "code",
   "execution_count": 17,
   "metadata": {},
   "outputs": [
    {
     "name": "stdout",
     "output_type": "stream",
     "text": [
      "hello \n",
      "hello Hank\n"
     ]
    }
   ],
   "source": [
    "class Human:\n",
    "    def say_hello(self, name=None):\n",
    "        if name is not None:\n",
    "            print('hello '+ name)\n",
    "        else:\n",
    "            print('hello ')\n",
    "            \n",
    "# 객체 생성\n",
    "obj = Human()\n",
    "\n",
    "# 인수 없이 호출\n",
    "obj.say_hello()\n",
    "\n",
    "# 한 개의 인수를 사용하여 호출\n",
    "obj.say_hello('Hank')"
   ]
  },
  {
   "cell_type": "code",
   "execution_count": 19,
   "metadata": {},
   "outputs": [
    {
     "name": "stdout",
     "output_type": "stream",
     "text": [
      "면적 0\n",
      "면적 16\n",
      "면적 15\n"
     ]
    }
   ],
   "source": [
    "# class\n",
    "class Compute:\n",
    "    #area method\n",
    "    \n",
    "    def area(self, x = None, y = None):\n",
    "        if x != None and y != None:\n",
    "            return x * y\n",
    "        elif x != None:\n",
    "            return x * x\n",
    "        else:\n",
    "            return 0\n",
    "        \n",
    "# object\n",
    "obj = Compute()\n",
    "\n",
    "#zero argument\n",
    "print(\"면적\", obj.area())\n",
    "\n",
    "#one argument\n",
    "print(\"면적\", obj.area(4))\n",
    "\n",
    "#two argument\n",
    "print(\"면적\", obj.area(3, 5))"
   ]
  },
  {
   "cell_type": "markdown",
   "metadata": {},
   "source": [
    "## __str__\n",
    "#객체에 대해서 print(객체) 했을 때 읽을 수 있는 의미있는 표현을 생성하는데 사용"
   ]
  },
  {
   "cell_type": "code",
   "execution_count": 22,
   "metadata": {},
   "outputs": [
    {
     "name": "stdout",
     "output_type": "stream",
     "text": [
      "<__main__.Vehicle object at 0x0000027929983E48>\n"
     ]
    }
   ],
   "source": [
    "class Vehicle:\n",
    "    \n",
    "    def __init__(self, driver, wheels, seats):\n",
    "        self.driver = driver\n",
    "        self.no_of_wheels = wheels\n",
    "        self.no_of_seats = seats\n",
    "        \n",
    "veh_1 = Vehicle(\"ㅇㅅㅇ\", 4, 2)\n",
    "print(veh_1)"
   ]
  },
  {
   "cell_type": "code",
   "execution_count": 24,
   "metadata": {},
   "outputs": [
    {
     "name": "stdout",
     "output_type": "stream",
     "text": [
      "운전자: ㅇㅅㅇ, 승객 수: 2\n"
     ]
    }
   ],
   "source": [
    "class Vehicle:\n",
    "    \n",
    "    def __init__(self, driver, wheels, seats):\n",
    "        self.driver = driver\n",
    "        self.no_of_wheels = wheels\n",
    "        self.no_of_seats = seats\n",
    "        \n",
    "    def __str__(self):\n",
    "        return \"운전자: \" + self.driver +\", \"+ \"승객 수: \" + str(self.no_of_seats)\n",
    "    \n",
    "veh_1 = Vehicle(\"ㅇㅅㅇ\", 4, 2)\n",
    "print(veh_1)"
   ]
  },
  {
   "cell_type": "markdown",
   "metadata": {},
   "source": [
    "## OOP 데이터 인캡슐레이션 Data Encapsulation"
   ]
  },
  {
   "cell_type": "code",
   "execution_count": 26,
   "metadata": {},
   "outputs": [
    {
     "name": "stdout",
     "output_type": "stream",
     "text": [
      "premium\n"
     ]
    },
    {
     "ename": "AttributeError",
     "evalue": "'Flat' object has no attribute '__model'",
     "output_type": "error",
     "traceback": [
      "\u001b[1;31m---------------------------------------------------------------------------\u001b[0m",
      "\u001b[1;31mAttributeError\u001b[0m                            Traceback (most recent call last)",
      "\u001b[1;32m<ipython-input-26-89726858b507>\u001b[0m in \u001b[0;36m<module>\u001b[1;34m\u001b[0m\n\u001b[0;32m      8\u001b[0m \u001b[0mprint\u001b[0m\u001b[1;33m(\u001b[0m\u001b[0mflat1\u001b[0m\u001b[1;33m.\u001b[0m\u001b[0mtype\u001b[0m\u001b[1;33m)\u001b[0m\u001b[1;33m\u001b[0m\u001b[1;33m\u001b[0m\u001b[0m\n\u001b[0;32m      9\u001b[0m \u001b[1;33m\u001b[0m\u001b[0m\n\u001b[1;32m---> 10\u001b[1;33m \u001b[0mprint\u001b[0m\u001b[1;33m(\u001b[0m\u001b[0mflat1\u001b[0m\u001b[1;33m.\u001b[0m\u001b[0m__model\u001b[0m\u001b[1;33m)\u001b[0m\u001b[1;33m\u001b[0m\u001b[1;33m\u001b[0m\u001b[0m\n\u001b[0m",
      "\u001b[1;31mAttributeError\u001b[0m: 'Flat' object has no attribute '__model'"
     ]
    }
   ],
   "source": [
    "class Flat:\n",
    "    \n",
    "    def __init__(self):\n",
    "        self.type = \"premium\"\n",
    "        self.__model = \"DE300XYZ\"\n",
    "        \n",
    "flat1 = Flat()\n",
    "print(flat1.type)\n",
    "\n",
    "print(flat1.__model)"
   ]
  },
  {
   "cell_type": "markdown",
   "metadata": {},
   "source": [
    "## OOP getter setter "
   ]
  },
  {
   "cell_type": "code",
   "execution_count": 31,
   "metadata": {},
   "outputs": [
    {
     "name": "stdout",
     "output_type": "stream",
     "text": [
      "Hank Rah\n",
      "Hank.Rah@naver.com\n"
     ]
    }
   ],
   "source": [
    "class Vehicle:\n",
    "    \n",
    "    def __init__(self, firstname, lastname):\n",
    "        self.fname = firstname\n",
    "        self.lname = lastname\n",
    "        self.email = self.fname + '.' + self.lname + '@naver.com'\n",
    "        \n",
    "veh1 = Vehicle(\"Hank\", \"Rah\")\n",
    "\n",
    "print(veh1.fname, veh1.lname)\n",
    "print(veh1.email)"
   ]
  },
  {
   "cell_type": "code",
   "execution_count": 33,
   "metadata": {},
   "outputs": [
    {
     "name": "stdout",
     "output_type": "stream",
     "text": [
      "Tom\n",
      "Hank.Rah@naver.com\n"
     ]
    }
   ],
   "source": [
    "veh1.fname = 'Tom'\n",
    "print(veh1.fname)\n",
    "print(veh1.email)"
   ]
  },
  {
   "cell_type": "code",
   "execution_count": 35,
   "metadata": {},
   "outputs": [
    {
     "name": "stdout",
     "output_type": "stream",
     "text": [
      "Tom.Rah@naver.com\n"
     ]
    }
   ],
   "source": [
    "class Vehicle:\n",
    "    \n",
    "    def __init__(self, firstname, lastname):\n",
    "        self.fname = firstname\n",
    "        self.lname = lastname\n",
    "        \n",
    "    @property #email 메서드의 동작을 변경할 수 있다.\n",
    "    def email(self):\n",
    "        return self.fname + '.' + self.lname + '@naver.com'\n",
    "    \n",
    "veh1 = Vehicle(\"Hank\", \"Rah\")\n",
    "veh1.fname = 'Tom'\n",
    "print(veh1.email)"
   ]
  },
  {
   "cell_type": "code",
   "execution_count": null,
   "metadata": {},
   "outputs": [],
   "source": [
    "class Vehicle:\n",
    "    \n",
    "    def __init__(self, firstname, lastname):\n",
    "        "
   ]
  },
  {
   "cell_type": "code",
   "execution_count": 19,
   "metadata": {},
   "outputs": [
    {
     "name": "stdout",
     "output_type": "stream",
     "text": [
      "ㅇ ㅅㅇ \n",
      "\n",
      "ㅇ ㅅㅇ ㅎ ㅅㅎ ㅇ ㅂㅇ \n",
      "\n"
     ]
    }
   ],
   "source": [
    "def test(*args):\n",
    "    for names in args:\n",
    "        print(\"%s %s\" % (names[0], names[1:3]), end=' ')\n",
    "    print(\"\\n\")\n",
    "    \n",
    "test(\"ㅇㅅㅇ\")\n",
    "test(\"ㅇㅅㅇ\", \"ㅎㅅㅎ\",\"ㅇㅂㅇ\")\n",
    "\n",
    "#Student(\"ㅇㅅㅇ\")\n"
   ]
  },
  {
   "cell_type": "code",
   "execution_count": null,
   "metadata": {},
   "outputs": [],
   "source": []
  }
 ],
 "metadata": {
  "kernelspec": {
   "display_name": "Python 3",
   "language": "python",
   "name": "python3"
  },
  "language_info": {
   "codemirror_mode": {
    "name": "ipython",
    "version": 3
   },
   "file_extension": ".py",
   "mimetype": "text/x-python",
   "name": "python",
   "nbconvert_exporter": "python",
   "pygments_lexer": "ipython3",
   "version": "3.7.3"
  }
 },
 "nbformat": 4,
 "nbformat_minor": 2
}
