{
 "cells": [
  {
   "cell_type": "code",
   "execution_count": 8,
   "metadata": {},
   "outputs": [],
   "source": [
    "import numpy as np\n",
    "import pprint\n",
    "\n",
    "pp = pprint.PrettyPrinter(width=41, compact=True)"
   ]
  },
  {
   "cell_type": "code",
   "execution_count": 11,
   "metadata": {},
   "outputs": [
    {
     "name": "stdout",
     "output_type": "stream",
     "text": [
      "array([[1, 2],\n",
      "       [3, 4],\n",
      "       [5, 6]])\n",
      "(3, 2)\n",
      "array([[ 7,  8],\n",
      "       [ 9, 10],\n",
      "       [11, 12]])\n",
      "(3, 2)\n"
     ]
    }
   ],
   "source": [
    "a = np.array([[1,2],[3,4],[5,6]])\n",
    "b = np.array([[7,8],[9,10],[11,12]])\n",
    "pp.pprint(a)\n",
    "print(a.shape)\n",
    "pp.pprint(b)\n",
    "print(b.shape)"
   ]
  },
  {
   "cell_type": "markdown",
   "metadata": {},
   "source": [
    "1)  np.concatenate"
   ]
  },
  {
   "cell_type": "code",
   "execution_count": 13,
   "metadata": {},
   "outputs": [
    {
     "name": "stdout",
     "output_type": "stream",
     "text": [
      "array([[ 1,  2],\n",
      "       [ 3,  4],\n",
      "       [ 5,  6],\n",
      "       [ 7,  8],\n",
      "       [ 9, 10],\n",
      "       [11, 12]])\n"
     ]
    }
   ],
   "source": [
    "no_1 = np.concatenate((a, b), axis=0)\n",
    "#행렬을 붙이는 계산\n",
    "pp.pprint(no_1)"
   ]
  },
  {
   "cell_type": "code",
   "execution_count": 6,
   "metadata": {},
   "outputs": [
    {
     "name": "stdout",
     "output_type": "stream",
     "text": [
      "[[ 8 10]\n",
      " [12 14]\n",
      " [16 18]]\n"
     ]
    }
   ],
   "source": [
    "print(a+b)\n",
    "#그냥 더하면 broadcasting 연산으로 덧셈연산을 하게된다."
   ]
  },
  {
   "cell_type": "code",
   "execution_count": 19,
   "metadata": {},
   "outputs": [
    {
     "name": "stdout",
     "output_type": "stream",
     "text": [
      "[1, 2, 3, 4, 5, 6]\n"
     ]
    }
   ],
   "source": [
    "list_1 = [1,2,3]\n",
    "list_2 = [4,5,6]\n",
    "temp =list_1 + list_2 \n",
    "print(temp)\n",
    "#리스트는 바로 concatinate 연산을 하니 절대 헷갈리지 말 것\n",
    "#배열과 리스트의 차이를 생각하면 편하다."
   ]
  },
  {
   "cell_type": "code",
   "execution_count": 22,
   "metadata": {},
   "outputs": [
    {
     "name": "stderr",
     "output_type": "stream",
     "text": [
      "<ipython-input-22-1520e8c4410c>:3: VisibleDeprecationWarning: Creating an ndarray from ragged nested sequences (which is a list-or-tuple of lists-or-tuples-or ndarrays with different lengths or shapes) is deprecated. If you meant to do this, you must specify 'dtype=object' when creating the ndarray\n",
      "  d = np.array([[1,2,3,4],[5,6,7]])\n"
     ]
    }
   ],
   "source": [
    "#만약 다른 모양끼리 concat을 하면 어떨까?\n",
    "c = np.array([[1,2],[3,4],[5,6]])\n",
    "d = np.array([[1,2,3,4],[5,6,7]])\n",
    "e = np.array([1,2,3,4])"
   ]
  },
  {
   "cell_type": "code",
   "execution_count": 24,
   "metadata": {},
   "outputs": [
    {
     "ename": "ValueError",
     "evalue": "all the input arrays must have same number of dimensions, but the array at index 0 has 2 dimension(s) and the array at index 1 has 1 dimension(s)",
     "output_type": "error",
     "traceback": [
      "\u001b[1;31m---------------------------------------------------------------------------\u001b[0m",
      "\u001b[1;31mValueError\u001b[0m                                Traceback (most recent call last)",
      "\u001b[1;32m<ipython-input-24-8e647ed631fd>\u001b[0m in \u001b[0;36m<module>\u001b[1;34m\u001b[0m\n\u001b[1;32m----> 1\u001b[1;33m \u001b[0mconcat2\u001b[0m \u001b[1;33m=\u001b[0m \u001b[0mnp\u001b[0m\u001b[1;33m.\u001b[0m\u001b[0mconcatenate\u001b[0m\u001b[1;33m(\u001b[0m\u001b[1;33m(\u001b[0m\u001b[0mc\u001b[0m\u001b[1;33m,\u001b[0m\u001b[0md\u001b[0m\u001b[1;33m)\u001b[0m\u001b[1;33m,\u001b[0m \u001b[0maxis\u001b[0m\u001b[1;33m=\u001b[0m\u001b[1;36m0\u001b[0m\u001b[1;33m)\u001b[0m\u001b[1;33m\u001b[0m\u001b[1;33m\u001b[0m\u001b[0m\n\u001b[0m",
      "\u001b[1;32m<__array_function__ internals>\u001b[0m in \u001b[0;36mconcatenate\u001b[1;34m(*args, **kwargs)\u001b[0m\n",
      "\u001b[1;31mValueError\u001b[0m: all the input arrays must have same number of dimensions, but the array at index 0 has 2 dimension(s) and the array at index 1 has 1 dimension(s)"
     ]
    }
   ],
   "source": [
    "concat2 = np.concatenate((c,d), axis=0)\n",
    "#같은 차원으로만 더해야 한다고 한다."
   ]
  },
  {
   "cell_type": "markdown",
   "metadata": {},
   "source": [
    "# 2)  np.stack, vstack, hstack"
   ]
  },
  {
   "cell_type": "markdown",
   "metadata": {},
   "source": [
    "stack과 concat의 차이점?  \n",
    "stack : Join a sequence of arrays along a new axis.  \n",
    "concat: Join a sequence of arrays along an existing axis.  "
   ]
  },
  {
   "cell_type": "markdown",
   "metadata": {},
   "source": [
    "여기서 차이점인, existing axis와 new_axis 차이는 뭘까?"
   ]
  },
  {
   "cell_type": "code",
   "execution_count": 55,
   "metadata": {},
   "outputs": [
    {
     "name": "stdout",
     "output_type": "stream",
     "text": [
      "(2, 3)\n",
      "[array([[ 1.61681734,  2.14880995,  0.06800799],\n",
      "       [ 0.50987027, -1.16040776,  2.00851077]]), array([[-1.08192355,  1.25180471, -1.74640422],\n",
      "       [ 1.88690038, -0.20903632, -0.62252835]]), array([[ 0.2582378 , -0.33014424, -0.63408707],\n",
      "       [-1.18816754,  0.04725139, -0.97246026]]), array([[-0.66722394,  0.04198197, -0.65487798],\n",
      "       [ 0.14602292, -0.13570086, -0.19563877]])]\n"
     ]
    }
   ],
   "source": [
    "arrays = [np.random.randn(2,3) for _ in range(4)]\n",
    "print(arrays[0].shape)\n",
    "print(arrays)"
   ]
  },
  {
   "cell_type": "code",
   "execution_count": 56,
   "metadata": {},
   "outputs": [
    {
     "name": "stdout",
     "output_type": "stream",
     "text": [
      "(4, 2, 3)\n",
      "[[[ 1.61681734  2.14880995  0.06800799]\n",
      "  [ 0.50987027 -1.16040776  2.00851077]]\n",
      "\n",
      " [[-1.08192355  1.25180471 -1.74640422]\n",
      "  [ 1.88690038 -0.20903632 -0.62252835]]\n",
      "\n",
      " [[ 0.2582378  -0.33014424 -0.63408707]\n",
      "  [-1.18816754  0.04725139 -0.97246026]]\n",
      "\n",
      " [[-0.66722394  0.04198197 -0.65487798]\n",
      "  [ 0.14602292 -0.13570086 -0.19563877]]]\n"
     ]
    }
   ],
   "source": [
    "new_arr = np.stack(arrays, axis=0)\n",
    "print(new_arr.shape)\n",
    "print(new_arr)"
   ]
  },
  {
   "cell_type": "code",
   "execution_count": 57,
   "metadata": {},
   "outputs": [
    {
     "name": "stdout",
     "output_type": "stream",
     "text": [
      "(2, 3, 4)\n",
      "[[[ 1.61681734 -1.08192355  0.2582378  -0.66722394]\n",
      "  [ 2.14880995  1.25180471 -0.33014424  0.04198197]\n",
      "  [ 0.06800799 -1.74640422 -0.63408707 -0.65487798]]\n",
      "\n",
      " [[ 0.50987027  1.88690038 -1.18816754  0.14602292]\n",
      "  [-1.16040776 -0.20903632  0.04725139 -0.13570086]\n",
      "  [ 2.00851077 -0.62252835 -0.97246026 -0.19563877]]]\n"
     ]
    }
   ],
   "source": [
    "new_arr_m1 = np.stack(arrays, axis=-1)\n",
    "print(new_arr_m1.shape)\n",
    "print(new_arr_m1)"
   ]
  },
  {
   "cell_type": "code",
   "execution_count": 58,
   "metadata": {},
   "outputs": [
    {
     "name": "stdout",
     "output_type": "stream",
     "text": [
      "(2, 4, 3)\n",
      "[[[ 1.61681734  2.14880995  0.06800799]\n",
      "  [-1.08192355  1.25180471 -1.74640422]\n",
      "  [ 0.2582378  -0.33014424 -0.63408707]\n",
      "  [-0.66722394  0.04198197 -0.65487798]]\n",
      "\n",
      " [[ 0.50987027 -1.16040776  2.00851077]\n",
      "  [ 1.88690038 -0.20903632 -0.62252835]\n",
      "  [-1.18816754  0.04725139 -0.97246026]\n",
      "  [ 0.14602292 -0.13570086 -0.19563877]]]\n"
     ]
    }
   ],
   "source": [
    "new_arr1 = np.stack(arrays, axis=1)\n",
    "print(new_arr1.shape)\n",
    "print(new_arr1)"
   ]
  },
  {
   "cell_type": "code",
   "execution_count": 59,
   "metadata": {},
   "outputs": [
    {
     "name": "stdout",
     "output_type": "stream",
     "text": [
      "(2, 3, 4)\n",
      "[[[ 1.61681734 -1.08192355  0.2582378  -0.66722394]\n",
      "  [ 2.14880995  1.25180471 -0.33014424  0.04198197]\n",
      "  [ 0.06800799 -1.74640422 -0.63408707 -0.65487798]]\n",
      "\n",
      " [[ 0.50987027  1.88690038 -1.18816754  0.14602292]\n",
      "  [-1.16040776 -0.20903632  0.04725139 -0.13570086]\n",
      "  [ 2.00851077 -0.62252835 -0.97246026 -0.19563877]]]\n"
     ]
    }
   ],
   "source": [
    "new_arr2 = np.stack(arrays, axis=2)\n",
    "#new_arr3 = np.stack(arrays, axis=3) #axis가 3개니까 0,1,2 말곤 없겠지?\n",
    "print(new_arr2.shape)\n",
    "print(new_arr2)"
   ]
  },
  {
   "cell_type": "markdown",
   "metadata": {},
   "source": [
    "독립된 3행 4열 np.array들을 단일 numpy array로 합쳤다."
   ]
  },
  {
   "cell_type": "markdown",
   "metadata": {},
   "source": [
    "3) np.append"
   ]
  },
  {
   "cell_type": "markdown",
   "metadata": {},
   "source": [
    "numpy.append(arr, values, axis=None)  \n",
    "Append values to the end of an array.  "
   ]
  },
  {
   "cell_type": "code",
   "execution_count": null,
   "metadata": {},
   "outputs": [],
   "source": [
    "np.append([1,2,3],[4,5,6],[7,8,9])"
   ]
  },
  {
   "cell_type": "markdown",
   "metadata": {},
   "source": [
    "4) np.newaxis, None ( newaxis 와 차이 비교 )"
   ]
  },
  {
   "cell_type": "code",
   "execution_count": null,
   "metadata": {},
   "outputs": [],
   "source": []
  },
  {
   "cell_type": "markdown",
   "metadata": {},
   "source": [
    "5) np.reshape"
   ]
  },
  {
   "cell_type": "code",
   "execution_count": 17,
   "metadata": {},
   "outputs": [
    {
     "name": "stdout",
     "output_type": "stream",
     "text": [
      "(3, 2)\n",
      "(3, 2)\n"
     ]
    }
   ],
   "source": [
    "print(a.shape)\n",
    "a.reshape(3,2,1)\n",
    "print(a.shape)"
   ]
  },
  {
   "cell_type": "markdown",
   "metadata": {},
   "source": [
    "6) np.expand_dims"
   ]
  },
  {
   "cell_type": "code",
   "execution_count": null,
   "metadata": {},
   "outputs": [],
   "source": []
  }
 ],
 "metadata": {
  "kernelspec": {
   "display_name": "Python 3",
   "language": "python",
   "name": "python3"
  },
  "language_info": {
   "codemirror_mode": {
    "name": "ipython",
    "version": 3
   },
   "file_extension": ".py",
   "mimetype": "text/x-python",
   "name": "python",
   "nbconvert_exporter": "python",
   "pygments_lexer": "ipython3",
   "version": "3.8.5"
  }
 },
 "nbformat": 4,
 "nbformat_minor": 4
}
