{
 "cells": [
  {
   "cell_type": "code",
   "execution_count": 2,
   "metadata": {},
   "outputs": [],
   "source": [
    "import numpy as np\n",
    "import pprint\n",
    "\n",
    "pp = pprint.PrettyPrinter(width=41, compact=True)"
   ]
  },
  {
   "cell_type": "code",
   "execution_count": 3,
   "metadata": {},
   "outputs": [
    {
     "name": "stdout",
     "output_type": "stream",
     "text": [
      "array([[1, 2],\n",
      "       [3, 4],\n",
      "       [5, 6]])\n",
      "(3, 2)\n",
      "array([[ 7,  8],\n",
      "       [ 9, 10],\n",
      "       [11, 12]])\n",
      "(3, 2)\n"
     ]
    }
   ],
   "source": [
    "a = np.array([[1,2],[3,4],[5,6]])\n",
    "b = np.array([[7,8],[9,10],[11,12]])\n",
    "pp.pprint(a)\n",
    "print(a.shape)\n",
    "pp.pprint(b)\n",
    "print(b.shape)"
   ]
  },
  {
   "cell_type": "markdown",
   "metadata": {},
   "source": [
    "# 1)  np.concatenate"
   ]
  },
  {
   "cell_type": "code",
   "execution_count": 4,
   "metadata": {},
   "outputs": [
    {
     "name": "stdout",
     "output_type": "stream",
     "text": [
      "array([[ 1,  2],\n",
      "       [ 3,  4],\n",
      "       [ 5,  6],\n",
      "       [ 7,  8],\n",
      "       [ 9, 10],\n",
      "       [11, 12]])\n"
     ]
    }
   ],
   "source": [
    "no_1 = np.concatenate((a, b), axis=0)\n",
    "#행렬을 붙이는 계산\n",
    "pp.pprint(no_1)"
   ]
  },
  {
   "cell_type": "code",
   "execution_count": 5,
   "metadata": {},
   "outputs": [
    {
     "name": "stdout",
     "output_type": "stream",
     "text": [
      "[[ 8 10]\n",
      " [12 14]\n",
      " [16 18]]\n"
     ]
    }
   ],
   "source": [
    "print(a+b)\n",
    "#그냥 더하면 broadcasting 연산으로 덧셈연산을 하게된다."
   ]
  },
  {
   "cell_type": "code",
   "execution_count": 6,
   "metadata": {},
   "outputs": [
    {
     "name": "stdout",
     "output_type": "stream",
     "text": [
      "[1, 2, 3, 4, 5, 6]\n"
     ]
    }
   ],
   "source": [
    "list_1 = [1,2,3]\n",
    "list_2 = [4,5,6]\n",
    "temp =list_1 + list_2 \n",
    "print(temp)\n",
    "#리스트는 바로 concatinate 연산을 하니 절대 헷갈리지 말 것\n",
    "#배열과 리스트의 차이를 생각하면 편하다."
   ]
  },
  {
   "cell_type": "code",
   "execution_count": 7,
   "metadata": {},
   "outputs": [
    {
     "name": "stderr",
     "output_type": "stream",
     "text": [
      "<ipython-input-7-1520e8c4410c>:3: VisibleDeprecationWarning: Creating an ndarray from ragged nested sequences (which is a list-or-tuple of lists-or-tuples-or ndarrays with different lengths or shapes) is deprecated. If you meant to do this, you must specify 'dtype=object' when creating the ndarray\n",
      "  d = np.array([[1,2,3,4],[5,6,7]])\n"
     ]
    }
   ],
   "source": [
    "#만약 다른 모양끼리 concat을 하면 어떨까?\n",
    "c = np.array([[1,2],[3,4],[5,6]])\n",
    "d = np.array([[1,2,3,4],[5,6,7]])\n",
    "e = np.array([1,2,3,4])"
   ]
  },
  {
   "cell_type": "code",
   "execution_count": 8,
   "metadata": {},
   "outputs": [
    {
     "ename": "ValueError",
     "evalue": "all the input arrays must have same number of dimensions, but the array at index 0 has 2 dimension(s) and the array at index 1 has 1 dimension(s)",
     "output_type": "error",
     "traceback": [
      "\u001b[1;31m---------------------------------------------------------------------------\u001b[0m",
      "\u001b[1;31mValueError\u001b[0m                                Traceback (most recent call last)",
      "\u001b[1;32m<ipython-input-8-b13097b954ea>\u001b[0m in \u001b[0;36m<module>\u001b[1;34m\u001b[0m\n\u001b[1;32m----> 1\u001b[1;33m \u001b[0mconcat2\u001b[0m \u001b[1;33m=\u001b[0m \u001b[0mnp\u001b[0m\u001b[1;33m.\u001b[0m\u001b[0mconcatenate\u001b[0m\u001b[1;33m(\u001b[0m\u001b[1;33m(\u001b[0m\u001b[0mc\u001b[0m\u001b[1;33m,\u001b[0m\u001b[0md\u001b[0m\u001b[1;33m)\u001b[0m\u001b[1;33m,\u001b[0m \u001b[0maxis\u001b[0m\u001b[1;33m=\u001b[0m\u001b[1;36m0\u001b[0m\u001b[1;33m)\u001b[0m\u001b[1;33m\u001b[0m\u001b[1;33m\u001b[0m\u001b[0m\n\u001b[0m\u001b[0;32m      2\u001b[0m \u001b[1;31m#같은 차원으로만 더해야 한다고 한다.\u001b[0m\u001b[1;33m\u001b[0m\u001b[1;33m\u001b[0m\u001b[1;33m\u001b[0m\u001b[0m\n",
      "\u001b[1;32m<__array_function__ internals>\u001b[0m in \u001b[0;36mconcatenate\u001b[1;34m(*args, **kwargs)\u001b[0m\n",
      "\u001b[1;31mValueError\u001b[0m: all the input arrays must have same number of dimensions, but the array at index 0 has 2 dimension(s) and the array at index 1 has 1 dimension(s)"
     ]
    }
   ],
   "source": [
    "concat2 = np.concatenate((c,d), axis=0)\n",
    "#같은 차원으로만 더해야 한다고 한다."
   ]
  },
  {
   "cell_type": "markdown",
   "metadata": {},
   "source": [
    "# 2)  np.stack, vstack, hstack"
   ]
  },
  {
   "cell_type": "markdown",
   "metadata": {},
   "source": [
    "stack과 concat의 차이점?  \n",
    "stack : Join a sequence of arrays along a new axis.  \n",
    "concat: Join a sequence of arrays along an existing axis.  "
   ]
  },
  {
   "cell_type": "markdown",
   "metadata": {},
   "source": [
    "여기서 차이점인, existing axis와 new_axis 차이는 뭘까?"
   ]
  },
  {
   "cell_type": "code",
   "execution_count": 9,
   "metadata": {},
   "outputs": [
    {
     "name": "stdout",
     "output_type": "stream",
     "text": [
      "(2, 3)\n",
      "[array([[ 1.98591611, -0.07317036, -1.03587676],\n",
      "       [-1.16489752,  1.88911641, -0.55030062]]), array([[-2.25094399, -0.88938835, -1.46217387],\n",
      "       [-1.02623026, -1.15285903, -0.60202051]]), array([[ 0.42168814,  1.7920859 , -2.07573402],\n",
      "       [ 1.21356275,  1.59944232, -0.73524865]]), array([[-0.32177738,  0.53867131,  1.4056303 ],\n",
      "       [ 0.60661546,  0.12733249,  1.15495727]])]\n"
     ]
    }
   ],
   "source": [
    "arrays = [np.random.randn(2,3) for _ in range(4)]\n",
    "print(arrays[0].shape)\n",
    "print(arrays)"
   ]
  },
  {
   "cell_type": "code",
   "execution_count": 10,
   "metadata": {},
   "outputs": [
    {
     "name": "stdout",
     "output_type": "stream",
     "text": [
      "(4, 2, 3)\n",
      "[[[ 1.98591611 -0.07317036 -1.03587676]\n",
      "  [-1.16489752  1.88911641 -0.55030062]]\n",
      "\n",
      " [[-2.25094399 -0.88938835 -1.46217387]\n",
      "  [-1.02623026 -1.15285903 -0.60202051]]\n",
      "\n",
      " [[ 0.42168814  1.7920859  -2.07573402]\n",
      "  [ 1.21356275  1.59944232 -0.73524865]]\n",
      "\n",
      " [[-0.32177738  0.53867131  1.4056303 ]\n",
      "  [ 0.60661546  0.12733249  1.15495727]]]\n"
     ]
    }
   ],
   "source": [
    "new_arr = np.stack(arrays, axis=0)\n",
    "print(new_arr.shape)\n",
    "print(new_arr)"
   ]
  },
  {
   "cell_type": "code",
   "execution_count": 11,
   "metadata": {},
   "outputs": [
    {
     "name": "stdout",
     "output_type": "stream",
     "text": [
      "(2, 3, 4)\n",
      "[[[ 1.98591611 -2.25094399  0.42168814 -0.32177738]\n",
      "  [-0.07317036 -0.88938835  1.7920859   0.53867131]\n",
      "  [-1.03587676 -1.46217387 -2.07573402  1.4056303 ]]\n",
      "\n",
      " [[-1.16489752 -1.02623026  1.21356275  0.60661546]\n",
      "  [ 1.88911641 -1.15285903  1.59944232  0.12733249]\n",
      "  [-0.55030062 -0.60202051 -0.73524865  1.15495727]]]\n"
     ]
    }
   ],
   "source": [
    "new_arr_m1 = np.stack(arrays, axis=-1)\n",
    "print(new_arr_m1.shape)\n",
    "print(new_arr_m1)"
   ]
  },
  {
   "cell_type": "code",
   "execution_count": 12,
   "metadata": {},
   "outputs": [
    {
     "name": "stdout",
     "output_type": "stream",
     "text": [
      "(2, 4, 3)\n",
      "[[[ 1.98591611 -0.07317036 -1.03587676]\n",
      "  [-2.25094399 -0.88938835 -1.46217387]\n",
      "  [ 0.42168814  1.7920859  -2.07573402]\n",
      "  [-0.32177738  0.53867131  1.4056303 ]]\n",
      "\n",
      " [[-1.16489752  1.88911641 -0.55030062]\n",
      "  [-1.02623026 -1.15285903 -0.60202051]\n",
      "  [ 1.21356275  1.59944232 -0.73524865]\n",
      "  [ 0.60661546  0.12733249  1.15495727]]]\n"
     ]
    }
   ],
   "source": [
    "new_arr1 = np.stack(arrays, axis=1)\n",
    "print(new_arr1.shape)\n",
    "print(new_arr1)"
   ]
  },
  {
   "cell_type": "code",
   "execution_count": 13,
   "metadata": {},
   "outputs": [
    {
     "name": "stdout",
     "output_type": "stream",
     "text": [
      "(2, 3, 4)\n",
      "[[[ 1.98591611 -2.25094399  0.42168814 -0.32177738]\n",
      "  [-0.07317036 -0.88938835  1.7920859   0.53867131]\n",
      "  [-1.03587676 -1.46217387 -2.07573402  1.4056303 ]]\n",
      "\n",
      " [[-1.16489752 -1.02623026  1.21356275  0.60661546]\n",
      "  [ 1.88911641 -1.15285903  1.59944232  0.12733249]\n",
      "  [-0.55030062 -0.60202051 -0.73524865  1.15495727]]]\n"
     ]
    }
   ],
   "source": [
    "new_arr2 = np.stack(arrays, axis=2)\n",
    "#new_arr3 = np.stack(arrays, axis=3) #axis가 3개니까 0,1,2 말곤 없겠지?\n",
    "print(new_arr2.shape)\n",
    "print(new_arr2)"
   ]
  },
  {
   "cell_type": "markdown",
   "metadata": {},
   "source": [
    "독립된 3행 4열 np.array들을 단일 numpy array로 합쳤다."
   ]
  },
  {
   "cell_type": "markdown",
   "metadata": {},
   "source": [
    "v stack이면 v는 버티컬이겠지..  \n",
    "h stack이면 h는 호라이즌탈 이겠지..  "
   ]
  },
  {
   "cell_type": "code",
   "execution_count": 39,
   "metadata": {},
   "outputs": [
    {
     "name": "stdout",
     "output_type": "stream",
     "text": [
      "e = np.vstack((a,b))\n",
      "[[ 0  1  2  3  4]\n",
      " [ 5  6  7  8  9]\n",
      " [ 0  1  2  3  4]\n",
      " [ 5  6  7  8  9]\n",
      " [10 11 12 13 14]]\n",
      "\n",
      "f = np.vstack((a,d))\n",
      "[[0 1 2 3 4]\n",
      " [5 6 7 8 9]\n",
      " [0 1 2 3 4]]\n",
      "\n",
      "g = np.vstack((a,b,d))\n",
      "[[ 0  1  2  3  4]\n",
      " [ 5  6  7  8  9]\n",
      " [ 0  1  2  3  4]\n",
      " [ 5  6  7  8  9]\n",
      " [10 11 12 13 14]\n",
      " [ 0  1  2  3  4]]\n",
      "h = np.hstack((a,c))\n",
      "[[0 1 2 3 4 0 1 2 3]\n",
      " [5 6 7 8 9 4 5 6 7]]\n"
     ]
    }
   ],
   "source": [
    "a = np.arange(10).reshape(2,5)\n",
    "b = np.arange(15).reshape(3,5)\n",
    "c = np.arange(8).reshape(2,4)\n",
    "d = list(range(5))\n",
    "\n",
    "e = np.vstack((a,b)) # 배열과 배열 결합\n",
    "f = np.vstack((a,d)) # 배열과 리스트 결합\n",
    "g = np.vstack((a,b,d)) # 3개 이상 배열 결합\n",
    "\n",
    "print(\"e = np.vstack((a,b))\")\n",
    "print(e)\n",
    "print(\"\\nf = np.vstack((a,d))\")\n",
    "print(f)\n",
    "print(\"\\ng = np.vstack((a,b,d))\")\n",
    "print(g)\n",
    "\n",
    "a = np.arange(10).reshape(2,5)\n",
    "b = np.arange(15).reshape(3,5)\n",
    "c = np.arange(8).reshape(2,4)\n",
    "d = list(range(5))\n",
    "\n",
    "h = np.hstack((a,c))\n",
    "\n",
    "print(\"h = np.hstack((a,c))\")\n",
    "print(h)"
   ]
  },
  {
   "cell_type": "markdown",
   "metadata": {},
   "source": [
    "# 3) np.append"
   ]
  },
  {
   "cell_type": "markdown",
   "metadata": {},
   "source": [
    "numpy.append(arr, values, axis=None)  \n",
    "Append values to the end of an array.  "
   ]
  },
  {
   "cell_type": "code",
   "execution_count": 34,
   "metadata": {},
   "outputs": [
    {
     "name": "stdout",
     "output_type": "stream",
     "text": [
      "[1 2 3 4 5 6 7 8 9]\n"
     ]
    }
   ],
   "source": [
    "a1 = np.append([1,2,3],[[4,5,6],[7,8,9]])\n",
    "print(a1)"
   ]
  },
  {
   "cell_type": "code",
   "execution_count": 36,
   "metadata": {},
   "outputs": [
    {
     "name": "stdout",
     "output_type": "stream",
     "text": [
      "[[1 2 3]\n",
      " [4 5 6]\n",
      " [7 8 9]]\n"
     ]
    }
   ],
   "source": [
    "#When axis is specified, values must have the correct shape.\n",
    "a2 = np.append([[1, 2, 3], [4, 5, 6]], [[7, 8, 9]], axis=0)\n",
    "print(a2)"
   ]
  },
  {
   "cell_type": "markdown",
   "metadata": {},
   "source": [
    "# 4) np.newaxis, None ( newaxis 와 차이 비교 )"
   ]
  },
  {
   "cell_type": "markdown",
   "metadata": {},
   "source": [
    "np.array의 차원을 늘려줌  \n",
    "1D to 2D 2D to 3D... "
   ]
  },
  {
   "cell_type": "code",
   "execution_count": 15,
   "metadata": {},
   "outputs": [
    {
     "data": {
      "text/plain": [
       "(4,)"
      ]
     },
     "execution_count": 15,
     "metadata": {},
     "output_type": "execute_result"
    }
   ],
   "source": [
    "a1 = np.arange(4)\n",
    "a1.shape"
   ]
  },
  {
   "cell_type": "markdown",
   "metadata": {},
   "source": [
    "#### 1\n",
    "1D array를 row vec나 col vec로 사용하고 싶을경우   \n",
    "\n",
    "Q. (4, ) 형태로 하면 껄끄럽다는데 무슨 이유일까?"
   ]
  },
  {
   "cell_type": "code",
   "execution_count": 16,
   "metadata": {},
   "outputs": [
    {
     "data": {
      "text/plain": [
       "(1, 4)"
      ]
     },
     "execution_count": 16,
     "metadata": {},
     "output_type": "execute_result"
    }
   ],
   "source": [
    "# make it as row vector by inserting an axis along first dimension\n",
    "row_vec = a1[np.newaxis, :]\n",
    "row_vec.shape"
   ]
  },
  {
   "cell_type": "code",
   "execution_count": 17,
   "metadata": {},
   "outputs": [
    {
     "data": {
      "text/plain": [
       "(4, 1)"
      ]
     },
     "execution_count": 17,
     "metadata": {},
     "output_type": "execute_result"
    }
   ],
   "source": [
    "col_vec = a1[:, np.newaxis]\n",
    "col_vec.shape"
   ]
  },
  {
   "cell_type": "markdown",
   "metadata": {},
   "source": [
    "#### 2.  \n",
    "shape이 다른 array간 연산을 할 때도 유용.  "
   ]
  },
  {
   "cell_type": "code",
   "execution_count": 19,
   "metadata": {},
   "outputs": [
    {
     "ename": "ValueError",
     "evalue": "operands could not be broadcast together with shapes (5,) (3,) ",
     "output_type": "error",
     "traceback": [
      "\u001b[1;31m---------------------------------------------------------------------------\u001b[0m",
      "\u001b[1;31mValueError\u001b[0m                                Traceback (most recent call last)",
      "\u001b[1;32m<ipython-input-19-323b09b8c83a>\u001b[0m in \u001b[0;36m<module>\u001b[1;34m\u001b[0m\n\u001b[0;32m      1\u001b[0m \u001b[0mx1\u001b[0m \u001b[1;33m=\u001b[0m \u001b[0mnp\u001b[0m\u001b[1;33m.\u001b[0m\u001b[0marray\u001b[0m\u001b[1;33m(\u001b[0m\u001b[1;33m[\u001b[0m\u001b[1;36m1\u001b[0m\u001b[1;33m,\u001b[0m \u001b[1;36m2\u001b[0m\u001b[1;33m,\u001b[0m \u001b[1;36m3\u001b[0m\u001b[1;33m,\u001b[0m \u001b[1;36m4\u001b[0m\u001b[1;33m,\u001b[0m \u001b[1;36m5\u001b[0m\u001b[1;33m]\u001b[0m\u001b[1;33m)\u001b[0m\u001b[1;33m\u001b[0m\u001b[1;33m\u001b[0m\u001b[0m\n\u001b[0;32m      2\u001b[0m \u001b[0mx2\u001b[0m \u001b[1;33m=\u001b[0m \u001b[0mnp\u001b[0m\u001b[1;33m.\u001b[0m\u001b[0marray\u001b[0m\u001b[1;33m(\u001b[0m\u001b[1;33m[\u001b[0m\u001b[1;36m5\u001b[0m\u001b[1;33m,\u001b[0m \u001b[1;36m4\u001b[0m\u001b[1;33m,\u001b[0m \u001b[1;36m3\u001b[0m\u001b[1;33m]\u001b[0m\u001b[1;33m)\u001b[0m\u001b[1;33m\u001b[0m\u001b[1;33m\u001b[0m\u001b[0m\n\u001b[1;32m----> 3\u001b[1;33m \u001b[0mx1\u001b[0m \u001b[1;33m+\u001b[0m \u001b[0mx2\u001b[0m\u001b[1;33m\u001b[0m\u001b[1;33m\u001b[0m\u001b[0m\n\u001b[0m",
      "\u001b[1;31mValueError\u001b[0m: operands could not be broadcast together with shapes (5,) (3,) "
     ]
    }
   ],
   "source": [
    "x1 = np.array([1, 2, 3, 4, 5])\n",
    "x2 = np.array([5, 4, 3])\n",
    "x1 + x2"
   ]
  },
  {
   "cell_type": "markdown",
   "metadata": {},
   "source": [
    "이런거를 이렇게"
   ]
  },
  {
   "cell_type": "code",
   "execution_count": 21,
   "metadata": {},
   "outputs": [
    {
     "data": {
      "text/plain": [
       "array([[ 6,  5,  4],\n",
       "       [ 7,  6,  5],\n",
       "       [ 8,  7,  6],\n",
       "       [ 9,  8,  7],\n",
       "       [10,  9,  8]])"
      ]
     },
     "execution_count": 21,
     "metadata": {},
     "output_type": "execute_result"
    }
   ],
   "source": [
    "x1 = np.array([1, 2, 3, 4, 5])\n",
    "x2 = np.array([5, 4, 3])\n",
    "\n",
    "x1_new = x1[:, np.newaxis]\n",
    "x1_new + x2"
   ]
  },
  {
   "cell_type": "markdown",
   "metadata": {},
   "source": [
    "broad casting 연산이 가능하다!"
   ]
  },
  {
   "cell_type": "markdown",
   "metadata": {},
   "source": [
    "newaxis는 None과 같다.  \n",
    "\n",
    "newaxis가 생각 안나면 None을 써도 무방하다는 이야기  "
   ]
  },
  {
   "cell_type": "code",
   "execution_count": 38,
   "metadata": {},
   "outputs": [
    {
     "data": {
      "text/plain": [
       "True"
      ]
     },
     "execution_count": 38,
     "metadata": {},
     "output_type": "execute_result"
    }
   ],
   "source": [
    "np.newaxis == None"
   ]
  },
  {
   "cell_type": "markdown",
   "metadata": {},
   "source": [
    "# 5) np.reshape"
   ]
  },
  {
   "cell_type": "code",
   "execution_count": 30,
   "metadata": {},
   "outputs": [
    {
     "name": "stdout",
     "output_type": "stream",
     "text": [
      "(4,)\n",
      "(4, 1)\n",
      "[[1]\n",
      " [2]\n",
      " [3]\n",
      " [4]]\n",
      "(2, 2)\n",
      "[[1 2]\n",
      " [3 4]]\n"
     ]
    },
    {
     "ename": "ValueError",
     "evalue": "cannot reshape array of size 4 into shape (3,1)",
     "output_type": "error",
     "traceback": [
      "\u001b[1;31m---------------------------------------------------------------------------\u001b[0m",
      "\u001b[1;31mValueError\u001b[0m                                Traceback (most recent call last)",
      "\u001b[1;32m<ipython-input-30-95668ecb8a53>\u001b[0m in \u001b[0;36m<module>\u001b[1;34m\u001b[0m\n\u001b[0;32m      7\u001b[0m \u001b[0mprint\u001b[0m\u001b[1;33m(\u001b[0m\u001b[0mre_a1\u001b[0m\u001b[1;33m.\u001b[0m\u001b[0mshape\u001b[0m\u001b[1;33m)\u001b[0m\u001b[1;33m\u001b[0m\u001b[1;33m\u001b[0m\u001b[0m\n\u001b[0;32m      8\u001b[0m \u001b[0mprint\u001b[0m\u001b[1;33m(\u001b[0m\u001b[0mre_a1\u001b[0m\u001b[1;33m)\u001b[0m\u001b[1;33m\u001b[0m\u001b[1;33m\u001b[0m\u001b[0m\n\u001b[1;32m----> 9\u001b[1;33m \u001b[0mre_a2\u001b[0m \u001b[1;33m=\u001b[0m \u001b[0mnew_a1\u001b[0m\u001b[1;33m.\u001b[0m\u001b[0mreshape\u001b[0m\u001b[1;33m(\u001b[0m\u001b[1;36m3\u001b[0m\u001b[1;33m,\u001b[0m\u001b[1;36m1\u001b[0m\u001b[1;33m)\u001b[0m\u001b[1;33m\u001b[0m\u001b[1;33m\u001b[0m\u001b[0m\n\u001b[0m\u001b[0;32m     10\u001b[0m \u001b[0mprint\u001b[0m\u001b[1;33m(\u001b[0m\u001b[0mre_a2\u001b[0m\u001b[1;33m)\u001b[0m\u001b[1;33m\u001b[0m\u001b[1;33m\u001b[0m\u001b[0m\n\u001b[0;32m     11\u001b[0m \u001b[0mre_a2\u001b[0m \u001b[1;33m=\u001b[0m \u001b[0mnew_a1\u001b[0m\u001b[1;33m.\u001b[0m\u001b[0mreshape\u001b[0m\u001b[1;33m(\u001b[0m\u001b[1;36m3\u001b[0m\u001b[1;33m,\u001b[0m\u001b[1;36m3\u001b[0m\u001b[1;33m)\u001b[0m\u001b[1;33m\u001b[0m\u001b[1;33m\u001b[0m\u001b[0m\n",
      "\u001b[1;31mValueError\u001b[0m: cannot reshape array of size 4 into shape (3,1)"
     ]
    }
   ],
   "source": [
    "a1 = np.array([1,2,3,4])\n",
    "print(a1.shape)\n",
    "new_a1 = a1[:,np.newaxis]\n",
    "print(new_a1.shape)\n",
    "print(new_a1)\n",
    "re_a1 = new_a1.reshape(2,2)\n",
    "print(re_a1.shape)\n",
    "print(re_a1)\n",
    "re_a2 = new_a1.reshape(3,1)\n",
    "print(re_a2)\n",
    "re_a2 = new_a1.reshape(3,3)\n",
    "print(re_a2)"
   ]
  },
  {
   "cell_type": "markdown",
   "metadata": {},
   "source": [
    "## reshape vs newaxis ?\n",
    "\n",
    "reshape는 변환전 차원의 합과 변환후 차원의 합이 같아야 한다.\n",
    "\n",
    "(4,1)을 변환한다는 기준으로 (2,2)는 reshape 가능한데 (4,1)을 (3,3)으로 바꿀 수 없다는 제약이 있음\n",
    "\n",
    "* 4개의 원소를 2by2로 재배열한다는 느낌이 reshape인겁니다. 없는 걸 만들어내는 놈은 아닌것  "
   ]
  },
  {
   "cell_type": "markdown",
   "metadata": {},
   "source": [
    "# 6) np.expand_dims"
   ]
  },
  {
   "cell_type": "markdown",
   "metadata": {},
   "source": [
    "Expand the shape of an array.  \n",
    "  \n",
    "Insert a new axis that will appear at the axis position in the expanded array shape.  "
   ]
  },
  {
   "cell_type": "code",
   "execution_count": 40,
   "metadata": {},
   "outputs": [
    {
     "data": {
      "text/plain": [
       "(4,)"
      ]
     },
     "execution_count": 40,
     "metadata": {},
     "output_type": "execute_result"
    }
   ],
   "source": [
    "a = np.array([1,2,3,4])\n",
    "a.shape"
   ]
  },
  {
   "cell_type": "code",
   "execution_count": 43,
   "metadata": {},
   "outputs": [
    {
     "name": "stdout",
     "output_type": "stream",
     "text": [
      "[[1 2 3 4]]\n",
      "(1, 4)\n"
     ]
    }
   ],
   "source": [
    "b = np.expand_dims(a, axis=0)\n",
    "print(b)\n",
    "print(b.shape)"
   ]
  },
  {
   "cell_type": "code",
   "execution_count": null,
   "metadata": {},
   "outputs": [],
   "source": []
  }
 ],
 "metadata": {
  "kernelspec": {
   "display_name": "Python 3",
   "language": "python",
   "name": "python3"
  },
  "language_info": {
   "codemirror_mode": {
    "name": "ipython",
    "version": 3
   },
   "file_extension": ".py",
   "mimetype": "text/x-python",
   "name": "python",
   "nbconvert_exporter": "python",
   "pygments_lexer": "ipython3",
   "version": "3.8.5"
  }
 },
 "nbformat": 4,
 "nbformat_minor": 4
}
