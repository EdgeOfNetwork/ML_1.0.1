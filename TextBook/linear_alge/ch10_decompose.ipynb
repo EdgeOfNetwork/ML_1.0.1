{
 "cells": [
  {
   "cell_type": "code",
   "execution_count": 1,
   "metadata": {},
   "outputs": [],
   "source": [
    "#특정 행렬의 고윳값 분해"
   ]
  },
  {
   "cell_type": "code",
   "execution_count": 3,
   "metadata": {},
   "outputs": [],
   "source": [
    "import numpy as np\n",
    "import pprint\n",
    "pp = pprint.PrettyPrinter(width=41, compact=True)"
   ]
  },
  {
   "cell_type": "code",
   "execution_count": 5,
   "metadata": {},
   "outputs": [
    {
     "name": "stdout",
     "output_type": "stream",
     "text": [
      "행렬 A\n",
      "array([[3., 1.],\n",
      "       [2., 2.]])\n",
      "고윳값 행렬 L\n",
      "array([[4., 0.],\n",
      "       [0., 1.]])\n",
      "고유벡터 행렬 S\n",
      "array([[ 0.70710678, -0.4472136 ],\n",
      "       [ 0.70710678,  0.89442719]])\n",
      "S *L *S ^ -1\n",
      "array([[3., 1.],\n",
      "       [2., 2.]])\n"
     ]
    }
   ],
   "source": [
    "A = np.array([[3.0, 1.0], [2.0, 2.0]])\n",
    "w, S = np.linalg.eig(A) #행렬 A의 고윳값을 1차원 배열 w로, 고유벡터 2차원 배열 S로 반환한다.\n",
    "L = np.diag(w)\n",
    "print(\"행렬 A\")\n",
    "pp.pprint(A)\n",
    "print(\"고윳값 행렬 L\")\n",
    "pp.pprint(L)\n",
    "print(\"고유벡터 행렬 S\")\n",
    "pp.pprint(S)\n",
    "print(\"S *L *S ^ -1\")\n",
    "pp.pprint(np.matmul(np.matmul(S, L), np.linalg.inv(S)))"
   ]
  },
  {
   "cell_type": "code",
   "execution_count": 6,
   "metadata": {},
   "outputs": [
    {
     "name": "stdout",
     "output_type": "stream",
     "text": [
      "행렬 B\n",
      "array([[ 1.,  1.,  0.],\n",
      "       [ 1.,  3.,  1.],\n",
      "       [ 2., -1.,  1.]])\n",
      "고윳값 행렬 L\n",
      "array([[3.35930409+0.j        , 0.        +0.j        ,\n",
      "        0.        +0.j        ],\n",
      "       [0.        +0.j        , 0.82034796+0.90301315j,\n",
      "        0.        +0.j        ],\n",
      "       [0.        +0.j        , 0.        +0.j        ,\n",
      "        0.82034796-0.90301315j]])\n",
      "고유벡터 행렬 S\n",
      "array([[ 0.38955921+0.j        , -0.19155904+0.28662578j,\n",
      "        -0.19155904-0.28662578j],\n",
      "       [ 0.91908864+0.j        , -0.22441288-0.22447324j,\n",
      "        -0.22441288+0.22447324j],\n",
      "       [-0.05932691+0.j        ,  0.88340332+0.j        ,\n",
      "         0.88340332-0.j        ]])\n",
      "S *L *S ^ -1\n",
      "array([[ 1.00000000e+00-2.42290433e-17j,  1.00000000e+00+5.74918459e-18j,\n",
      "        -8.46545056e-16-1.82450963e-18j],\n",
      "       [ 1.00000000e+00+1.79677169e-16j,  3.00000000e+00-9.10962438e-17j,\n",
      "         1.00000000e+00+3.78161936e-17j],\n",
      "       [ 2.00000000e+00+1.27182516e-16j, -1.00000000e+00-8.72336096e-17j,\n",
      "         1.00000000e+00+2.49212557e-17j]])\n"
     ]
    }
   ],
   "source": [
    "B = np.array([[1.0, 1.0, 0.0], [1.0, 3.0, 1.0], [2.0, -1.0, 1.0]])\n",
    "w, S = np.linalg.eig(B)\n",
    "L = np.diag(w)\n",
    "print(\"행렬 B\")\n",
    "pp.pprint(B)\n",
    "print(\"고윳값 행렬 L\")\n",
    "pp.pprint(L)\n",
    "print(\"고유벡터 행렬 S\")\n",
    "pp.pprint(S)\n",
    "print(\"S *L *S ^ -1\")\n",
    "pp.pprint(np.matmul(np.matmul(S, L), np.linalg.inv(S)))"
   ]
  },
  {
   "cell_type": "markdown",
   "metadata": {},
   "source": [
    "2. 선형판별분석과 시각화 코드"
   ]
  },
  {
   "cell_type": "code",
   "execution_count": 8,
   "metadata": {},
   "outputs": [],
   "source": [
    "import numpy as np\n",
    "from numpy.matlib import repmat\n",
    "import matplotlib.pyplot as plt\n",
    "from scipy import linalg"
   ]
  },
  {
   "cell_type": "code",
   "execution_count": 9,
   "metadata": {},
   "outputs": [],
   "source": [
    "C1 = np.array([[2., 3.], [2., 4.], [3.,6.],[4.,1.],[4., 4.]])\n",
    "C2 = np.array([[6., 8.], [8., 7.], [9.,5.],[9.,10.],[10., 8.]])"
   ]
  },
  {
   "cell_type": "code",
   "execution_count": 10,
   "metadata": {},
   "outputs": [],
   "source": [
    "mu1 = np.mean(C1, axis=0) #c1 데이터의 평균벡터 계산\n",
    "mu2 = np.mean(C2, axis=0)"
   ]
  },
  {
   "cell_type": "code",
   "execution_count": 11,
   "metadata": {},
   "outputs": [
    {
     "name": "stdout",
     "output_type": "stream",
     "text": [
      "c1 평균벡터 :  [3.  3.6]\n",
      "c2 평균벡터 :  [8.4 7.6]\n"
     ]
    }
   ],
   "source": [
    "print(\"c1 평균벡터 : \", mu1)\n",
    "print(\"c2 평균벡터 : \", mu2)"
   ]
  },
  {
   "cell_type": "code",
   "execution_count": 12,
   "metadata": {},
   "outputs": [],
   "source": [
    "S1 = np.cov(C1.T) * (C1.shape[0] - 1)\n",
    "S2 = np.cov(C2.T) * (C2.shape[0] - 1)"
   ]
  },
  {
   "cell_type": "code",
   "execution_count": 13,
   "metadata": {},
   "outputs": [],
   "source": [
    "Sw = S1 + S2 #부류 내의 산포 행렬의 합 ??? \n",
    "#산포행렬??"
   ]
  },
  {
   "cell_type": "code",
   "execution_count": 14,
   "metadata": {},
   "outputs": [
    {
     "name": "stdout",
     "output_type": "stream",
     "text": [
      "c1에 대한 부류 내의 산포 행렬 : [[ 4.  -2. ]\n",
      " [-2.  13.2]]\n",
      "c2에 대한 부류 내의 산포 행렬 : [[ 9.2 -0.2]\n",
      " [-0.2 13.2]]\n",
      "c1, c2에 대한 부류 내의 산포 행렬의 합 : [[13.2 -2.2]\n",
      " [-2.2 26.4]]\n"
     ]
    }
   ],
   "source": [
    "print(\"c1에 대한 부류 내의 산포 행렬 :\", S1)\n",
    "print(\"c2에 대한 부류 내의 산포 행렬 :\", S2)\n",
    "print(\"c1, c2에 대한 부류 내의 산포 행렬의 합 :\", Sw)"
   ]
  },
  {
   "cell_type": "code",
   "execution_count": 15,
   "metadata": {},
   "outputs": [],
   "source": [
    "Sb = (mu1 - mu2).reshape(2,1).dot((mu1 - mu2).reshape(1,2))"
   ]
  },
  {
   "cell_type": "code",
   "execution_count": 16,
   "metadata": {},
   "outputs": [
    {
     "name": "stdout",
     "output_type": "stream",
     "text": [
      "부류 간의 산포 행렬 : [[29.16 21.6 ]\n",
      " [21.6  16.  ]]\n"
     ]
    }
   ],
   "source": [
    "#부류 간의 산포 행렬 계산\n",
    "print(\"부류 간의 산포 행렬 :\", Sb)"
   ]
  },
  {
   "cell_type": "code",
   "execution_count": 17,
   "metadata": {},
   "outputs": [],
   "source": [
    "D, U = linalg.eig(linalg.inv(Sw).dot(Sb)) #Sw -1 Sb 의 고윳값 계싼"
   ]
  },
  {
   "cell_type": "code",
   "execution_count": 18,
   "metadata": {},
   "outputs": [
    {
     "name": "stdout",
     "output_type": "stream",
     "text": [
      "Sw ^ -1 * Sb의 고윳값 : [3.13137004+0.j 0.        +0.j]\n"
     ]
    }
   ],
   "source": [
    "print(\"Sw ^ -1 * Sb의 고윳값 :\", D)\n",
    "wLDA = U[:, 0]"
   ]
  },
  {
   "cell_type": "code",
   "execution_count": 19,
   "metadata": {},
   "outputs": [
    {
     "name": "stdout",
     "output_type": "stream",
     "text": [
      "LDA 정사영 벡터 : [0.91955932 0.39295122]\n"
     ]
    }
   ],
   "source": [
    "print(\"LDA 정사영 벡터 :\", wLDA)"
   ]
  },
  {
   "cell_type": "code",
   "execution_count": 20,
   "metadata": {},
   "outputs": [
    {
     "data": {
      "image/png": "[encoded data removed]",
      "text/plain": [
       "<Figure size 432x288 with 1 Axes>"
      ]
     },
     "metadata": {
      "needs_background": "light"
     },
     "output_type": "display_data"
    }
   ],
   "source": [
    "plt.figure(1)\n",
    "plt.plot(C1[:, 0], C1[:,1], 'bd')\n",
    "plt.plot(C2[:, 0], C2[:,1], 'ko')\n",
    "plt.plot([0, wLDA[0] * 15], [0, wLDA[1] * 15], 'r') #정사영 벡터\n",
    "plt.show()"
   ]
  },
  {
   "cell_type": "code",
   "execution_count": null,
   "metadata": {},
   "outputs": [],
   "source": []
  }
 ],
 "metadata": {
  "kernelspec": {
   "display_name": "Python 3",
   "language": "python",
   "name": "python3"
  },
  "language_info": {
   "codemirror_mode": {
    "name": "ipython",
    "version": 3
   },
   "file_extension": ".py",
   "mimetype": "text/x-python",
   "name": "python",
   "nbconvert_exporter": "python",
   "pygments_lexer": "ipython3",
   "version": "3.8.5"
  }
 },
 "nbformat": 4,
 "nbformat_minor": 4
}
