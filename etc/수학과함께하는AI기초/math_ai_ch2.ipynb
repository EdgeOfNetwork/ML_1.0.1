{
 "cells": [
  {
   "cell_type": "code",
   "execution_count": null,
   "metadata": {},
   "outputs": [],
   "source": [
    "A = [[0,0,0,0],[0,0,0,0]]\n",
    "\n",
    "for i in range(0,2):\n",
    "    for j in range(0,4):\n",
    "        A[i][j] = (i + 1) + (j + 1)\n",
    "print(A)\n"
   ]
  },
  {
   "cell_type": "code",
   "execution_count": null,
   "metadata": {},
   "outputs": [],
   "source": [
    "import turtle\n",
    "import numpy as np\n",
    "\n",
    "my_img = np.array([[0, 0, 0, 0, 0, 0, 0, 0],   #도형을 나타내는 이미지 데이터 행렬\n",
    "                  [0, 1, 1, 1, 0, 0, 0, 0],\n",
    "                  [1, 1, 1, 1, 1, 0, 0, 0],\n",
    "                  [1, 1, 1, 1, 1, 0, 0, 0],\n",
    "                  [0, 1, 1, 1, 0, 0, 0, 0],\n",
    "                  [0, 0, 0, 0, 0, 0, 0, 0],\n",
    "                  [0, 0, 0, 0, 0, 0, 0, 0],\n",
    "                  [0, 0, 0, 0, 0, 0, 0, 0],\n",
    "                  ])\n",
    "\n",
    "pixel_size = 10\n",
    "\n",
    "def put_pixel(x, y, p_size, p_col):\n",
    "    turtle.penup()\n",
    "    turtle.goto(x * p_size, (-1) * y * p_size)\n",
    "    turtle.pendown()\n",
    "    turtle.begin_fill()\n",
    "    turtle.fillcolor(p_col)\n",
    "    turtle.setheading(45)\n",
    "    turtle.circle(p_size / 2 , steps = 4)\n",
    "    turtle.end_fill()\n",
    "    \n",
    "    \n",
    "#Q> 왜 j i 순일까?\n",
    "for j in range(0, 8): #행벡터 방문\n",
    "    for i in range(0, 8): #열벡터 방문\n",
    "        if(my_img[j][i] > 0):\n",
    "            put_pixel(i, j, pixel_size, 'blue')\n",
    "        else:\n",
    "            put_pixel(i, j, pixel_size, 'white')\n",
    "            \n",
    "\"\"\"turtle이 주피터에는 원래 실행이 안되나?\"\"\"\n"
   ]
  },
  {
   "cell_type": "code",
   "execution_count": null,
   "metadata": {},
   "outputs": [],
   "source": [
    "import turtle\n",
    "import numpy as np\n",
    "\n",
    "face_img = np.array(                                      # 46쪽 (a) 도형을 나타내는 이미지 데이터 행렬 \n",
    "    [[0, 0, 0, 0, 0, 0, 0, 0, 0, 0, 0, 0, 0, 0, 0, 0],   \n",
    "     [0, 0, 0, 0, 0, 0, 0, 0, 0, 0, 0, 0, 0, 0, 0, 0],\n",
    "     [0, 0, 0, 0, 0, 0, 1, 1, 1, 1, 0, 0, 0, 0, 0, 0],\n",
    "     [0, 0, 0, 0, 1, 1, 1, 1, 1, 1, 1, 1, 0, 0, 0, 0],\n",
    "     [0, 0, 0, 1, 1, 1, 1, 1, 1, 1, 1, 1, 1, 0, 0, 0],\n",
    "     [0, 0, 0, 1, 1, 1, 1, 1, 1, 1, 1, 1, 1, 0, 0, 0],\n",
    "     [0, 0, 1, 1, 1, 1, 1, 1, 1, 1, 1, 1, 1, 1, 0, 0],\n",
    "     [0, 0, 1, 1, 1, 1, 1, 1, 1, 1, 1, 1, 1, 1, 0, 0],\n",
    "     [0, 0, 1, 1, 1, 1, 1, 1, 1, 1, 1, 1, 1, 1, 0, 0],\n",
    "     [0, 0, 1, 1, 1, 1, 1, 1, 1, 1, 1, 1, 1, 1, 0, 0],\n",
    "     [0, 0, 1, 1, 1, 1, 1, 1, 1, 1, 1, 1, 1, 1, 0, 0],\n",
    "     [0, 0, 0, 1, 1, 1, 1, 1, 1, 1, 1, 1, 1, 0, 0, 0],\n",
    "     [0, 0, 0, 0, 1, 1, 1, 1, 1, 1, 1, 1, 0, 0, 0, 0],\n",
    "     [0, 0, 0, 0, 0, 1, 1, 1, 1, 1, 1, 0, 0, 0, 0, 0],\n",
    "     [0, 0, 0, 0, 0, 0, 0, 1, 1, 0, 0, 0, 0, 0, 0, 0],\n",
    "     [0, 0, 0, 0, 0, 0, 0, 0, 0, 0, 0, 0, 0, 0, 0, 0]])\n",
    "\n",
    "smile_img = np.array(                                     # 46쪽 (b) 도형을 나타내는 이미지 데이터 행렬\n",
    "    [[0, 0, 0, 0, 0, 0, 0, 0, 0, 0, 0, 0, 0, 0, 0, 0],\n",
    "     [0, 0, 0, 0, 0, 0, 0, 0, 0, 0, 0, 0, 0, 0, 0, 0],\n",
    "     [0, 0, 0, 0, 0, 0, 0, 0, 0, 0, 0, 0, 0, 0, 0, 0],\n",
    "     [0, 0, 0, 0, 0, 0, 0, 0, 0, 0, 0, 0, 0, 0, 0, 0],\n",
    "     [0, 0, 0, 0, 0, 0, 0, 0, 0, 0, 0, 0, 0, 0, 0, 0],\n",
    "     [0, 0, 0, 0, 0, 2, 2, 0, 0, 2, 2, 0, 0, 0, 0, 0],\n",
    "     [0, 0, 0, 0, 2, 0, 2, 0, 2, 0, 2, 0, 0, 0, 0, 0],\n",
    "     [0, 0, 0, 0, 2, 2, 2, 0, 2, 2, 2, 0, 0, 0, 0, 0],\n",
    "     [0, 0, 0, 0, 0, 0, 0, 0, 0, 0, 0, 0, 0, 0, 0, 0],\n",
    "     [0, 0, 0, 0, 2, 0, 0, 0, 0, 0, 0, 2, 0, 0, 0, 0],\n",
    "     [0, 0, 0, 0, 2, 2, 0, 0, 0, 0, 2, 2, 0, 0, 0, 0],\n",
    "     [0, 0, 0, 0, 0, 2, 2, 2, 2, 2, 2, 0, 0, 0, 0, 0],\n",
    "     [0, 0, 0, 0, 0, 0, 2, 2, 2, 2, 0, 0, 0, 0, 0, 0],\n",
    "     [0, 0, 0, 0, 0, 0, 0, 0, 0, 0, 0, 0, 0, 0, 0, 0],\n",
    "     [0, 0, 0, 0, 0, 0, 0, 0, 0, 0, 0, 0, 0, 0, 0, 0],\n",
    "     [0, 0, 0, 0, 0, 0, 0, 0, 0, 0, 0, 0, 0, 0, 0, 0]])\n",
    "\n",
    "pixel_size = 10\n",
    "\n",
    "def put_pixel(x, y, p_size, p_col):\n",
    "    turtle.penup()\n",
    "    turtle.goto(x * p_size, (-1) * y * p_size)\n",
    "    turtle.pendown()\n",
    "    turtle.begin_fill()\n",
    "    turtle.fillcolor(p_col)\n",
    "    turtle.setheading(45)\n",
    "    turtle.circle(p_size / 2 , steps = 4)\n",
    "    turtle.end_fill()\n",
    "    \n",
    "    \n",
    "#Q> 왜 j i 순일까?\n",
    "for j in range(0, 16): #행벡터 방문\n",
    "    for i in range(0, 16): #열벡터 방문\n",
    "        if(face_img[j][i] > 1):\n",
    "            put_pixel(i, j, pixel_size, 'orange')\n",
    "        else:\n",
    "            put_pixel(i, j, pixel_size, 'white')\n",
    "            \n",
    "for j in range(0, 16): #행벡터 방문\n",
    "    for i in range(0, 16): #열벡터 방문\n",
    "        if(smile_img[j][i] > 1):\n",
    "            put_pixel(i + 20, j, pixel_size, 'orange')\n",
    "        else:\n",
    "            put_pixel(i + 20, j, pixel_size, 'white')"
   ]
  },
  {
   "cell_type": "code",
   "execution_count": 1,
   "metadata": {},
   "outputs": [
    {
     "name": "stdout",
     "output_type": "stream",
     "text": [
      "[219 230   3]\n"
     ]
    }
   ],
   "source": [
    "import numpy as np\n",
    "import matplotlib.pyplot as plt\n",
    "import PIL.Image as pilimg\n",
    "\n",
    "\n",
    "im = pilimg.open('rgb_circle.bmp')\n",
    "pix = np.array(im)\n",
    "pix_size = np.array(pix.shape)\n",
    "print(pix_size)\n",
    "\n"
   ]
  },
  {
   "cell_type": "code",
   "execution_count": null,
   "metadata": {},
   "outputs": [],
   "source": []
  }
 ],
 "metadata": {
  "kernelspec": {
   "display_name": "Python 3",
   "language": "python",
   "name": "python3"
  },
  "language_info": {
   "codemirror_mode": {
    "name": "ipython",
    "version": 3
   },
   "file_extension": ".py",
   "mimetype": "text/x-python",
   "name": "python",
   "nbconvert_exporter": "python",
   "pygments_lexer": "ipython3",
   "version": "3.7.3"
  }
 },
 "nbformat": 4,
 "nbformat_minor": 2
}
