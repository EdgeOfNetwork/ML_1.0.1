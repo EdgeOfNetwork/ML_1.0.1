{
 "cells": [
  {
   "cell_type": "code",
   "execution_count": 1,
   "metadata": {},
   "outputs": [
    {
     "name": "stdout",
     "output_type": "stream",
     "text": [
      "3\n",
      "7\n"
     ]
    }
   ],
   "source": [
    "result = 0\n",
    "\n",
    "def add(num):\n",
    "    global result\n",
    "    result += num\n",
    "    return result\n",
    "\n",
    "print(add(3))\n",
    "print(add(4))"
   ]
  },
  {
   "cell_type": "code",
   "execution_count": 3,
   "metadata": {},
   "outputs": [
    {
     "name": "stdout",
     "output_type": "stream",
     "text": [
      "3\n",
      "7\n",
      "3\n",
      "10\n"
     ]
    }
   ],
   "source": [
    "result1 = 0\n",
    "result2 = 0\n",
    "\n",
    "def add1(num):\n",
    "    global result1\n",
    "    result1 += num\n",
    "    return result1\n",
    "\n",
    "def add2(num):\n",
    "    global result2\n",
    "    result2 += num\n",
    "    return result2\n",
    "\n",
    "print(add1(3))\n",
    "print(add1(4))\n",
    "print(add2(3))\n",
    "print(add2(7))"
   ]
  },
  {
   "cell_type": "code",
   "execution_count": 7,
   "metadata": {},
   "outputs": [
    {
     "name": "stdout",
     "output_type": "stream",
     "text": [
      "3\n",
      "7\n",
      "2\n"
     ]
    }
   ],
   "source": [
    "class Calculator:\n",
    "    def __init__(self):\n",
    "        self.result = 0\n",
    "        \n",
    "    def add(self, num):\n",
    "        self.result += num\n",
    "        return self.result\n",
    "    \n",
    "    def sub(self, num):\n",
    "        self.result -= num\n",
    "        return self.result\n",
    "\n",
    "calc1 = Calculator();\n",
    "calc2 = Calculator();\n",
    "\n",
    "print(calc1.add(3))\n",
    "print(calc1.add(4))\n",
    "print(calc1.sub(5))"
   ]
  },
  {
   "cell_type": "code",
   "execution_count": 35,
   "metadata": {},
   "outputs": [
    {
     "name": "stdout",
     "output_type": "stream",
     "text": [
      "10\n",
      "6\n",
      "4\n",
      "16\n"
     ]
    }
   ],
   "source": []
  },
  {
   "cell_type": "code",
   "execution_count": 28,
   "metadata": {},
   "outputs": [
    {
     "name": "stdout",
     "output_type": "stream",
     "text": [
      "4\n",
      "3\n",
      "140718123422624\n",
      "140718123422592\n"
     ]
    }
   ],
   "source": [
    "#self 확인\n",
    "\n",
    "class CalcManage:\n",
    "    def setdata(self, first, second):   # ① 메서드의 매개변수\n",
    "        self.first = first              # ② 메서드의 수행문\n",
    "        self.second = second\n",
    "    \n",
    "res = CalcManage()\n",
    "b = CalcManage()\n",
    "res.setdata(4,2)\n",
    "b.setdata(3,7)\n",
    "\n",
    "print(res.first)\n",
    "print(b.first)\n",
    "\n",
    "print(id(res.first))\n",
    "print(id(b.first))"
   ]
  },
  {
   "cell_type": "code",
   "execution_count": 36,
   "metadata": {},
   "outputs": [
    {
     "name": "stdout",
     "output_type": "stream",
     "text": [
      "10\n",
      "6\n",
      "4\n",
      "16\n"
     ]
    }
   ],
   "source": [
    "import math\n",
    "\n",
    "\n",
    "class Calculator:\n",
    "    def __init__(self, x, y):\n",
    "        self.x = x\n",
    "        self.y = y\n",
    "\n",
    "    def add(self):\n",
    "        result = self.x + self.y\n",
    "        return result\n",
    "    \n",
    "    def sub(self):\n",
    "        result = self.x - self.y\n",
    "        return result\n",
    "    \n",
    "    def div(self):\n",
    "        result = self.x / self.y\n",
    "        return result\n",
    "    \n",
    "    def mul(self):\n",
    "        result = self.x * self.y\n",
    "        return result\n",
    "\n",
    "    \n",
    "calc = Calculator(8,2)\n",
    "\n",
    "print(calc.add())\n",
    "print(calc.sub())\n",
    "print(math.floor(calc.div()))\n",
    "print(calc.mul())\n"
   ]
  },
  {
   "cell_type": "code",
   "execution_count": 40,
   "metadata": {},
   "outputs": [
    {
     "data": {
      "text/plain": [
       "6"
      ]
     },
     "execution_count": 40,
     "metadata": {},
     "output_type": "execute_result"
    }
   ],
   "source": [
    "#상속 확인\n",
    "\n",
    "class MoreCalc(Calculator):\n",
    "    pass\n",
    "\n",
    "a = MoreCalc(4,2)\n",
    "\n",
    "a.add()"
   ]
  },
  {
   "cell_type": "code",
   "execution_count": null,
   "metadata": {},
   "outputs": [],
   "source": []
  }
 ],
 "metadata": {
  "kernelspec": {
   "display_name": "Python 3",
   "language": "python",
   "name": "python3"
  },
  "language_info": {
   "codemirror_mode": {
    "name": "ipython",
    "version": 3
   },
   "file_extension": ".py",
   "mimetype": "text/x-python",
   "name": "python",
   "nbconvert_exporter": "python",
   "pygments_lexer": "ipython3",
   "version": "3.7.3"
  }
 },
 "nbformat": 4,
 "nbformat_minor": 4
}
