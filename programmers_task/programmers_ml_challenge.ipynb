{
 "cells": [
  {
   "cell_type": "markdown",
   "id": "b7a1c956",
   "metadata": {},
   "source": [
    "https://programmers.co.kr/assignments/18013/challenges/849"
   ]
  },
  {
   "cell_type": "code",
   "execution_count": 1,
   "id": "ac0a66a2",
   "metadata": {},
   "outputs": [],
   "source": [
    "import pandas as pd"
   ]
  },
  {
   "cell_type": "code",
   "execution_count": 3,
   "id": "5b58958c",
   "metadata": {},
   "outputs": [],
   "source": [
    "file_location = 'data/'\n",
    "\n",
    "\n",
    "df = pd.read_csv(file_location+'train_job/train.csv')"
   ]
  },
  {
   "cell_type": "code",
   "execution_count": 4,
   "id": "3a93cae1",
   "metadata": {},
   "outputs": [
    {
     "data": {
      "text/html": [
       "<div>\n",
       "<style scoped>\n",
       "    .dataframe tbody tr th:only-of-type {\n",
       "        vertical-align: middle;\n",
       "    }\n",
       "\n",
       "    .dataframe tbody tr th {\n",
       "        vertical-align: top;\n",
       "    }\n",
       "\n",
       "    .dataframe thead th {\n",
       "        text-align: right;\n",
       "    }\n",
       "</style>\n",
       "<table border=\"1\" class=\"dataframe\">\n",
       "  <thead>\n",
       "    <tr style=\"text-align: right;\">\n",
       "      <th></th>\n",
       "      <th>userID</th>\n",
       "      <th>jobID</th>\n",
       "      <th>applied</th>\n",
       "    </tr>\n",
       "  </thead>\n",
       "  <tbody>\n",
       "    <tr>\n",
       "      <th>0</th>\n",
       "      <td>fe292163d06253b716e9a0099b42031d</td>\n",
       "      <td>15de21c670ae7c3f6f3f1f37029303c9</td>\n",
       "      <td>0</td>\n",
       "    </tr>\n",
       "    <tr>\n",
       "      <th>1</th>\n",
       "      <td>6377fa90618fae77571e8dc90d98d409</td>\n",
       "      <td>55b37c5c270e5d84c793e486d798c01d</td>\n",
       "      <td>0</td>\n",
       "    </tr>\n",
       "    <tr>\n",
       "      <th>2</th>\n",
       "      <td>8ec0888a5b04139be0dfe942c7eb4199</td>\n",
       "      <td>0fcbc61acd0479dc77e3cccc0f5ffca7</td>\n",
       "      <td>1</td>\n",
       "    </tr>\n",
       "    <tr>\n",
       "      <th>3</th>\n",
       "      <td>f862b39f767d3a1991bdeb2ea1401c9c</td>\n",
       "      <td>3b5dca501ee1e6d8cd7b905f4e1bf723</td>\n",
       "      <td>0</td>\n",
       "    </tr>\n",
       "    <tr>\n",
       "      <th>4</th>\n",
       "      <td>cac14930c65d72c16efac2c51a6b7f71</td>\n",
       "      <td>287e03db1d99e0ec2edb90d079e142f3</td>\n",
       "      <td>0</td>\n",
       "    </tr>\n",
       "    <tr>\n",
       "      <th>...</th>\n",
       "      <td>...</td>\n",
       "      <td>...</td>\n",
       "      <td>...</td>\n",
       "    </tr>\n",
       "    <tr>\n",
       "      <th>5995</th>\n",
       "      <td>68cb94b97d00979f4e8127915885b641</td>\n",
       "      <td>b9228e0962a78b84f3d5d92f4faa000b</td>\n",
       "      <td>0</td>\n",
       "    </tr>\n",
       "    <tr>\n",
       "      <th>5996</th>\n",
       "      <td>c0b199d73bdf390c2f4c3150b6ee1574</td>\n",
       "      <td>e3796ae838835da0b6f6ea37bcf8bcb7</td>\n",
       "      <td>0</td>\n",
       "    </tr>\n",
       "    <tr>\n",
       "      <th>5997</th>\n",
       "      <td>3ab88dd28f749fe4ec90c0b6f9896eb5</td>\n",
       "      <td>e2a2dcc36a08a345332c751b2f2e476c</td>\n",
       "      <td>0</td>\n",
       "    </tr>\n",
       "    <tr>\n",
       "      <th>5998</th>\n",
       "      <td>75b4af0dacbc119eadf4eeb096738405</td>\n",
       "      <td>3b712de48137572f3849aabd5666a4e3</td>\n",
       "      <td>0</td>\n",
       "    </tr>\n",
       "    <tr>\n",
       "      <th>5999</th>\n",
       "      <td>67adefb430df142b099bed89bd491524</td>\n",
       "      <td>65cc2c8205a05d7379fa3a6386f710e1</td>\n",
       "      <td>0</td>\n",
       "    </tr>\n",
       "  </tbody>\n",
       "</table>\n",
       "<p>6000 rows × 3 columns</p>\n",
       "</div>"
      ],
      "text/plain": [
       "                                userID                             jobID  \\\n",
       "0     fe292163d06253b716e9a0099b42031d  15de21c670ae7c3f6f3f1f37029303c9   \n",
       "1     6377fa90618fae77571e8dc90d98d409  55b37c5c270e5d84c793e486d798c01d   \n",
       "2     8ec0888a5b04139be0dfe942c7eb4199  0fcbc61acd0479dc77e3cccc0f5ffca7   \n",
       "3     f862b39f767d3a1991bdeb2ea1401c9c  3b5dca501ee1e6d8cd7b905f4e1bf723   \n",
       "4     cac14930c65d72c16efac2c51a6b7f71  287e03db1d99e0ec2edb90d079e142f3   \n",
       "...                                ...                               ...   \n",
       "5995  68cb94b97d00979f4e8127915885b641  b9228e0962a78b84f3d5d92f4faa000b   \n",
       "5996  c0b199d73bdf390c2f4c3150b6ee1574  e3796ae838835da0b6f6ea37bcf8bcb7   \n",
       "5997  3ab88dd28f749fe4ec90c0b6f9896eb5  e2a2dcc36a08a345332c751b2f2e476c   \n",
       "5998  75b4af0dacbc119eadf4eeb096738405  3b712de48137572f3849aabd5666a4e3   \n",
       "5999  67adefb430df142b099bed89bd491524  65cc2c8205a05d7379fa3a6386f710e1   \n",
       "\n",
       "      applied  \n",
       "0           0  \n",
       "1           0  \n",
       "2           1  \n",
       "3           0  \n",
       "4           0  \n",
       "...       ...  \n",
       "5995        0  \n",
       "5996        0  \n",
       "5997        0  \n",
       "5998        0  \n",
       "5999        0  \n",
       "\n",
       "[6000 rows x 3 columns]"
      ]
     },
     "execution_count": 4,
     "metadata": {},
     "output_type": "execute_result"
    }
   ],
   "source": [
    "df"
   ]
  },
  {
   "cell_type": "code",
   "execution_count": null,
   "id": "ecab3cf9",
   "metadata": {},
   "outputs": [],
   "source": []
  }
 ],
 "metadata": {
  "kernelspec": {
   "display_name": "Python 3 (ipykernel)",
   "language": "python",
   "name": "python3"
  },
  "language_info": {
   "codemirror_mode": {
    "name": "ipython",
    "version": 3
   },
   "file_extension": ".py",
   "mimetype": "text/x-python",
   "name": "python",
   "nbconvert_exporter": "python",
   "pygments_lexer": "ipython3",
   "version": "3.9.7"
  }
 },
 "nbformat": 4,
 "nbformat_minor": 5
}
