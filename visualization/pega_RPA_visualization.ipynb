{
 "cells": [
  {
   "cell_type": "code",
   "execution_count": 3,
   "id": "82d95998",
   "metadata": {},
   "outputs": [],
   "source": [
    "import numpy as np\n",
    "import pandas as pd\n",
    "import matplotlib.pyplot as plt\n",
    "import seaborn as sns\n",
    "from matplotlib.lines import Line2D\n",
    "\n",
    "sns.set_context(\"talk\")\n",
    "plt.rcParams[\"font.family\"] = \"NanumGothic\"\n",
    "plt.rcParams[\"axes.unicode_minus\"] = False"
   ]
  },
  {
   "cell_type": "code",
   "execution_count": 4,
   "id": "ab1c1adb",
   "metadata": {},
   "outputs": [],
   "source": [
    "#data 읽기\n",
    "rpa = pd.read_excel(\"RPA_comparison.xlsx\")"
   ]
  },
  {
   "cell_type": "code",
   "execution_count": 6,
   "id": "303682ab",
   "metadata": {},
   "outputs": [
    {
     "data": {
      "text/plain": [
       "<AxesSubplot:>"
      ]
     },
     "execution_count": 6,
     "metadata": {},
     "output_type": "execute_result"
    },
    {
     "data": {
      "image/png": "[encoded data removed]",
      "text/plain": [
       "<Figure size 720x288 with 2 Axes>"
      ]
     },
     "metadata": {
      "needs_background": "light"
     },
     "output_type": "display_data"
    }
   ],
   "source": [
    "#visualization\n",
    "fig, axs = plt.subplots(ncols = 2, figsize=(10, 4), gridspec_kw = {\"width_ratios\": [1, 3]},\n",
    "                       constrained_layout = True)\n",
    "cs = [\"brown\", \"royalblue\"]\n",
    "\n",
    "\n",
    "#용역 비용\n",
    "rpa.loc[[0]].plot.bar(ax=axs[0], lw=1, ec=\"w\", legend = False, color = cs)\n",
    "\n",
    "#인력\n",
    "rpa.loc[1:].plot.bar(ax=axs[1], lw=1, ec = \"w\", legend = False, color = cs)"
   ]
  },
  {
   "cell_type": "code",
   "execution_count": null,
   "id": "400947eb",
   "metadata": {},
   "outputs": [],
   "source": []
  }
 ],
 "metadata": {
  "kernelspec": {
   "display_name": "Python 3 (ipykernel)",
   "language": "python",
   "name": "python3"
  },
  "language_info": {
   "codemirror_mode": {
    "name": "ipython",
    "version": 3
   },
   "file_extension": ".py",
   "mimetype": "text/x-python",
   "name": "python",
   "nbconvert_exporter": "python",
   "pygments_lexer": "ipython3",
   "version": "3.9.7"
  }
 },
 "nbformat": 4,
 "nbformat_minor": 5
}
