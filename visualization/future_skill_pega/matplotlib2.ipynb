{
 "cells": [
  {
   "cell_type": "code",
   "execution_count": null,
   "id": "717a9ee2",
   "metadata": {},
   "outputs": [],
   "source": [
    "import matplotlib.pyplot as plt\n",
    "# matplotlib의 pyplot모듈을 plt 라는 이름으로 사용합니다.\n",
    "# 객체지향 방식에서는 plt.subplots 라는 이름으로 사용합니다.\n",
    "\n",
    "#data\n",
    "X = [0, 1, 2, 3, 4]\n",
    "Y = [10, 20, 50, 40, 60]\n",
    "\n",
    "fig, ax = plt.subblots()\n",
    "\n",
    "fig.\n",
    "\n",
    "plt.savefig(파일 이름)\n",
    "# 파일 이름으로 그림을 저장합니다."
   ]
  }
 ],
 "metadata": {
  "kernelspec": {
   "display_name": "Python 3 (ipykernel)",
   "language": "python",
   "name": "python3"
  },
  "language_info": {
   "codemirror_mode": {
    "name": "ipython",
    "version": 3
   },
   "file_extension": ".py",
   "mimetype": "text/x-python",
   "name": "python",
   "nbconvert_exporter": "python",
   "pygments_lexer": "ipython3",
   "version": "3.9.7"
  }
 },
 "nbformat": 4,
 "nbformat_minor": 5
}
