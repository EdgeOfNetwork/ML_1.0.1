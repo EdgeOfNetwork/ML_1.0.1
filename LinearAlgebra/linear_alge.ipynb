{
 "cells": [
  {
   "cell_type": "code",
   "execution_count": 1,
   "metadata": {},
   "outputs": [
    {
     "data": {
      "image/png": "[encoded data removed]",
      "text/plain": [
       "<Figure size 432x288 with 1 Axes>"
      ]
     },
     "metadata": {
      "needs_background": "light"
     },
     "output_type": "display_data"
    }
   ],
   "source": [
    "import numpy as np\n",
    "import matplotlib.pyplot as plt\n",
    "\n",
    "#좌표 (4,3) 지정\n",
    "a = np.array([4,3])\n",
    "\n",
    "#Figure 객체를 만든 후\n",
    "fig = plt.figure()\n",
    "\n",
    "#1x1 개의 서브플롯을 추가하고, 첫번째 서브플롯을 사용한다.\n",
    "ax = fig.add_subplot(1,1,1)\n",
    "\n",
    "#변수 a의 값을 좌표로 사용하여 점을 그린다.\n",
    "#a[0] 이 x 좌표, a[1]이 y좌표 s는 점의 크기\n",
    "ax.scatter(a[0], a[1], s= 30)\n",
    "\n",
    "\n",
    "#점 옆에 문자 a 표시, size는 문자의 크기\n",
    "ax.text(a[0] + 0.2, a[1]+0.2, 'a', size=15)\n",
    "\n",
    "#x축, y축 눈금 범위를 -5~ 5로 지정\n",
    "ax.set_xticks(range(-5,6))\n",
    "ax.set_yticks(range(-5,6))\n",
    "\n",
    "#그리드 좌표축 아래에 표시\n",
    "ax.grid()\n",
    "ax.set_axisbelow(True)\n",
    "\n",
    "#x축과 y축 눈금의 비율을 1:!로\n",
    "#창 크기를 변경해도 비율 유지\n",
    "ax.set_aspect('equal',adjustable='box')\n",
    "\n",
    "#원점에 좌표축이 보이게\n",
    "#왼쪽 y축과 아래 x축을 0,0으로 이동\n",
    "ax.spines['left'].set_position('zero')\n",
    "ax.spines['bottom'].set_position('zero')\n",
    "\n",
    "#위쪽과 오른쪽 축을 제거\n",
    "ax.spines['right'].set_color('none')\n",
    "ax.spines['top'].set_color('none')\n",
    "\n",
    "#그리기\n",
    "plt.show()"
   ]
  },
  {
   "cell_type": "code",
   "execution_count": null,
   "metadata": {},
   "outputs": [],
   "source": []
  }
 ],
 "metadata": {
  "kernelspec": {
   "display_name": "Python 3",
   "language": "python",
   "name": "python3"
  },
  "language_info": {
   "codemirror_mode": {
    "name": "ipython",
    "version": 3
   },
   "file_extension": ".py",
   "mimetype": "text/x-python",
   "name": "python",
   "nbconvert_exporter": "python",
   "pygments_lexer": "ipython3",
   "version": "3.7.6"
  }
 },
 "nbformat": 4,
 "nbformat_minor": 4
}
